{
 "cells": [
  {
   "cell_type": "markdown",
   "metadata": {},
   "source": [
    "# Udacity Project: Data Wrangling and Analyzing Twitter Dog Rating Data\n",
    "\n",
    "Real World data can often be messy and unorganized. As a data analyst, there may often be times when data must be collected\n",
    "from various sources. This can include extracting data from databases, retrieving data from flat files, or having to scrape data off the Internet. The acquisition of data is referred to as the gathering phase of data wrangling. It is the first of three steps when wrangling data. The next phase of the process is assessing the data.\n",
    "\n",
    "During this process, we can use visual or programmatic assessments to assess the quality and tidiness of data. Data with quality issues is known as low quality data or dirty data. Quality issues can  include rows with missing values, invalid data, inaccurate data, or data that has inconsistent units of measurement. An example of the latter would be having a column that indicates temperature yet has some rows with readings given in Celsius and others in Fahrenheit when all the rows should be consistent and only be of Celsius or Fahrenheit, not both. The other issue with data can be untidy data also known as messy data. This refers to data that is not structurally sound. An example could be having a column that consists of a person's height and weight, when in fact height and weight should be separate columns. Other structural issues may involve having an excess number of tables that share common column names with identical data types that could be merged to ease the analysis process. Once we have completed the assessment process and taken note of each of the quality and tidiness issues, the last step in the wrangling process is data cleaning.\n",
    "\n",
    "In the data cleaning phase, we define the tasks needed to correct the quality and tidiness issues with the data. Once we defined the tasks, we use code to execute the tasks. The final process is testing out the code to confirm that the changes have been properly applied. The data wrangling process can be a reiterative process. The data cleaning process may near completion only to realize that more data needs to be gathered, or that the data needs to be reassessed to find more quality or tidiness issues. \n",
    "\n",
    "## The outline for this project is going to consist of the following 6 steps:\n",
    "1. Gathering data\n",
    "2. Assessing the data\n",
    "3. Data cleaning\n",
    "4. Data exploration\n",
    "5. Data analysis\n",
    "6. Presentation via written summary\n",
    "\n",
    "There most likely will be overlapping of the steps above and having to reiterate certain steps in order to present an accurate analysis. \n",
    "\n",
    "\n",
    "The theme of this project will be analyzing Tweeter dog rating data as noted below.\n",
    "### Wrangle and Analyze: WeRateDogs ([@dog_rates](https://twitter.com/dog_rates))"
   ]
  },
  {
   "cell_type": "markdown",
   "metadata": {},
   "source": [
    "## Gathering\n",
    "The gathering process for this project will consist of collecting data from three different sources.\n",
    "1. Retrieving the WeRateDogs Twitter archive file via download from thelink provided within the project instructions\n",
    "2. Acquiring the tweet image predictions by using the Requests library to access the file on Udacity's servers\n",
    "3. Using Tweepy to query Twitter's API for data that is not included in the following two files above\n"
   ]
  },
  {
   "cell_type": "markdown",
   "metadata": {},
   "source": [
    "Before going any further, all the necessary libraries for this project will be downloaded."
   ]
  },
  {
   "cell_type": "code",
   "execution_count": 91,
   "metadata": {},
   "outputs": [],
   "source": [
    "# Importing all the necessary libraries at once to avoid potential issues later on\n",
    "import numpy as np\n",
    "import pandas as pd\n",
    "import requests\n",
    "import json\n",
    "import time\n",
    "from timeit import default_timer as timer\n",
    "import os\n",
    "import tweepy\n",
    "from tweepy import OAuthHandler\n",
    "from matplotlib import pyplot as plt\n",
    "import seaborn as sn\n",
    "from IPython.display import Image\n",
    "sn.set()\n",
    "%matplotlib inline"
   ]
  },
  {
   "cell_type": "code",
   "execution_count": 2,
   "metadata": {},
   "outputs": [],
   "source": [
    "# 1. Uploading the WeRateDogs Twitter archive as a pandas dataframe\n",
    "df = pd.read_csv(\"C:\\\\Users\\\\teamd\\\\WeRateDogs\\\\twitter-archive-enhanced.csv\")"
   ]
  },
  {
   "cell_type": "code",
   "execution_count": 3,
   "metadata": {},
   "outputs": [
    {
     "data": {
      "text/html": [
       "<div>\n",
       "<style scoped>\n",
       "    .dataframe tbody tr th:only-of-type {\n",
       "        vertical-align: middle;\n",
       "    }\n",
       "\n",
       "    .dataframe tbody tr th {\n",
       "        vertical-align: top;\n",
       "    }\n",
       "\n",
       "    .dataframe thead th {\n",
       "        text-align: right;\n",
       "    }\n",
       "</style>\n",
       "<table border=\"1\" class=\"dataframe\">\n",
       "  <thead>\n",
       "    <tr style=\"text-align: right;\">\n",
       "      <th></th>\n",
       "      <th>tweet_id</th>\n",
       "      <th>in_reply_to_status_id</th>\n",
       "      <th>in_reply_to_user_id</th>\n",
       "      <th>timestamp</th>\n",
       "      <th>source</th>\n",
       "      <th>text</th>\n",
       "      <th>retweeted_status_id</th>\n",
       "      <th>retweeted_status_user_id</th>\n",
       "      <th>retweeted_status_timestamp</th>\n",
       "      <th>expanded_urls</th>\n",
       "      <th>rating_numerator</th>\n",
       "      <th>rating_denominator</th>\n",
       "      <th>name</th>\n",
       "      <th>doggo</th>\n",
       "      <th>floofer</th>\n",
       "      <th>pupper</th>\n",
       "      <th>puppo</th>\n",
       "    </tr>\n",
       "  </thead>\n",
       "  <tbody>\n",
       "    <tr>\n",
       "      <th>0</th>\n",
       "      <td>892420643555336193</td>\n",
       "      <td>NaN</td>\n",
       "      <td>NaN</td>\n",
       "      <td>2017-08-01 16:23:56 +0000</td>\n",
       "      <td>&lt;a href=\"http://twitter.com/download/iphone\" r...</td>\n",
       "      <td>This is Phineas. He's a mystical boy. Only eve...</td>\n",
       "      <td>NaN</td>\n",
       "      <td>NaN</td>\n",
       "      <td>NaN</td>\n",
       "      <td>https://twitter.com/dog_rates/status/892420643...</td>\n",
       "      <td>13</td>\n",
       "      <td>10</td>\n",
       "      <td>Phineas</td>\n",
       "      <td>None</td>\n",
       "      <td>None</td>\n",
       "      <td>None</td>\n",
       "      <td>None</td>\n",
       "    </tr>\n",
       "  </tbody>\n",
       "</table>\n",
       "</div>"
      ],
      "text/plain": [
       "             tweet_id  in_reply_to_status_id  in_reply_to_user_id  \\\n",
       "0  892420643555336193                    NaN                  NaN   \n",
       "\n",
       "                   timestamp  \\\n",
       "0  2017-08-01 16:23:56 +0000   \n",
       "\n",
       "                                              source  \\\n",
       "0  <a href=\"http://twitter.com/download/iphone\" r...   \n",
       "\n",
       "                                                text  retweeted_status_id  \\\n",
       "0  This is Phineas. He's a mystical boy. Only eve...                  NaN   \n",
       "\n",
       "   retweeted_status_user_id retweeted_status_timestamp  \\\n",
       "0                       NaN                        NaN   \n",
       "\n",
       "                                       expanded_urls  rating_numerator  \\\n",
       "0  https://twitter.com/dog_rates/status/892420643...                13   \n",
       "\n",
       "   rating_denominator     name doggo floofer pupper puppo  \n",
       "0                  10  Phineas  None    None   None  None  "
      ]
     },
     "execution_count": 3,
     "metadata": {},
     "output_type": "execute_result"
    }
   ],
   "source": [
    "# Confirming success in uploading the file as a dataframe\n",
    "df.head(1)"
   ]
  },
  {
   "cell_type": "code",
   "execution_count": 4,
   "metadata": {},
   "outputs": [
    {
     "name": "stdout",
     "output_type": "stream",
     "text": [
      "<class 'pandas.core.frame.DataFrame'>\n",
      "RangeIndex: 2356 entries, 0 to 2355\n",
      "Data columns (total 17 columns):\n",
      "tweet_id                      2356 non-null int64\n",
      "in_reply_to_status_id         78 non-null float64\n",
      "in_reply_to_user_id           78 non-null float64\n",
      "timestamp                     2356 non-null object\n",
      "source                        2356 non-null object\n",
      "text                          2356 non-null object\n",
      "retweeted_status_id           181 non-null float64\n",
      "retweeted_status_user_id      181 non-null float64\n",
      "retweeted_status_timestamp    181 non-null object\n",
      "expanded_urls                 2297 non-null object\n",
      "rating_numerator              2356 non-null int64\n",
      "rating_denominator            2356 non-null int64\n",
      "name                          2356 non-null object\n",
      "doggo                         2356 non-null object\n",
      "floofer                       2356 non-null object\n",
      "pupper                        2356 non-null object\n",
      "puppo                         2356 non-null object\n",
      "dtypes: float64(4), int64(3), object(10)\n",
      "memory usage: 313.0+ KB\n"
     ]
    }
   ],
   "source": [
    "df.info()"
   ]
  },
  {
   "cell_type": "code",
   "execution_count": 4,
   "metadata": {},
   "outputs": [
    {
     "data": {
      "text/plain": [
       "<Response [200]>"
      ]
     },
     "execution_count": 4,
     "metadata": {},
     "output_type": "execute_result"
    }
   ],
   "source": [
    "# Programmatically downloading the tweet image predictions file using the requests library\n",
    "folder_name = 'tweet_image_predictions'\n",
    "if not os.path.exists(folder_name):\n",
    "    os.makedirs(folder_name)\n",
    "    \n",
    "url = 'https://d17h27t6h515a5.cloudfront.net/topher/2017/August/599fd2ad_image-predictions/image-predictions.tsv'\n",
    "response = requests.get(url)\n",
    "response"
   ]
  },
  {
   "cell_type": "code",
   "execution_count": 5,
   "metadata": {},
   "outputs": [
    {
     "data": {
      "text/plain": [
       "['image-predictions.tsv']"
      ]
     },
     "execution_count": 5,
     "metadata": {},
     "output_type": "execute_result"
    }
   ],
   "source": [
    "# Confirming that I have downloaded the tsv file\n",
    "with open(os.path.join(folder_name, url.split('/')[-1]), mode = 'wb') as file:\n",
    "    file.write(response.content)\n",
    "os.listdir(folder_name)"
   ]
  },
  {
   "cell_type": "code",
   "execution_count": 6,
   "metadata": {},
   "outputs": [],
   "source": [
    "# Reading in the images file as a pandas dataframe\n",
    "images = pd.read_csv('tweet_image_predictions/image-predictions.tsv', sep ='\\t')"
   ]
  },
  {
   "cell_type": "code",
   "execution_count": 7,
   "metadata": {},
   "outputs": [
    {
     "data": {
      "text/html": [
       "<div>\n",
       "<style scoped>\n",
       "    .dataframe tbody tr th:only-of-type {\n",
       "        vertical-align: middle;\n",
       "    }\n",
       "\n",
       "    .dataframe tbody tr th {\n",
       "        vertical-align: top;\n",
       "    }\n",
       "\n",
       "    .dataframe thead th {\n",
       "        text-align: right;\n",
       "    }\n",
       "</style>\n",
       "<table border=\"1\" class=\"dataframe\">\n",
       "  <thead>\n",
       "    <tr style=\"text-align: right;\">\n",
       "      <th></th>\n",
       "      <th>tweet_id</th>\n",
       "      <th>jpg_url</th>\n",
       "      <th>img_num</th>\n",
       "      <th>p1</th>\n",
       "      <th>p1_conf</th>\n",
       "      <th>p1_dog</th>\n",
       "      <th>p2</th>\n",
       "      <th>p2_conf</th>\n",
       "      <th>p2_dog</th>\n",
       "      <th>p3</th>\n",
       "      <th>p3_conf</th>\n",
       "      <th>p3_dog</th>\n",
       "    </tr>\n",
       "  </thead>\n",
       "  <tbody>\n",
       "    <tr>\n",
       "      <th>0</th>\n",
       "      <td>666020888022790149</td>\n",
       "      <td>https://pbs.twimg.com/media/CT4udn0WwAA0aMy.jpg</td>\n",
       "      <td>1</td>\n",
       "      <td>Welsh_springer_spaniel</td>\n",
       "      <td>0.465074</td>\n",
       "      <td>True</td>\n",
       "      <td>collie</td>\n",
       "      <td>0.156665</td>\n",
       "      <td>True</td>\n",
       "      <td>Shetland_sheepdog</td>\n",
       "      <td>0.061428</td>\n",
       "      <td>True</td>\n",
       "    </tr>\n",
       "  </tbody>\n",
       "</table>\n",
       "</div>"
      ],
      "text/plain": [
       "             tweet_id                                          jpg_url  \\\n",
       "0  666020888022790149  https://pbs.twimg.com/media/CT4udn0WwAA0aMy.jpg   \n",
       "\n",
       "   img_num                      p1   p1_conf  p1_dog      p2   p2_conf  \\\n",
       "0        1  Welsh_springer_spaniel  0.465074    True  collie  0.156665   \n",
       "\n",
       "   p2_dog                 p3   p3_conf  p3_dog  \n",
       "0    True  Shetland_sheepdog  0.061428    True  "
      ]
     },
     "execution_count": 7,
     "metadata": {},
     "output_type": "execute_result"
    }
   ],
   "source": [
    "# Testing to see that the images dataframe has been created\n",
    "images.head(1)"
   ]
  },
  {
   "cell_type": "code",
   "execution_count": 16,
   "metadata": {},
   "outputs": [
    {
     "name": "stdout",
     "output_type": "stream",
     "text": [
      "<class 'pandas.core.frame.DataFrame'>\n",
      "RangeIndex: 2075 entries, 0 to 2074\n",
      "Data columns (total 12 columns):\n",
      "tweet_id    2075 non-null int64\n",
      "jpg_url     2075 non-null object\n",
      "img_num     2075 non-null int64\n",
      "p1          2075 non-null object\n",
      "p1_conf     2075 non-null float64\n",
      "p1_dog      2075 non-null bool\n",
      "p2          2075 non-null object\n",
      "p2_conf     2075 non-null float64\n",
      "p2_dog      2075 non-null bool\n",
      "p3          2075 non-null object\n",
      "p3_conf     2075 non-null float64\n",
      "p3_dog      2075 non-null bool\n",
      "dtypes: bool(3), float64(3), int64(2), object(4)\n",
      "memory usage: 152.1+ KB\n"
     ]
    }
   ],
   "source": [
    "images.info()"
   ]
  },
  {
   "cell_type": "code",
   "execution_count": 30,
   "metadata": {},
   "outputs": [],
   "source": [
    "# The Twitter API object used to extract more data and save locally\n",
    "consumer_key = 'HIDDEN'\n",
    "consumer_secret = 'HIDDEN'\n",
    "access_token =  'HIDDEN'\n",
    "access_secret = 'HIDDEN'\n",
    "\n",
    "auth = tweepy.OAuthHandler(consumer_key, consumer_secret)\n",
    "auth.set_access_token(access_token, access_secret)\n",
    "\n",
    "api = tweepy.API(auth, wait_on_rate_limit=True, wait_on_rate_limit_notify=True)"
   ]
  },
  {
   "cell_type": "code",
   "execution_count": 31,
   "metadata": {},
   "outputs": [
    {
     "data": {
      "text/plain": [
       "2356"
      ]
     },
     "execution_count": 31,
     "metadata": {},
     "output_type": "execute_result"
    }
   ],
   "source": [
    "tweet_ids = df.tweet_id.values\n",
    "len(tweet_ids)"
   ]
  },
  {
   "cell_type": "code",
   "execution_count": 39,
   "metadata": {},
   "outputs": [],
   "source": [
    "# Creaing a list soley consisting of the tweet ids\n",
    "tweet_ids = df['tweet_id'] "
   ]
  },
  {
   "cell_type": "code",
   "execution_count": 41,
   "metadata": {},
   "outputs": [
    {
     "data": {
      "text/plain": [
       "0    892420643555336193\n",
       "1    892177421306343426\n",
       "2    891815181378084864\n",
       "3    891689557279858688\n",
       "4    891327558926688256\n",
       "5    891087950875897856\n",
       "Name: tweet_id, dtype: int64"
      ]
     },
     "execution_count": 41,
     "metadata": {},
     "output_type": "execute_result"
    }
   ],
   "source": [
    "tweet_ids[:6]"
   ]
  },
  {
   "cell_type": "code",
   "execution_count": 42,
   "metadata": {},
   "outputs": [
    {
     "name": "stderr",
     "output_type": "stream",
     "text": [
      "Rate limit reached. Sleeping for: 669\n",
      "Rate limit reached. Sleeping for: 652\n"
     ]
    },
    {
     "name": "stdout",
     "output_type": "stream",
     "text": [
      "The total time taken for excecution was 1940.4799065589905.\n"
     ]
    }
   ],
   "source": [
    "# Using the Twitter API to create a list that will later be turned into a dataframe\n",
    "# Will use the append function to select variables needed for analysis\n",
    "\n",
    "# Creating a list tweets\n",
    "tweet_data = []\n",
    "\n",
    "# Creating a list of the tweets with errors\n",
    "\n",
    "failure_list = []\n",
    "\n",
    "# execution starting time\n",
    "\n",
    "start = time.time()\n",
    "\n",
    "# Applying a for loop to each tweet_id in tweet_ids and creating 3 variables (tweet_id, favorite_count, and retweet_count)\n",
    "# The three variables will be used to create a dictionary which will be appended to tweet_data\n",
    "for tweet_id in tweet_ids:\n",
    "    try:\n",
    "        data = api.get_status(tweet_id, tweet_mode = 'extended')._json\n",
    "        favorites = data['favorite_count']\n",
    "        retweets = data['retweet_count']\n",
    "        tweet_data.append({'tweet_id': int(tweet_id),\n",
    "                          'favorites': int(favorites),\n",
    "                          'retweets': int(retweets)})\n",
    "    except:\n",
    "        failure_list.append(tweet_id)\n",
    "        \n",
    "# Ending execution time\n",
    "end = time.time()\n",
    "total_time = (end-start)\n",
    "print('The total time taken for excecution was {}.'.format(total_time))"
   ]
  },
  {
   "cell_type": "code",
   "execution_count": 43,
   "metadata": {},
   "outputs": [
    {
     "data": {
      "text/plain": [
       "2330"
      ]
     },
     "execution_count": 43,
     "metadata": {},
     "output_type": "execute_result"
    }
   ],
   "source": [
    "# Seeing how many tweets are in tweet_data\n",
    "len(tweet_data)"
   ]
  },
  {
   "cell_type": "code",
   "execution_count": 44,
   "metadata": {},
   "outputs": [
    {
     "data": {
      "text/plain": [
       "26"
      ]
     },
     "execution_count": 44,
     "metadata": {},
     "output_type": "execute_result"
    }
   ],
   "source": [
    "# Seeing how many errors occurred\n",
    "len(failure_list)"
   ]
  },
  {
   "cell_type": "code",
   "execution_count": 45,
   "metadata": {},
   "outputs": [
    {
     "data": {
      "text/plain": [
       "[{'tweet_id': 892420643555336193, 'favorites': 36241, 'retweets': 7712},\n",
       " {'tweet_id': 892177421306343426, 'favorites': 31250, 'retweets': 5699},\n",
       " {'tweet_id': 891815181378084864, 'favorites': 23531, 'retweets': 3778}]"
      ]
     },
     "execution_count": 45,
     "metadata": {},
     "output_type": "execute_result"
    }
   ],
   "source": [
    "tweet_data[:3] "
   ]
  },
  {
   "cell_type": "markdown",
   "metadata": {},
   "source": [
    "In order to prevent from potentially having to rerun the above process, the tweet_data will be saved into txt file named 'tweet_data_json'. This will enable the file to be stored locally and which can be accessed at a later time if needed."
   ]
  },
  {
   "cell_type": "code",
   "execution_count": 46,
   "metadata": {},
   "outputs": [],
   "source": [
    "# Storing the data to a json.text file\n",
    "with open('tweet_data_json.txt', mode='w') as data:\n",
    "    json.dump(tweet_data, data)"
   ]
  },
  {
   "cell_type": "code",
   "execution_count": 47,
   "metadata": {},
   "outputs": [],
   "source": [
    "tweets_df = pd.read_json('tweet_data_json.txt')"
   ]
  },
  {
   "cell_type": "code",
   "execution_count": 66,
   "metadata": {},
   "outputs": [],
   "source": [
    "# Create a new datafram from the tweet_data_list above\n",
    "df2 = pd.DataFrame(tweet_data, columns = ['tweet_id', 'favorites', 'retweets'])\n",
    "# Renaming the favorites and retweets columns for easier clarification \n",
    "df2 = df2.rename(columns={'favorites':'favorites_count', 'retweets':'retweets_count'})"
   ]
  },
  {
   "cell_type": "code",
   "execution_count": 65,
   "metadata": {},
   "outputs": [
    {
     "data": {
      "text/html": [
       "<div>\n",
       "<style scoped>\n",
       "    .dataframe tbody tr th:only-of-type {\n",
       "        vertical-align: middle;\n",
       "    }\n",
       "\n",
       "    .dataframe tbody tr th {\n",
       "        vertical-align: top;\n",
       "    }\n",
       "\n",
       "    .dataframe thead th {\n",
       "        text-align: right;\n",
       "    }\n",
       "</style>\n",
       "<table border=\"1\" class=\"dataframe\">\n",
       "  <thead>\n",
       "    <tr style=\"text-align: right;\">\n",
       "      <th></th>\n",
       "      <th>tweet_id</th>\n",
       "      <th>favorites_count</th>\n",
       "      <th>retweets_count</th>\n",
       "    </tr>\n",
       "  </thead>\n",
       "  <tbody>\n",
       "    <tr>\n",
       "      <th>0</th>\n",
       "      <td>892420643555336193</td>\n",
       "      <td>36241</td>\n",
       "      <td>7712</td>\n",
       "    </tr>\n",
       "    <tr>\n",
       "      <th>1</th>\n",
       "      <td>892177421306343426</td>\n",
       "      <td>31250</td>\n",
       "      <td>5699</td>\n",
       "    </tr>\n",
       "    <tr>\n",
       "      <th>2</th>\n",
       "      <td>891815181378084864</td>\n",
       "      <td>23531</td>\n",
       "      <td>3778</td>\n",
       "    </tr>\n",
       "    <tr>\n",
       "      <th>3</th>\n",
       "      <td>891689557279858688</td>\n",
       "      <td>39518</td>\n",
       "      <td>7868</td>\n",
       "    </tr>\n",
       "    <tr>\n",
       "      <th>4</th>\n",
       "      <td>891327558926688256</td>\n",
       "      <td>37726</td>\n",
       "      <td>8484</td>\n",
       "    </tr>\n",
       "    <tr>\n",
       "      <th>5</th>\n",
       "      <td>891087950875897856</td>\n",
       "      <td>19005</td>\n",
       "      <td>2841</td>\n",
       "    </tr>\n",
       "    <tr>\n",
       "      <th>6</th>\n",
       "      <td>890971913173991426</td>\n",
       "      <td>11072</td>\n",
       "      <td>1851</td>\n",
       "    </tr>\n",
       "    <tr>\n",
       "      <th>7</th>\n",
       "      <td>890729181411237888</td>\n",
       "      <td>61040</td>\n",
       "      <td>17210</td>\n",
       "    </tr>\n",
       "    <tr>\n",
       "      <th>8</th>\n",
       "      <td>890609185150312448</td>\n",
       "      <td>26173</td>\n",
       "      <td>3916</td>\n",
       "    </tr>\n",
       "    <tr>\n",
       "      <th>9</th>\n",
       "      <td>890240255349198849</td>\n",
       "      <td>29896</td>\n",
       "      <td>6701</td>\n",
       "    </tr>\n",
       "  </tbody>\n",
       "</table>\n",
       "</div>"
      ],
      "text/plain": [
       "             tweet_id  favorites_count  retweets_count\n",
       "0  892420643555336193            36241            7712\n",
       "1  892177421306343426            31250            5699\n",
       "2  891815181378084864            23531            3778\n",
       "3  891689557279858688            39518            7868\n",
       "4  891327558926688256            37726            8484\n",
       "5  891087950875897856            19005            2841\n",
       "6  890971913173991426            11072            1851\n",
       "7  890729181411237888            61040           17210\n",
       "8  890609185150312448            26173            3916\n",
       "9  890240255349198849            29896            6701"
      ]
     },
     "execution_count": 65,
     "metadata": {},
     "output_type": "execute_result"
    }
   ],
   "source": [
    "df2.head(10)"
   ]
  },
  {
   "cell_type": "code",
   "execution_count": 68,
   "metadata": {},
   "outputs": [],
   "source": [
    "# Saving the dataframe into a csv file\n",
    "df2.to_csv('tweet_json_data.txt', encoding = 'utf-8', index=False)"
   ]
  },
  {
   "cell_type": "code",
   "execution_count": 8,
   "metadata": {},
   "outputs": [],
   "source": [
    "df_tweets = pd.read_csv('tweet_json_data.txt')"
   ]
  },
  {
   "cell_type": "markdown",
   "metadata": {},
   "source": [
    "## Assess "
   ]
  },
  {
   "cell_type": "markdown",
   "metadata": {},
   "source": [
    "### Twitter Archive Data (df table) visual assessment"
   ]
  },
  {
   "cell_type": "code",
   "execution_count": 9,
   "metadata": {},
   "outputs": [
    {
     "data": {
      "text/html": [
       "<div>\n",
       "<style scoped>\n",
       "    .dataframe tbody tr th:only-of-type {\n",
       "        vertical-align: middle;\n",
       "    }\n",
       "\n",
       "    .dataframe tbody tr th {\n",
       "        vertical-align: top;\n",
       "    }\n",
       "\n",
       "    .dataframe thead th {\n",
       "        text-align: right;\n",
       "    }\n",
       "</style>\n",
       "<table border=\"1\" class=\"dataframe\">\n",
       "  <thead>\n",
       "    <tr style=\"text-align: right;\">\n",
       "      <th></th>\n",
       "      <th>tweet_id</th>\n",
       "      <th>in_reply_to_status_id</th>\n",
       "      <th>in_reply_to_user_id</th>\n",
       "      <th>timestamp</th>\n",
       "      <th>source</th>\n",
       "      <th>text</th>\n",
       "      <th>retweeted_status_id</th>\n",
       "      <th>retweeted_status_user_id</th>\n",
       "      <th>retweeted_status_timestamp</th>\n",
       "      <th>expanded_urls</th>\n",
       "      <th>rating_numerator</th>\n",
       "      <th>rating_denominator</th>\n",
       "      <th>name</th>\n",
       "      <th>doggo</th>\n",
       "      <th>floofer</th>\n",
       "      <th>pupper</th>\n",
       "      <th>puppo</th>\n",
       "    </tr>\n",
       "  </thead>\n",
       "  <tbody>\n",
       "    <tr>\n",
       "      <th>0</th>\n",
       "      <td>892420643555336193</td>\n",
       "      <td>NaN</td>\n",
       "      <td>NaN</td>\n",
       "      <td>2017-08-01 16:23:56 +0000</td>\n",
       "      <td>&lt;a href=\"http://twitter.com/download/iphone\" r...</td>\n",
       "      <td>This is Phineas. He's a mystical boy. Only eve...</td>\n",
       "      <td>NaN</td>\n",
       "      <td>NaN</td>\n",
       "      <td>NaN</td>\n",
       "      <td>https://twitter.com/dog_rates/status/892420643...</td>\n",
       "      <td>13</td>\n",
       "      <td>10</td>\n",
       "      <td>Phineas</td>\n",
       "      <td>None</td>\n",
       "      <td>None</td>\n",
       "      <td>None</td>\n",
       "      <td>None</td>\n",
       "    </tr>\n",
       "    <tr>\n",
       "      <th>1</th>\n",
       "      <td>892177421306343426</td>\n",
       "      <td>NaN</td>\n",
       "      <td>NaN</td>\n",
       "      <td>2017-08-01 00:17:27 +0000</td>\n",
       "      <td>&lt;a href=\"http://twitter.com/download/iphone\" r...</td>\n",
       "      <td>This is Tilly. She's just checking pup on you....</td>\n",
       "      <td>NaN</td>\n",
       "      <td>NaN</td>\n",
       "      <td>NaN</td>\n",
       "      <td>https://twitter.com/dog_rates/status/892177421...</td>\n",
       "      <td>13</td>\n",
       "      <td>10</td>\n",
       "      <td>Tilly</td>\n",
       "      <td>None</td>\n",
       "      <td>None</td>\n",
       "      <td>None</td>\n",
       "      <td>None</td>\n",
       "    </tr>\n",
       "    <tr>\n",
       "      <th>2</th>\n",
       "      <td>891815181378084864</td>\n",
       "      <td>NaN</td>\n",
       "      <td>NaN</td>\n",
       "      <td>2017-07-31 00:18:03 +0000</td>\n",
       "      <td>&lt;a href=\"http://twitter.com/download/iphone\" r...</td>\n",
       "      <td>This is Archie. He is a rare Norwegian Pouncin...</td>\n",
       "      <td>NaN</td>\n",
       "      <td>NaN</td>\n",
       "      <td>NaN</td>\n",
       "      <td>https://twitter.com/dog_rates/status/891815181...</td>\n",
       "      <td>12</td>\n",
       "      <td>10</td>\n",
       "      <td>Archie</td>\n",
       "      <td>None</td>\n",
       "      <td>None</td>\n",
       "      <td>None</td>\n",
       "      <td>None</td>\n",
       "    </tr>\n",
       "    <tr>\n",
       "      <th>3</th>\n",
       "      <td>891689557279858688</td>\n",
       "      <td>NaN</td>\n",
       "      <td>NaN</td>\n",
       "      <td>2017-07-30 15:58:51 +0000</td>\n",
       "      <td>&lt;a href=\"http://twitter.com/download/iphone\" r...</td>\n",
       "      <td>This is Darla. She commenced a snooze mid meal...</td>\n",
       "      <td>NaN</td>\n",
       "      <td>NaN</td>\n",
       "      <td>NaN</td>\n",
       "      <td>https://twitter.com/dog_rates/status/891689557...</td>\n",
       "      <td>13</td>\n",
       "      <td>10</td>\n",
       "      <td>Darla</td>\n",
       "      <td>None</td>\n",
       "      <td>None</td>\n",
       "      <td>None</td>\n",
       "      <td>None</td>\n",
       "    </tr>\n",
       "    <tr>\n",
       "      <th>4</th>\n",
       "      <td>891327558926688256</td>\n",
       "      <td>NaN</td>\n",
       "      <td>NaN</td>\n",
       "      <td>2017-07-29 16:00:24 +0000</td>\n",
       "      <td>&lt;a href=\"http://twitter.com/download/iphone\" r...</td>\n",
       "      <td>This is Franklin. He would like you to stop ca...</td>\n",
       "      <td>NaN</td>\n",
       "      <td>NaN</td>\n",
       "      <td>NaN</td>\n",
       "      <td>https://twitter.com/dog_rates/status/891327558...</td>\n",
       "      <td>12</td>\n",
       "      <td>10</td>\n",
       "      <td>Franklin</td>\n",
       "      <td>None</td>\n",
       "      <td>None</td>\n",
       "      <td>None</td>\n",
       "      <td>None</td>\n",
       "    </tr>\n",
       "    <tr>\n",
       "      <th>5</th>\n",
       "      <td>891087950875897856</td>\n",
       "      <td>NaN</td>\n",
       "      <td>NaN</td>\n",
       "      <td>2017-07-29 00:08:17 +0000</td>\n",
       "      <td>&lt;a href=\"http://twitter.com/download/iphone\" r...</td>\n",
       "      <td>Here we have a majestic great white breaching ...</td>\n",
       "      <td>NaN</td>\n",
       "      <td>NaN</td>\n",
       "      <td>NaN</td>\n",
       "      <td>https://twitter.com/dog_rates/status/891087950...</td>\n",
       "      <td>13</td>\n",
       "      <td>10</td>\n",
       "      <td>None</td>\n",
       "      <td>None</td>\n",
       "      <td>None</td>\n",
       "      <td>None</td>\n",
       "      <td>None</td>\n",
       "    </tr>\n",
       "    <tr>\n",
       "      <th>6</th>\n",
       "      <td>890971913173991426</td>\n",
       "      <td>NaN</td>\n",
       "      <td>NaN</td>\n",
       "      <td>2017-07-28 16:27:12 +0000</td>\n",
       "      <td>&lt;a href=\"http://twitter.com/download/iphone\" r...</td>\n",
       "      <td>Meet Jax. He enjoys ice cream so much he gets ...</td>\n",
       "      <td>NaN</td>\n",
       "      <td>NaN</td>\n",
       "      <td>NaN</td>\n",
       "      <td>https://gofundme.com/ydvmve-surgery-for-jax,ht...</td>\n",
       "      <td>13</td>\n",
       "      <td>10</td>\n",
       "      <td>Jax</td>\n",
       "      <td>None</td>\n",
       "      <td>None</td>\n",
       "      <td>None</td>\n",
       "      <td>None</td>\n",
       "    </tr>\n",
       "  </tbody>\n",
       "</table>\n",
       "</div>"
      ],
      "text/plain": [
       "             tweet_id  in_reply_to_status_id  in_reply_to_user_id  \\\n",
       "0  892420643555336193                    NaN                  NaN   \n",
       "1  892177421306343426                    NaN                  NaN   \n",
       "2  891815181378084864                    NaN                  NaN   \n",
       "3  891689557279858688                    NaN                  NaN   \n",
       "4  891327558926688256                    NaN                  NaN   \n",
       "5  891087950875897856                    NaN                  NaN   \n",
       "6  890971913173991426                    NaN                  NaN   \n",
       "\n",
       "                   timestamp  \\\n",
       "0  2017-08-01 16:23:56 +0000   \n",
       "1  2017-08-01 00:17:27 +0000   \n",
       "2  2017-07-31 00:18:03 +0000   \n",
       "3  2017-07-30 15:58:51 +0000   \n",
       "4  2017-07-29 16:00:24 +0000   \n",
       "5  2017-07-29 00:08:17 +0000   \n",
       "6  2017-07-28 16:27:12 +0000   \n",
       "\n",
       "                                              source  \\\n",
       "0  <a href=\"http://twitter.com/download/iphone\" r...   \n",
       "1  <a href=\"http://twitter.com/download/iphone\" r...   \n",
       "2  <a href=\"http://twitter.com/download/iphone\" r...   \n",
       "3  <a href=\"http://twitter.com/download/iphone\" r...   \n",
       "4  <a href=\"http://twitter.com/download/iphone\" r...   \n",
       "5  <a href=\"http://twitter.com/download/iphone\" r...   \n",
       "6  <a href=\"http://twitter.com/download/iphone\" r...   \n",
       "\n",
       "                                                text  retweeted_status_id  \\\n",
       "0  This is Phineas. He's a mystical boy. Only eve...                  NaN   \n",
       "1  This is Tilly. She's just checking pup on you....                  NaN   \n",
       "2  This is Archie. He is a rare Norwegian Pouncin...                  NaN   \n",
       "3  This is Darla. She commenced a snooze mid meal...                  NaN   \n",
       "4  This is Franklin. He would like you to stop ca...                  NaN   \n",
       "5  Here we have a majestic great white breaching ...                  NaN   \n",
       "6  Meet Jax. He enjoys ice cream so much he gets ...                  NaN   \n",
       "\n",
       "   retweeted_status_user_id retweeted_status_timestamp  \\\n",
       "0                       NaN                        NaN   \n",
       "1                       NaN                        NaN   \n",
       "2                       NaN                        NaN   \n",
       "3                       NaN                        NaN   \n",
       "4                       NaN                        NaN   \n",
       "5                       NaN                        NaN   \n",
       "6                       NaN                        NaN   \n",
       "\n",
       "                                       expanded_urls  rating_numerator  \\\n",
       "0  https://twitter.com/dog_rates/status/892420643...                13   \n",
       "1  https://twitter.com/dog_rates/status/892177421...                13   \n",
       "2  https://twitter.com/dog_rates/status/891815181...                12   \n",
       "3  https://twitter.com/dog_rates/status/891689557...                13   \n",
       "4  https://twitter.com/dog_rates/status/891327558...                12   \n",
       "5  https://twitter.com/dog_rates/status/891087950...                13   \n",
       "6  https://gofundme.com/ydvmve-surgery-for-jax,ht...                13   \n",
       "\n",
       "   rating_denominator      name doggo floofer pupper puppo  \n",
       "0                  10   Phineas  None    None   None  None  \n",
       "1                  10     Tilly  None    None   None  None  \n",
       "2                  10    Archie  None    None   None  None  \n",
       "3                  10     Darla  None    None   None  None  \n",
       "4                  10  Franklin  None    None   None  None  \n",
       "5                  10      None  None    None   None  None  \n",
       "6                  10       Jax  None    None   None  None  "
      ]
     },
     "execution_count": 9,
     "metadata": {},
     "output_type": "execute_result"
    }
   ],
   "source": [
    "df.head(7)"
   ]
  },
  {
   "cell_type": "code",
   "execution_count": 10,
   "metadata": {},
   "outputs": [
    {
     "data": {
      "text/html": [
       "<div>\n",
       "<style scoped>\n",
       "    .dataframe tbody tr th:only-of-type {\n",
       "        vertical-align: middle;\n",
       "    }\n",
       "\n",
       "    .dataframe tbody tr th {\n",
       "        vertical-align: top;\n",
       "    }\n",
       "\n",
       "    .dataframe thead th {\n",
       "        text-align: right;\n",
       "    }\n",
       "</style>\n",
       "<table border=\"1\" class=\"dataframe\">\n",
       "  <thead>\n",
       "    <tr style=\"text-align: right;\">\n",
       "      <th></th>\n",
       "      <th>tweet_id</th>\n",
       "      <th>in_reply_to_status_id</th>\n",
       "      <th>in_reply_to_user_id</th>\n",
       "      <th>timestamp</th>\n",
       "      <th>source</th>\n",
       "      <th>text</th>\n",
       "      <th>retweeted_status_id</th>\n",
       "      <th>retweeted_status_user_id</th>\n",
       "      <th>retweeted_status_timestamp</th>\n",
       "      <th>expanded_urls</th>\n",
       "      <th>rating_numerator</th>\n",
       "      <th>rating_denominator</th>\n",
       "      <th>name</th>\n",
       "      <th>doggo</th>\n",
       "      <th>floofer</th>\n",
       "      <th>pupper</th>\n",
       "      <th>puppo</th>\n",
       "    </tr>\n",
       "  </thead>\n",
       "  <tbody>\n",
       "    <tr>\n",
       "      <th>2351</th>\n",
       "      <td>666049248165822465</td>\n",
       "      <td>NaN</td>\n",
       "      <td>NaN</td>\n",
       "      <td>2015-11-16 00:24:50 +0000</td>\n",
       "      <td>&lt;a href=\"http://twitter.com/download/iphone\" r...</td>\n",
       "      <td>Here we have a 1949 1st generation vulpix. Enj...</td>\n",
       "      <td>NaN</td>\n",
       "      <td>NaN</td>\n",
       "      <td>NaN</td>\n",
       "      <td>https://twitter.com/dog_rates/status/666049248...</td>\n",
       "      <td>5</td>\n",
       "      <td>10</td>\n",
       "      <td>None</td>\n",
       "      <td>None</td>\n",
       "      <td>None</td>\n",
       "      <td>None</td>\n",
       "      <td>None</td>\n",
       "    </tr>\n",
       "    <tr>\n",
       "      <th>2352</th>\n",
       "      <td>666044226329800704</td>\n",
       "      <td>NaN</td>\n",
       "      <td>NaN</td>\n",
       "      <td>2015-11-16 00:04:52 +0000</td>\n",
       "      <td>&lt;a href=\"http://twitter.com/download/iphone\" r...</td>\n",
       "      <td>This is a purebred Piers Morgan. Loves to Netf...</td>\n",
       "      <td>NaN</td>\n",
       "      <td>NaN</td>\n",
       "      <td>NaN</td>\n",
       "      <td>https://twitter.com/dog_rates/status/666044226...</td>\n",
       "      <td>6</td>\n",
       "      <td>10</td>\n",
       "      <td>a</td>\n",
       "      <td>None</td>\n",
       "      <td>None</td>\n",
       "      <td>None</td>\n",
       "      <td>None</td>\n",
       "    </tr>\n",
       "    <tr>\n",
       "      <th>2353</th>\n",
       "      <td>666033412701032449</td>\n",
       "      <td>NaN</td>\n",
       "      <td>NaN</td>\n",
       "      <td>2015-11-15 23:21:54 +0000</td>\n",
       "      <td>&lt;a href=\"http://twitter.com/download/iphone\" r...</td>\n",
       "      <td>Here is a very happy pup. Big fan of well-main...</td>\n",
       "      <td>NaN</td>\n",
       "      <td>NaN</td>\n",
       "      <td>NaN</td>\n",
       "      <td>https://twitter.com/dog_rates/status/666033412...</td>\n",
       "      <td>9</td>\n",
       "      <td>10</td>\n",
       "      <td>a</td>\n",
       "      <td>None</td>\n",
       "      <td>None</td>\n",
       "      <td>None</td>\n",
       "      <td>None</td>\n",
       "    </tr>\n",
       "    <tr>\n",
       "      <th>2354</th>\n",
       "      <td>666029285002620928</td>\n",
       "      <td>NaN</td>\n",
       "      <td>NaN</td>\n",
       "      <td>2015-11-15 23:05:30 +0000</td>\n",
       "      <td>&lt;a href=\"http://twitter.com/download/iphone\" r...</td>\n",
       "      <td>This is a western brown Mitsubishi terrier. Up...</td>\n",
       "      <td>NaN</td>\n",
       "      <td>NaN</td>\n",
       "      <td>NaN</td>\n",
       "      <td>https://twitter.com/dog_rates/status/666029285...</td>\n",
       "      <td>7</td>\n",
       "      <td>10</td>\n",
       "      <td>a</td>\n",
       "      <td>None</td>\n",
       "      <td>None</td>\n",
       "      <td>None</td>\n",
       "      <td>None</td>\n",
       "    </tr>\n",
       "    <tr>\n",
       "      <th>2355</th>\n",
       "      <td>666020888022790149</td>\n",
       "      <td>NaN</td>\n",
       "      <td>NaN</td>\n",
       "      <td>2015-11-15 22:32:08 +0000</td>\n",
       "      <td>&lt;a href=\"http://twitter.com/download/iphone\" r...</td>\n",
       "      <td>Here we have a Japanese Irish Setter. Lost eye...</td>\n",
       "      <td>NaN</td>\n",
       "      <td>NaN</td>\n",
       "      <td>NaN</td>\n",
       "      <td>https://twitter.com/dog_rates/status/666020888...</td>\n",
       "      <td>8</td>\n",
       "      <td>10</td>\n",
       "      <td>None</td>\n",
       "      <td>None</td>\n",
       "      <td>None</td>\n",
       "      <td>None</td>\n",
       "      <td>None</td>\n",
       "    </tr>\n",
       "  </tbody>\n",
       "</table>\n",
       "</div>"
      ],
      "text/plain": [
       "                tweet_id  in_reply_to_status_id  in_reply_to_user_id  \\\n",
       "2351  666049248165822465                    NaN                  NaN   \n",
       "2352  666044226329800704                    NaN                  NaN   \n",
       "2353  666033412701032449                    NaN                  NaN   \n",
       "2354  666029285002620928                    NaN                  NaN   \n",
       "2355  666020888022790149                    NaN                  NaN   \n",
       "\n",
       "                      timestamp  \\\n",
       "2351  2015-11-16 00:24:50 +0000   \n",
       "2352  2015-11-16 00:04:52 +0000   \n",
       "2353  2015-11-15 23:21:54 +0000   \n",
       "2354  2015-11-15 23:05:30 +0000   \n",
       "2355  2015-11-15 22:32:08 +0000   \n",
       "\n",
       "                                                 source  \\\n",
       "2351  <a href=\"http://twitter.com/download/iphone\" r...   \n",
       "2352  <a href=\"http://twitter.com/download/iphone\" r...   \n",
       "2353  <a href=\"http://twitter.com/download/iphone\" r...   \n",
       "2354  <a href=\"http://twitter.com/download/iphone\" r...   \n",
       "2355  <a href=\"http://twitter.com/download/iphone\" r...   \n",
       "\n",
       "                                                   text  retweeted_status_id  \\\n",
       "2351  Here we have a 1949 1st generation vulpix. Enj...                  NaN   \n",
       "2352  This is a purebred Piers Morgan. Loves to Netf...                  NaN   \n",
       "2353  Here is a very happy pup. Big fan of well-main...                  NaN   \n",
       "2354  This is a western brown Mitsubishi terrier. Up...                  NaN   \n",
       "2355  Here we have a Japanese Irish Setter. Lost eye...                  NaN   \n",
       "\n",
       "      retweeted_status_user_id retweeted_status_timestamp  \\\n",
       "2351                       NaN                        NaN   \n",
       "2352                       NaN                        NaN   \n",
       "2353                       NaN                        NaN   \n",
       "2354                       NaN                        NaN   \n",
       "2355                       NaN                        NaN   \n",
       "\n",
       "                                          expanded_urls  rating_numerator  \\\n",
       "2351  https://twitter.com/dog_rates/status/666049248...                 5   \n",
       "2352  https://twitter.com/dog_rates/status/666044226...                 6   \n",
       "2353  https://twitter.com/dog_rates/status/666033412...                 9   \n",
       "2354  https://twitter.com/dog_rates/status/666029285...                 7   \n",
       "2355  https://twitter.com/dog_rates/status/666020888...                 8   \n",
       "\n",
       "      rating_denominator  name doggo floofer pupper puppo  \n",
       "2351                  10  None  None    None   None  None  \n",
       "2352                  10     a  None    None   None  None  \n",
       "2353                  10     a  None    None   None  None  \n",
       "2354                  10     a  None    None   None  None  \n",
       "2355                  10  None  None    None   None  None  "
      ]
     },
     "execution_count": 10,
     "metadata": {},
     "output_type": "execute_result"
    }
   ],
   "source": [
    "df.tail()"
   ]
  },
  {
   "cell_type": "code",
   "execution_count": 11,
   "metadata": {},
   "outputs": [
    {
     "data": {
      "text/plain": [
       "(2356, 17)"
      ]
     },
     "execution_count": 11,
     "metadata": {},
     "output_type": "execute_result"
    }
   ],
   "source": [
    "df.shape"
   ]
  },
  {
   "cell_type": "code",
   "execution_count": 12,
   "metadata": {},
   "outputs": [
    {
     "data": {
      "text/plain": [
       "Index(['tweet_id', 'in_reply_to_status_id', 'in_reply_to_user_id', 'timestamp',\n",
       "       'source', 'text', 'retweeted_status_id', 'retweeted_status_user_id',\n",
       "       'retweeted_status_timestamp', 'expanded_urls', 'rating_numerator',\n",
       "       'rating_denominator', 'name', 'doggo', 'floofer', 'pupper', 'puppo'],\n",
       "      dtype='object')"
      ]
     },
     "execution_count": 12,
     "metadata": {},
     "output_type": "execute_result"
    }
   ],
   "source": [
    "df.columns"
   ]
  },
  {
   "cell_type": "markdown",
   "metadata": {},
   "source": [
    "### Twitter Archive Data (df table) programmatic assessment"
   ]
  },
  {
   "cell_type": "code",
   "execution_count": 13,
   "metadata": {},
   "outputs": [
    {
     "name": "stdout",
     "output_type": "stream",
     "text": [
      "<class 'pandas.core.frame.DataFrame'>\n",
      "RangeIndex: 2356 entries, 0 to 2355\n",
      "Data columns (total 17 columns):\n",
      " #   Column                      Non-Null Count  Dtype  \n",
      "---  ------                      --------------  -----  \n",
      " 0   tweet_id                    2356 non-null   int64  \n",
      " 1   in_reply_to_status_id       78 non-null     float64\n",
      " 2   in_reply_to_user_id         78 non-null     float64\n",
      " 3   timestamp                   2356 non-null   object \n",
      " 4   source                      2356 non-null   object \n",
      " 5   text                        2356 non-null   object \n",
      " 6   retweeted_status_id         181 non-null    float64\n",
      " 7   retweeted_status_user_id    181 non-null    float64\n",
      " 8   retweeted_status_timestamp  181 non-null    object \n",
      " 9   expanded_urls               2297 non-null   object \n",
      " 10  rating_numerator            2356 non-null   int64  \n",
      " 11  rating_denominator          2356 non-null   int64  \n",
      " 12  name                        2356 non-null   object \n",
      " 13  doggo                       2356 non-null   object \n",
      " 14  floofer                     2356 non-null   object \n",
      " 15  pupper                      2356 non-null   object \n",
      " 16  puppo                       2356 non-null   object \n",
      "dtypes: float64(4), int64(3), object(10)\n",
      "memory usage: 313.0+ KB\n"
     ]
    }
   ],
   "source": [
    "df.info()"
   ]
  },
  {
   "cell_type": "code",
   "execution_count": 14,
   "metadata": {},
   "outputs": [
    {
     "data": {
      "text/html": [
       "<div>\n",
       "<style scoped>\n",
       "    .dataframe tbody tr th:only-of-type {\n",
       "        vertical-align: middle;\n",
       "    }\n",
       "\n",
       "    .dataframe tbody tr th {\n",
       "        vertical-align: top;\n",
       "    }\n",
       "\n",
       "    .dataframe thead th {\n",
       "        text-align: right;\n",
       "    }\n",
       "</style>\n",
       "<table border=\"1\" class=\"dataframe\">\n",
       "  <thead>\n",
       "    <tr style=\"text-align: right;\">\n",
       "      <th></th>\n",
       "      <th>tweet_id</th>\n",
       "      <th>in_reply_to_status_id</th>\n",
       "      <th>in_reply_to_user_id</th>\n",
       "      <th>retweeted_status_id</th>\n",
       "      <th>retweeted_status_user_id</th>\n",
       "      <th>rating_numerator</th>\n",
       "      <th>rating_denominator</th>\n",
       "    </tr>\n",
       "  </thead>\n",
       "  <tbody>\n",
       "    <tr>\n",
       "      <th>count</th>\n",
       "      <td>2.356000e+03</td>\n",
       "      <td>7.800000e+01</td>\n",
       "      <td>7.800000e+01</td>\n",
       "      <td>1.810000e+02</td>\n",
       "      <td>1.810000e+02</td>\n",
       "      <td>2356.000000</td>\n",
       "      <td>2356.000000</td>\n",
       "    </tr>\n",
       "    <tr>\n",
       "      <th>mean</th>\n",
       "      <td>7.427716e+17</td>\n",
       "      <td>7.455079e+17</td>\n",
       "      <td>2.014171e+16</td>\n",
       "      <td>7.720400e+17</td>\n",
       "      <td>1.241698e+16</td>\n",
       "      <td>13.126486</td>\n",
       "      <td>10.455433</td>\n",
       "    </tr>\n",
       "    <tr>\n",
       "      <th>std</th>\n",
       "      <td>6.856705e+16</td>\n",
       "      <td>7.582492e+16</td>\n",
       "      <td>1.252797e+17</td>\n",
       "      <td>6.236928e+16</td>\n",
       "      <td>9.599254e+16</td>\n",
       "      <td>45.876648</td>\n",
       "      <td>6.745237</td>\n",
       "    </tr>\n",
       "    <tr>\n",
       "      <th>min</th>\n",
       "      <td>6.660209e+17</td>\n",
       "      <td>6.658147e+17</td>\n",
       "      <td>1.185634e+07</td>\n",
       "      <td>6.661041e+17</td>\n",
       "      <td>7.832140e+05</td>\n",
       "      <td>0.000000</td>\n",
       "      <td>0.000000</td>\n",
       "    </tr>\n",
       "    <tr>\n",
       "      <th>25%</th>\n",
       "      <td>6.783989e+17</td>\n",
       "      <td>6.757419e+17</td>\n",
       "      <td>3.086374e+08</td>\n",
       "      <td>7.186315e+17</td>\n",
       "      <td>4.196984e+09</td>\n",
       "      <td>10.000000</td>\n",
       "      <td>10.000000</td>\n",
       "    </tr>\n",
       "    <tr>\n",
       "      <th>50%</th>\n",
       "      <td>7.196279e+17</td>\n",
       "      <td>7.038708e+17</td>\n",
       "      <td>4.196984e+09</td>\n",
       "      <td>7.804657e+17</td>\n",
       "      <td>4.196984e+09</td>\n",
       "      <td>11.000000</td>\n",
       "      <td>10.000000</td>\n",
       "    </tr>\n",
       "    <tr>\n",
       "      <th>75%</th>\n",
       "      <td>7.993373e+17</td>\n",
       "      <td>8.257804e+17</td>\n",
       "      <td>4.196984e+09</td>\n",
       "      <td>8.203146e+17</td>\n",
       "      <td>4.196984e+09</td>\n",
       "      <td>12.000000</td>\n",
       "      <td>10.000000</td>\n",
       "    </tr>\n",
       "    <tr>\n",
       "      <th>max</th>\n",
       "      <td>8.924206e+17</td>\n",
       "      <td>8.862664e+17</td>\n",
       "      <td>8.405479e+17</td>\n",
       "      <td>8.874740e+17</td>\n",
       "      <td>7.874618e+17</td>\n",
       "      <td>1776.000000</td>\n",
       "      <td>170.000000</td>\n",
       "    </tr>\n",
       "  </tbody>\n",
       "</table>\n",
       "</div>"
      ],
      "text/plain": [
       "           tweet_id  in_reply_to_status_id  in_reply_to_user_id  \\\n",
       "count  2.356000e+03           7.800000e+01         7.800000e+01   \n",
       "mean   7.427716e+17           7.455079e+17         2.014171e+16   \n",
       "std    6.856705e+16           7.582492e+16         1.252797e+17   \n",
       "min    6.660209e+17           6.658147e+17         1.185634e+07   \n",
       "25%    6.783989e+17           6.757419e+17         3.086374e+08   \n",
       "50%    7.196279e+17           7.038708e+17         4.196984e+09   \n",
       "75%    7.993373e+17           8.257804e+17         4.196984e+09   \n",
       "max    8.924206e+17           8.862664e+17         8.405479e+17   \n",
       "\n",
       "       retweeted_status_id  retweeted_status_user_id  rating_numerator  \\\n",
       "count         1.810000e+02              1.810000e+02       2356.000000   \n",
       "mean          7.720400e+17              1.241698e+16         13.126486   \n",
       "std           6.236928e+16              9.599254e+16         45.876648   \n",
       "min           6.661041e+17              7.832140e+05          0.000000   \n",
       "25%           7.186315e+17              4.196984e+09         10.000000   \n",
       "50%           7.804657e+17              4.196984e+09         11.000000   \n",
       "75%           8.203146e+17              4.196984e+09         12.000000   \n",
       "max           8.874740e+17              7.874618e+17       1776.000000   \n",
       "\n",
       "       rating_denominator  \n",
       "count         2356.000000  \n",
       "mean            10.455433  \n",
       "std              6.745237  \n",
       "min              0.000000  \n",
       "25%             10.000000  \n",
       "50%             10.000000  \n",
       "75%             10.000000  \n",
       "max            170.000000  "
      ]
     },
     "execution_count": 14,
     "metadata": {},
     "output_type": "execute_result"
    }
   ],
   "source": [
    "df.describe()"
   ]
  },
  {
   "cell_type": "code",
   "execution_count": 15,
   "metadata": {},
   "outputs": [
    {
     "data": {
      "text/html": [
       "<div>\n",
       "<style scoped>\n",
       "    .dataframe tbody tr th:only-of-type {\n",
       "        vertical-align: middle;\n",
       "    }\n",
       "\n",
       "    .dataframe tbody tr th {\n",
       "        vertical-align: top;\n",
       "    }\n",
       "\n",
       "    .dataframe thead th {\n",
       "        text-align: right;\n",
       "    }\n",
       "</style>\n",
       "<table border=\"1\" class=\"dataframe\">\n",
       "  <thead>\n",
       "    <tr style=\"text-align: right;\">\n",
       "      <th></th>\n",
       "      <th>timestamp</th>\n",
       "      <th>source</th>\n",
       "      <th>text</th>\n",
       "      <th>retweeted_status_timestamp</th>\n",
       "      <th>expanded_urls</th>\n",
       "      <th>name</th>\n",
       "      <th>doggo</th>\n",
       "      <th>floofer</th>\n",
       "      <th>pupper</th>\n",
       "      <th>puppo</th>\n",
       "    </tr>\n",
       "  </thead>\n",
       "  <tbody>\n",
       "    <tr>\n",
       "      <th>count</th>\n",
       "      <td>2356</td>\n",
       "      <td>2356</td>\n",
       "      <td>2356</td>\n",
       "      <td>181</td>\n",
       "      <td>2297</td>\n",
       "      <td>2356</td>\n",
       "      <td>2356</td>\n",
       "      <td>2356</td>\n",
       "      <td>2356</td>\n",
       "      <td>2356</td>\n",
       "    </tr>\n",
       "    <tr>\n",
       "      <th>unique</th>\n",
       "      <td>2356</td>\n",
       "      <td>4</td>\n",
       "      <td>2356</td>\n",
       "      <td>181</td>\n",
       "      <td>2218</td>\n",
       "      <td>957</td>\n",
       "      <td>2</td>\n",
       "      <td>2</td>\n",
       "      <td>2</td>\n",
       "      <td>2</td>\n",
       "    </tr>\n",
       "    <tr>\n",
       "      <th>top</th>\n",
       "      <td>2015-12-09 15:09:55 +0000</td>\n",
       "      <td>&lt;a href=\"http://twitter.com/download/iphone\" r...</td>\n",
       "      <td>This is Pickles. She's a silly pupper. Thinks ...</td>\n",
       "      <td>2016-09-13 16:30:07 +0000</td>\n",
       "      <td>https://twitter.com/dog_rates/status/782305867...</td>\n",
       "      <td>None</td>\n",
       "      <td>None</td>\n",
       "      <td>None</td>\n",
       "      <td>None</td>\n",
       "      <td>None</td>\n",
       "    </tr>\n",
       "    <tr>\n",
       "      <th>freq</th>\n",
       "      <td>1</td>\n",
       "      <td>2221</td>\n",
       "      <td>1</td>\n",
       "      <td>1</td>\n",
       "      <td>2</td>\n",
       "      <td>745</td>\n",
       "      <td>2259</td>\n",
       "      <td>2346</td>\n",
       "      <td>2099</td>\n",
       "      <td>2326</td>\n",
       "    </tr>\n",
       "  </tbody>\n",
       "</table>\n",
       "</div>"
      ],
      "text/plain": [
       "                        timestamp  \\\n",
       "count                        2356   \n",
       "unique                       2356   \n",
       "top     2015-12-09 15:09:55 +0000   \n",
       "freq                            1   \n",
       "\n",
       "                                                   source  \\\n",
       "count                                                2356   \n",
       "unique                                                  4   \n",
       "top     <a href=\"http://twitter.com/download/iphone\" r...   \n",
       "freq                                                 2221   \n",
       "\n",
       "                                                     text  \\\n",
       "count                                                2356   \n",
       "unique                                               2356   \n",
       "top     This is Pickles. She's a silly pupper. Thinks ...   \n",
       "freq                                                    1   \n",
       "\n",
       "       retweeted_status_timestamp  \\\n",
       "count                         181   \n",
       "unique                        181   \n",
       "top     2016-09-13 16:30:07 +0000   \n",
       "freq                            1   \n",
       "\n",
       "                                            expanded_urls  name doggo floofer  \\\n",
       "count                                                2297  2356  2356    2356   \n",
       "unique                                               2218   957     2       2   \n",
       "top     https://twitter.com/dog_rates/status/782305867...  None  None    None   \n",
       "freq                                                    2   745  2259    2346   \n",
       "\n",
       "       pupper puppo  \n",
       "count    2356  2356  \n",
       "unique      2     2  \n",
       "top      None  None  \n",
       "freq     2099  2326  "
      ]
     },
     "execution_count": 15,
     "metadata": {},
     "output_type": "execute_result"
    }
   ],
   "source": [
    "# Getting description of string data type columns\n",
    "df.describe(include=['O'])"
   ]
  },
  {
   "cell_type": "code",
   "execution_count": 16,
   "metadata": {},
   "outputs": [
    {
     "data": {
      "text/plain": [
       "10     2333\n",
       "11        3\n",
       "50        3\n",
       "80        2\n",
       "20        2\n",
       "2         1\n",
       "16        1\n",
       "40        1\n",
       "70        1\n",
       "15        1\n",
       "90        1\n",
       "110       1\n",
       "120       1\n",
       "130       1\n",
       "150       1\n",
       "170       1\n",
       "7         1\n",
       "0         1\n",
       "Name: rating_denominator, dtype: int64"
      ]
     },
     "execution_count": 16,
     "metadata": {},
     "output_type": "execute_result"
    }
   ],
   "source": [
    "df.rating_denominator.value_counts()"
   ]
  },
  {
   "cell_type": "code",
   "execution_count": 17,
   "metadata": {},
   "outputs": [
    {
     "data": {
      "text/plain": [
       "20"
      ]
     },
     "execution_count": 17,
     "metadata": {},
     "output_type": "execute_result"
    }
   ],
   "source": [
    "# Number of times the rating_denominator is greater than 10\n",
    "len(df[df['rating_denominator'] > 10])"
   ]
  },
  {
   "cell_type": "code",
   "execution_count": 18,
   "metadata": {},
   "outputs": [
    {
     "data": {
      "text/plain": [
       "3"
      ]
     },
     "execution_count": 18,
     "metadata": {},
     "output_type": "execute_result"
    }
   ],
   "source": [
    "# Number of times the rating_denominator is less than 10\n",
    "len(df[df['rating_denominator'] < 10])"
   ]
  },
  {
   "cell_type": "code",
   "execution_count": 19,
   "metadata": {},
   "outputs": [
    {
     "data": {
      "text/plain": [
       "12      558\n",
       "11      464\n",
       "10      461\n",
       "13      351\n",
       "9       158\n",
       "8       102\n",
       "7        55\n",
       "14       54\n",
       "5        37\n",
       "6        32\n",
       "3        19\n",
       "4        17\n",
       "1         9\n",
       "2         9\n",
       "420       2\n",
       "0         2\n",
       "15        2\n",
       "75        2\n",
       "80        1\n",
       "20        1\n",
       "24        1\n",
       "26        1\n",
       "44        1\n",
       "50        1\n",
       "60        1\n",
       "165       1\n",
       "84        1\n",
       "88        1\n",
       "144       1\n",
       "182       1\n",
       "143       1\n",
       "666       1\n",
       "960       1\n",
       "1776      1\n",
       "17        1\n",
       "27        1\n",
       "45        1\n",
       "99        1\n",
       "121       1\n",
       "204       1\n",
       "Name: rating_numerator, dtype: int64"
      ]
     },
     "execution_count": 19,
     "metadata": {},
     "output_type": "execute_result"
    }
   ],
   "source": [
    "df.rating_numerator.value_counts()"
   ]
  },
  {
   "cell_type": "code",
   "execution_count": 20,
   "metadata": {},
   "outputs": [
    {
     "data": {
      "text/plain": [
       "440"
      ]
     },
     "execution_count": 20,
     "metadata": {},
     "output_type": "execute_result"
    }
   ],
   "source": [
    "# Number of times the rating_numerator is less than 10\n",
    "len(df[df['rating_numerator'] < 10])"
   ]
  },
  {
   "cell_type": "code",
   "execution_count": 21,
   "metadata": {},
   "outputs": [
    {
     "data": {
      "text/plain": [
       "count    2356.000000\n",
       "mean       13.126486\n",
       "std        45.876648\n",
       "min         0.000000\n",
       "25%        10.000000\n",
       "50%        11.000000\n",
       "75%        12.000000\n",
       "max      1776.000000\n",
       "Name: rating_numerator, dtype: float64"
      ]
     },
     "execution_count": 21,
     "metadata": {},
     "output_type": "execute_result"
    }
   ],
   "source": [
    "# Printing some general statistics for the rating_numerator column\n",
    "df.rating_numerator.describe()\n",
    " "
   ]
  },
  {
   "cell_type": "code",
   "execution_count": 22,
   "metadata": {},
   "outputs": [
    {
     "data": {
      "text/plain": [
       "<a href=\"http://twitter.com/download/iphone\" rel=\"nofollow\">Twitter for iPhone</a>     2221\n",
       "<a href=\"http://vine.co\" rel=\"nofollow\">Vine - Make a Scene</a>                          91\n",
       "<a href=\"http://twitter.com\" rel=\"nofollow\">Twitter Web Client</a>                       33\n",
       "<a href=\"https://about.twitter.com/products/tweetdeck\" rel=\"nofollow\">TweetDeck</a>      11\n",
       "Name: source, dtype: int64"
      ]
     },
     "execution_count": 22,
     "metadata": {},
     "output_type": "execute_result"
    }
   ],
   "source": [
    "# Seeing how many rows are from a twitter source\n",
    "df.source.value_counts()\n"
   ]
  },
  {
   "cell_type": "code",
   "execution_count": 23,
   "metadata": {},
   "outputs": [
    {
     "data": {
      "text/plain": [
       "None       745\n",
       "a           55\n",
       "Charlie     12\n",
       "Cooper      11\n",
       "Oliver      11\n",
       "          ... \n",
       "Dotsy        1\n",
       "Frönq        1\n",
       "Snoop        1\n",
       "Geoff        1\n",
       "Bobb         1\n",
       "Name: name, Length: 957, dtype: int64"
      ]
     },
     "execution_count": 23,
     "metadata": {},
     "output_type": "execute_result"
    }
   ],
   "source": [
    "df.name.value_counts()"
   ]
  },
  {
   "cell_type": "code",
   "execution_count": 24,
   "metadata": {},
   "outputs": [
    {
     "data": {
      "text/plain": [
       "array(['Abby', 'Ace', 'Acro', 'Adele', 'Aiden', 'Aja', 'Akumi', 'Al',\n",
       "       'Albert', 'Albus', 'Aldrick', 'Alejandro', 'Alexander',\n",
       "       'Alexanderson', 'Alf', 'Alfie', 'Alfy', 'Alice', 'Amber',\n",
       "       'Ambrose', 'Amy', 'Amélie', 'Anakin', 'Andru', 'Andy', 'Angel',\n",
       "       'Anna', 'Anthony', 'Antony', 'Apollo', 'Aqua', 'Archie', 'Arlen',\n",
       "       'Arlo', 'Arnie', 'Arnold', 'Arya', 'Ash', 'Asher', 'Ashleigh',\n",
       "       'Aspen', 'Astrid', 'Atlas', 'Atticus', 'Aubie', 'Augie', 'Autumn',\n",
       "       'Ava', 'Axel', 'Bailey', 'Baloo', 'Balto', 'Banditt', 'Banjo',\n",
       "       'Barclay', 'Barney', 'Baron', 'Barry', 'Batdog', 'Bauer', 'Baxter',\n",
       "       'Bayley', 'BeBe', 'Bear', 'Beau', 'Beckham', 'Beebop', 'Beemo',\n",
       "       'Bell', 'Bella', 'Belle', 'Ben', 'Benedict', 'Benji', 'Benny',\n",
       "       'Bentley', 'Berb', 'Berkeley', 'Bernie', 'Bert', 'Bertson',\n",
       "       'Betty', 'Beya', 'Biden', 'Bilbo', 'Billl', 'Billy', 'Binky',\n",
       "       'Birf', 'Bisquick', 'Blakely', 'Blanket', 'Blipson', 'Blitz',\n",
       "       'Bloo', 'Bloop', 'Blu', 'Blue', 'Bluebert', 'Bo', 'Bob', 'Bobb',\n",
       "       'Bobbay', 'Bobble', 'Bobby', 'Bode', 'Bodie', 'Bonaparte', 'Bones',\n",
       "       'Bookstore', 'Boomer', 'Boots', 'Boston', 'Bowie', 'Brad',\n",
       "       'Bradlay', 'Bradley', 'Brady', 'Brandi', 'Brandonald', 'Brandy',\n",
       "       'Brat', 'Brian', 'Brockly', 'Brody', 'Bronte', 'Brooks', 'Brownie',\n",
       "       'Bruce', 'Brudge', 'Bruiser', 'Bruno', 'Brutus', 'Bubba',\n",
       "       'Bubbles', 'Buckley', 'Buddah', 'Buddy', 'Bungalo', 'Burt',\n",
       "       'Butter', 'Butters', 'Cal', 'Calbert', 'Cali', 'Callie', 'Calvin',\n",
       "       'Canela', 'Cannon', 'Carbon', 'Carl', 'Carll', 'Carly', 'Carper',\n",
       "       'Carter', 'Caryl', 'Cash', 'Cassie', 'CeCe', 'Cecil', 'Cedrick',\n",
       "       'Cermet', 'Chadrick', 'Champ', 'Charl', 'Charles', 'Charleson',\n",
       "       'Charlie', 'Chase', 'Chaz', 'Cheesy', 'Chef', 'Chelsea', 'Cheryl',\n",
       "       'Chesney', 'Chester', 'Chesterson', 'Chet', 'Chevy', 'Chip',\n",
       "       'Chipson', 'Chloe', 'Chompsky', 'Christoper', 'Chubbs', 'Chuck',\n",
       "       'Chuckles', 'Chuq', 'Churlie', 'Cilantro', 'Clarence', 'Clark',\n",
       "       'Clarkus', 'Clarq', 'Claude', 'Cleopatricia', 'Clifford', 'Clybe',\n",
       "       'Clyde', 'Coco', 'Cody', 'Colby', 'Coleman', 'Colin', 'Combo',\n",
       "       'Comet', 'Cooper', 'Coops', 'Coopson', 'Cora', 'Corey', 'Covach',\n",
       "       'Craig', 'Crawford', 'Creg', 'Crimson', 'Crouton', 'Crumpet',\n",
       "       'Crystal', 'Cuddles', 'Cupcake', 'Cupid', 'Curtis', 'Daisy',\n",
       "       'Dakota', 'Dale', 'Dallas', 'Damon', 'Daniel', 'Danny', 'Dante',\n",
       "       'Darby', 'Darla', 'Darrel', 'Dash', 'Dave', 'Davey', 'Dawn',\n",
       "       'DayZ', 'Deacon', 'Derby', 'Derek', 'Devón', 'Dewey', 'Dex',\n",
       "       'Dexter', 'Dido', 'Dietrich', 'Diogi', 'Divine', 'Dixie', 'Django',\n",
       "       'Dobby', 'Doc', 'DonDon', 'Donny', 'Doobert', 'Dook', 'Dot',\n",
       "       'Dotsy', 'Doug', 'Duchess', 'Duddles', 'Dudley', 'Dug', 'Duke',\n",
       "       'Dunkin', 'Durg', 'Dutch', 'Dwight', 'Dylan', 'Earl', 'Eazy',\n",
       "       'Ebby', 'Ed', 'Edd', 'Edgar', 'Edmund', 'Eevee', 'Einstein',\n",
       "       'Eleanor', 'Eli', 'Ellie', 'Elliot', 'Emanuel', 'Ember', 'Emma',\n",
       "       'Emmie', 'Emmy', 'Enchilada', 'Erik', 'Eriq', 'Ester', 'Eugene',\n",
       "       'Eve', 'Evy', 'Fabio', 'Farfle', 'Ferg', 'Fido', 'Fiji', 'Fillup',\n",
       "       'Filup', 'Finley', 'Finn', 'Finnegus', 'Fiona', 'Fizz', 'Flash',\n",
       "       'Fletcher', 'Florence', 'Flurpson', 'Flávio', 'Frank', 'Frankie',\n",
       "       'Franklin', 'Franq', 'Fred', 'Freddery', 'Frönq', 'Furzey', 'Fwed',\n",
       "       'Fynn', 'Gabby', 'Gabe', 'Gary', 'General', 'Genevieve', 'Geno',\n",
       "       'Geoff', 'George', 'Georgie', 'Gerald', 'Gerbald', 'Gert',\n",
       "       'Gidget', 'Gilbert', 'Gin', 'Ginger', 'Gizmo', 'Glacier', 'Glenn',\n",
       "       'Godi', 'Godzilla', 'Goliath', 'Goose', 'Gordon', 'Grady', 'Grey',\n",
       "       'Griffin', 'Griswold', 'Grizz', 'Grizzie', 'Grizzwald', 'Gromit',\n",
       "       'Gunner', 'Gus', 'Gustaf', 'Gustav', 'Gòrdón', 'Hall', 'Halo',\n",
       "       'Hammond', 'Hamrick', 'Hank', 'Hanz', 'Happy', 'Harlso', 'Harnold',\n",
       "       'Harold', 'Harper', 'Harrison', 'Harry', 'Harvey', 'Hazel',\n",
       "       'Hector', 'Heinrich', 'Henry', 'Herald', 'Herb', 'Hercules',\n",
       "       'Herm', 'Hermione', 'Hero', 'Herschel', 'Hobbes', 'Holly',\n",
       "       'Horace', 'Howie', 'Hubertson', 'Huck', 'Humphrey', 'Hunter',\n",
       "       'Hurley', 'Huxley', 'Iggy', 'Ike', 'Indie', 'Iroh', 'Ito', 'Ivar',\n",
       "       'Izzy', 'JD', 'Jack', 'Jackie', 'Jackson', 'Jameson', 'Jamesy',\n",
       "       'Jangle', 'Jareld', 'Jarod', 'Jarvis', 'Jaspers', 'Jax', 'Jay',\n",
       "       'Jaycob', 'Jazz', 'Jazzy', 'Jeb', 'Jebberson', 'Jed', 'Jeffrey',\n",
       "       'Jeffri', 'Jeffrie', 'Jennifur', 'Jeph', 'Jeremy', 'Jerome',\n",
       "       'Jerry', 'Jersey', 'Jesse', 'Jessifer', 'Jessiga', 'Jett', 'Jim',\n",
       "       'Jimbo', 'Jiminus', 'Jiminy', 'Jimison', 'Jimothy', 'Jo',\n",
       "       'Jockson', 'Joey', 'Jomathan', 'Jonah', 'Jordy', 'Josep', 'Joshwa',\n",
       "       'Juckson', 'Julio', 'Julius', 'Juno', 'Kaia', 'Kaiya', 'Kallie',\n",
       "       'Kane', 'Kanu', 'Kara', 'Karl', 'Karll', 'Karma', 'Kathmandu',\n",
       "       'Katie', 'Kawhi', 'Kayla', 'Keet', 'Keith', 'Kellogg', 'Ken',\n",
       "       'Kendall', 'Kenneth', 'Kenny', 'Kenzie', 'Keurig', 'Kevin',\n",
       "       'Kevon', 'Kial', 'Kilo', 'Kingsley', 'Kirby', 'Kirk', 'Klein',\n",
       "       'Klevin', 'Kloey', 'Kobe', 'Koda', 'Kody', 'Koko', 'Kollin',\n",
       "       'Kona', 'Kota', 'Kramer', 'Kreg', 'Kreggory', 'Kulet', 'Kuyu',\n",
       "       'Kyle', 'Kyro', 'Lacy', 'Laela', 'Laika', 'Lambeau', 'Lance',\n",
       "       'Larry', 'Lassie', 'Layla', 'Leela', 'Lennon', 'Lenny', 'Lenox',\n",
       "       'Leo', 'Leonard', 'Leonidas', 'Levi', 'Liam', 'Lilah', 'Lili',\n",
       "       'Lilli', 'Lillie', 'Lilly', 'Lily', 'Lincoln', 'Linda', 'Link',\n",
       "       'Linus', 'Lipton', 'Livvie', 'Lizzie', 'Logan', 'Loki', 'Lola',\n",
       "       'Lolo', 'Longfellow', 'Loomis', 'Lorelei', 'Lorenzo', 'Lou',\n",
       "       'Louie', 'Louis', 'Luca', 'Lucia', 'Lucky', 'Lucy', 'Lugan',\n",
       "       'Lulu', 'Luna', 'Lupe', 'Luther', 'Mabel', 'Mac', 'Mack', 'Maddie',\n",
       "       'Maggie', 'Mairi', 'Maisey', 'Major', 'Maks', 'Malcolm', 'Malikai',\n",
       "       'Margo', 'Mark', 'Marlee', 'Marley', 'Marq', 'Marty', 'Marvin',\n",
       "       'Mary', 'Mason', 'Mattie', 'Maude', 'Mauve', 'Max', 'Maxaroni',\n",
       "       'Maximus', 'Maxwell', 'Maya', 'Meatball', 'Meera', 'Meyer', 'Mia',\n",
       "       'Michelangelope', 'Miguel', 'Mike', 'Miley', 'Milky', 'Millie',\n",
       "       'Milo', 'Mimosa', 'Mingus', 'Mister', 'Misty', 'Mitch', 'Mo',\n",
       "       'Moe', 'Mojo', 'Mollie', 'Molly', 'Mona', 'Monkey', 'Monster',\n",
       "       'Monty', 'Moofasa', 'Mookie', 'Moose', 'Moreton', 'Mosby',\n",
       "       'Murphy', 'Mutt', 'Mya', 'Nala', 'Naphaniel', 'Napolean', 'Nelly',\n",
       "       'Neptune', 'Newt', 'Nico', 'Nida', 'Nigel', 'Nimbus', 'Noah',\n",
       "       'Nollie', 'None', 'Noosh', 'Norman', 'Nugget', 'O', 'Oakley',\n",
       "       'Obi', 'Obie', 'Oddie', 'Odie', 'Odin', 'Olaf', 'Ole', 'Olive',\n",
       "       'Oliver', 'Olivia', 'Oliviér', 'Ollie', 'Opal', 'Opie', 'Oreo',\n",
       "       'Orion', 'Oscar', 'Oshie', 'Otis', 'Ozzie', 'Ozzy', 'Pablo',\n",
       "       'Paisley', 'Pancake', 'Panda', 'Patch', 'Patrick', 'Paull',\n",
       "       'Pavlov', 'Pawnd', 'Peaches', 'Peanut', 'Penelope', 'Penny',\n",
       "       'Pepper', 'Percy', 'Perry', 'Pete', 'Petrick', 'Pherb', 'Phil',\n",
       "       'Philbert', 'Philippe', 'Phineas', 'Phred', 'Pickles', 'Pilot',\n",
       "       'Pinot', 'Pip', 'Piper', 'Pippa', 'Pippin', 'Pipsy', 'Pluto',\n",
       "       'Poppy', 'Pubert', 'Puff', 'Pumpkin', 'Pupcasso', 'Quinn', 'Ralf',\n",
       "       'Ralph', 'Ralpher', 'Ralphie', 'Ralphson', 'Ralphus', 'Ralphy',\n",
       "       'Ralphé', 'Rambo', 'Randall', 'Raphael', 'Rascal', 'Raymond',\n",
       "       'Reagan', 'Reese', 'Reggie', 'Reginald', 'Remington', 'Remus',\n",
       "       'Remy', 'Reptar', 'Rey', 'Rhino', 'Richie', 'Ricky', 'Ridley',\n",
       "       'Riley', 'Rilo', 'Rinna', 'River', 'Rizzo', 'Rizzy', 'Robin',\n",
       "       'Rocco', 'Rocky', 'Rodman', 'Rodney', 'Rolf', 'Romeo', 'Ron',\n",
       "       'Ronduh', 'Ronnie', 'Rontu', 'Rooney', 'Roosevelt', 'Rorie',\n",
       "       'Rory', 'Roscoe', 'Rose', 'Rosie', 'Rover', 'Rubio', 'Ruby',\n",
       "       'Rudy', 'Rueben', 'Ruffles', 'Rufio', 'Rufus', 'Rumble', 'Rumpole',\n",
       "       'Rupert', 'Rusty', 'Sadie', 'Sage', 'Sailer', 'Sailor', 'Sam',\n",
       "       'Sammy', 'Sampson', 'Samsom', 'Samson', 'Sandra', 'Sandy', 'Sansa',\n",
       "       'Sarge', 'Saydee', 'Schnitzel', 'Schnozz', 'Scooter', 'Scott',\n",
       "       'Scout', 'Scruffers', 'Seamus', 'Sebastian', 'Sephie', 'Severus',\n",
       "       'Shadoe', 'Shadow', 'Shaggy', 'Shakespeare', 'Shawwn', 'Shelby',\n",
       "       'Shikha', 'Shiloh', 'Shnuggles', 'Shooter', 'Siba', 'Sid',\n",
       "       'Sierra', 'Simba', 'Skittle', 'Skittles', 'Sky', 'Skye', 'Smiley',\n",
       "       'Smokey', 'Snickers', 'Snicku', 'Snoop', 'Snoopy', 'Sobe', 'Socks',\n",
       "       'Sojourner', 'Solomon', 'Sonny', 'Sophie', 'Sora', 'Spanky',\n",
       "       'Spark', 'Sparky', 'Spencer', 'Sprinkles', 'Sprout', 'Staniel',\n",
       "       'Stanley', 'Stark', 'Stefan', 'Stella', 'Stephan', 'Stephanus',\n",
       "       'Steve', 'Steven', 'Stewie', 'Storkson', 'Stormy', 'Strider',\n",
       "       'Striker', 'Strudel', 'Stu', 'Stuart', 'Stubert', 'Sugar', 'Suki',\n",
       "       'Sully', 'Sundance', 'Sunny', 'Sunshine', 'Superpup', 'Swagger',\n",
       "       'Sweet', 'Sweets', 'Taco', 'Tango', 'Tanner', 'Tassy', 'Tater',\n",
       "       'Tayzie', 'Taz', 'Tebow', 'Ted', 'Tedders', 'Teddy', 'Tedrick',\n",
       "       'Terrance', 'Terrenth', 'Terry', 'Tess', 'Tessa', 'Theo',\n",
       "       'Theodore', 'Thor', 'Thumas', 'Tiger', 'Tilly', 'Timber',\n",
       "       'Timison', 'Timmy', 'Timofy', 'Tino', 'Titan', 'Tito', 'Tobi',\n",
       "       'Toby', 'Todo', 'Toffee', 'Tom', 'Tommy', 'Tonks', 'Torque',\n",
       "       'Tove', 'Travis', 'Traviss', 'Trevith', 'Trigger', 'Trip', 'Tripp',\n",
       "       'Trooper', 'Tuck', 'Tucker', 'Tuco', 'Tug', 'Tupawc', 'Tycho',\n",
       "       'Tyr', 'Tyrone', 'Tyrus', 'Ulysses', 'Venti', 'Vince', 'Vincent',\n",
       "       'Vinnie', 'Vinscent', 'Vixen', 'Wafer', 'Waffles', 'Walker',\n",
       "       'Wallace', 'Wally', 'Walter', 'Watson', 'Wesley', 'Wiggles',\n",
       "       'Willem', 'William', 'Willie', 'Willow', 'Willy', 'Wilson',\n",
       "       'Winifred', 'Winnie', 'Winston', 'Wishes', 'Wyatt', 'Yoda', 'Yogi',\n",
       "       'Yukon', 'Zara', 'Zeek', 'Zeke', 'Zeus', 'Ziva', 'Zoe', 'Zoey',\n",
       "       'Zooey', 'Zuzu', 'a', 'actually', 'all', 'an', 'by', 'getting',\n",
       "       'his', 'incredibly', 'infuriating', 'just', 'life', 'light', 'mad',\n",
       "       'my', 'not', 'officially', 'old', 'one', 'quite', 'space', 'such',\n",
       "       'the', 'this', 'unacceptable', 'very'], dtype=object)"
      ]
     },
     "execution_count": 24,
     "metadata": {},
     "output_type": "execute_result"
    }
   ],
   "source": [
    "np.sort(df.name.unique())"
   ]
  },
  {
   "cell_type": "code",
   "execution_count": 25,
   "metadata": {},
   "outputs": [
    {
     "data": {
      "text/plain": [
       "(2356, 4)"
      ]
     },
     "execution_count": 25,
     "metadata": {},
     "output_type": "execute_result"
    }
   ],
   "source": [
    "# Selecting the dog stages columns \n",
    "dog_stages = df.loc[:, 'doggo':'puppo']\n",
    "dog_stages.shape"
   ]
  },
  {
   "cell_type": "code",
   "execution_count": 26,
   "metadata": {},
   "outputs": [
    {
     "data": {
      "text/html": [
       "<div>\n",
       "<style scoped>\n",
       "    .dataframe tbody tr th:only-of-type {\n",
       "        vertical-align: middle;\n",
       "    }\n",
       "\n",
       "    .dataframe tbody tr th {\n",
       "        vertical-align: top;\n",
       "    }\n",
       "\n",
       "    .dataframe thead th {\n",
       "        text-align: right;\n",
       "    }\n",
       "</style>\n",
       "<table border=\"1\" class=\"dataframe\">\n",
       "  <thead>\n",
       "    <tr style=\"text-align: right;\">\n",
       "      <th></th>\n",
       "      <th>doggo</th>\n",
       "      <th>floofer</th>\n",
       "      <th>pupper</th>\n",
       "      <th>puppo</th>\n",
       "    </tr>\n",
       "  </thead>\n",
       "  <tbody>\n",
       "    <tr>\n",
       "      <th>count</th>\n",
       "      <td>2356</td>\n",
       "      <td>2356</td>\n",
       "      <td>2356</td>\n",
       "      <td>2356</td>\n",
       "    </tr>\n",
       "    <tr>\n",
       "      <th>unique</th>\n",
       "      <td>2</td>\n",
       "      <td>2</td>\n",
       "      <td>2</td>\n",
       "      <td>2</td>\n",
       "    </tr>\n",
       "    <tr>\n",
       "      <th>top</th>\n",
       "      <td>None</td>\n",
       "      <td>None</td>\n",
       "      <td>None</td>\n",
       "      <td>None</td>\n",
       "    </tr>\n",
       "    <tr>\n",
       "      <th>freq</th>\n",
       "      <td>2259</td>\n",
       "      <td>2346</td>\n",
       "      <td>2099</td>\n",
       "      <td>2326</td>\n",
       "    </tr>\n",
       "  </tbody>\n",
       "</table>\n",
       "</div>"
      ],
      "text/plain": [
       "       doggo floofer pupper puppo\n",
       "count   2356    2356   2356  2356\n",
       "unique     2       2      2     2\n",
       "top     None    None   None  None\n",
       "freq    2259    2346   2099  2326"
      ]
     },
     "execution_count": 26,
     "metadata": {},
     "output_type": "execute_result"
    }
   ],
   "source": [
    "dog_stages.describe()"
   ]
  },
  {
   "cell_type": "code",
   "execution_count": 27,
   "metadata": {},
   "outputs": [
    {
     "data": {
      "text/plain": [
       "6.671522e+17    2\n",
       "8.562860e+17    1\n",
       "8.131273e+17    1\n",
       "6.754971e+17    1\n",
       "6.827884e+17    1\n",
       "               ..\n",
       "8.482121e+17    1\n",
       "6.715449e+17    1\n",
       "6.936422e+17    1\n",
       "6.849598e+17    1\n",
       "7.331095e+17    1\n",
       "Name: in_reply_to_status_id, Length: 77, dtype: int64"
      ]
     },
     "execution_count": 27,
     "metadata": {},
     "output_type": "execute_result"
    }
   ],
   "source": [
    "df.in_reply_to_status_id.value_counts()"
   ]
  },
  {
   "cell_type": "markdown",
   "metadata": {},
   "source": [
    "## Twitter Archive (df table)\n",
    "### Quality Issues\n",
    "* tweet_id column should be string since there is no need for calculations using this column\n",
    "* The following columns should be integers or strings not floats: in_reply_to_status_id, in_reply_to_user_id, retweeted_status_id, and retweeted_status_user_id.\n",
    "* We only want orginal ratings and not retweets, this should be kept in mind in regards to the above issue.\n",
    "* the timestamp column should be in datetime format.\n",
    "* The names of some of the dogs seem invalid: 'a', 'the' 'an', and 'None' do not seem like valid dog names.\n",
    "* The None values in the dog stages columns should be NaN.\n",
    "* Values other than 10 in the rating_denominator colomn appear to be invalid.\n",
    "* Values less than 10 or super high values potentially indicating outliers in the rating_numerator column appear may be invalid.\n",
    "\n",
    "### Tidiness Issues\n",
    "* The dogoo, floofer, pupper, and puppo columns should be combined into one column. \n"
   ]
  },
  {
   "cell_type": "markdown",
   "metadata": {},
   "source": [
    "### Images Prediction (images table) visual assessment\n",
    " "
   ]
  },
  {
   "cell_type": "code",
   "execution_count": 28,
   "metadata": {},
   "outputs": [
    {
     "data": {
      "text/html": [
       "<div>\n",
       "<style scoped>\n",
       "    .dataframe tbody tr th:only-of-type {\n",
       "        vertical-align: middle;\n",
       "    }\n",
       "\n",
       "    .dataframe tbody tr th {\n",
       "        vertical-align: top;\n",
       "    }\n",
       "\n",
       "    .dataframe thead th {\n",
       "        text-align: right;\n",
       "    }\n",
       "</style>\n",
       "<table border=\"1\" class=\"dataframe\">\n",
       "  <thead>\n",
       "    <tr style=\"text-align: right;\">\n",
       "      <th></th>\n",
       "      <th>tweet_id</th>\n",
       "      <th>jpg_url</th>\n",
       "      <th>img_num</th>\n",
       "      <th>p1</th>\n",
       "      <th>p1_conf</th>\n",
       "      <th>p1_dog</th>\n",
       "      <th>p2</th>\n",
       "      <th>p2_conf</th>\n",
       "      <th>p2_dog</th>\n",
       "      <th>p3</th>\n",
       "      <th>p3_conf</th>\n",
       "      <th>p3_dog</th>\n",
       "    </tr>\n",
       "  </thead>\n",
       "  <tbody>\n",
       "    <tr>\n",
       "      <th>0</th>\n",
       "      <td>666020888022790149</td>\n",
       "      <td>https://pbs.twimg.com/media/CT4udn0WwAA0aMy.jpg</td>\n",
       "      <td>1</td>\n",
       "      <td>Welsh_springer_spaniel</td>\n",
       "      <td>0.465074</td>\n",
       "      <td>True</td>\n",
       "      <td>collie</td>\n",
       "      <td>0.156665</td>\n",
       "      <td>True</td>\n",
       "      <td>Shetland_sheepdog</td>\n",
       "      <td>0.061428</td>\n",
       "      <td>True</td>\n",
       "    </tr>\n",
       "    <tr>\n",
       "      <th>1</th>\n",
       "      <td>666029285002620928</td>\n",
       "      <td>https://pbs.twimg.com/media/CT42GRgUYAA5iDo.jpg</td>\n",
       "      <td>1</td>\n",
       "      <td>redbone</td>\n",
       "      <td>0.506826</td>\n",
       "      <td>True</td>\n",
       "      <td>miniature_pinscher</td>\n",
       "      <td>0.074192</td>\n",
       "      <td>True</td>\n",
       "      <td>Rhodesian_ridgeback</td>\n",
       "      <td>0.072010</td>\n",
       "      <td>True</td>\n",
       "    </tr>\n",
       "    <tr>\n",
       "      <th>2</th>\n",
       "      <td>666033412701032449</td>\n",
       "      <td>https://pbs.twimg.com/media/CT4521TWwAEvMyu.jpg</td>\n",
       "      <td>1</td>\n",
       "      <td>German_shepherd</td>\n",
       "      <td>0.596461</td>\n",
       "      <td>True</td>\n",
       "      <td>malinois</td>\n",
       "      <td>0.138584</td>\n",
       "      <td>True</td>\n",
       "      <td>bloodhound</td>\n",
       "      <td>0.116197</td>\n",
       "      <td>True</td>\n",
       "    </tr>\n",
       "    <tr>\n",
       "      <th>3</th>\n",
       "      <td>666044226329800704</td>\n",
       "      <td>https://pbs.twimg.com/media/CT5Dr8HUEAA-lEu.jpg</td>\n",
       "      <td>1</td>\n",
       "      <td>Rhodesian_ridgeback</td>\n",
       "      <td>0.408143</td>\n",
       "      <td>True</td>\n",
       "      <td>redbone</td>\n",
       "      <td>0.360687</td>\n",
       "      <td>True</td>\n",
       "      <td>miniature_pinscher</td>\n",
       "      <td>0.222752</td>\n",
       "      <td>True</td>\n",
       "    </tr>\n",
       "    <tr>\n",
       "      <th>4</th>\n",
       "      <td>666049248165822465</td>\n",
       "      <td>https://pbs.twimg.com/media/CT5IQmsXIAAKY4A.jpg</td>\n",
       "      <td>1</td>\n",
       "      <td>miniature_pinscher</td>\n",
       "      <td>0.560311</td>\n",
       "      <td>True</td>\n",
       "      <td>Rottweiler</td>\n",
       "      <td>0.243682</td>\n",
       "      <td>True</td>\n",
       "      <td>Doberman</td>\n",
       "      <td>0.154629</td>\n",
       "      <td>True</td>\n",
       "    </tr>\n",
       "  </tbody>\n",
       "</table>\n",
       "</div>"
      ],
      "text/plain": [
       "             tweet_id                                          jpg_url  \\\n",
       "0  666020888022790149  https://pbs.twimg.com/media/CT4udn0WwAA0aMy.jpg   \n",
       "1  666029285002620928  https://pbs.twimg.com/media/CT42GRgUYAA5iDo.jpg   \n",
       "2  666033412701032449  https://pbs.twimg.com/media/CT4521TWwAEvMyu.jpg   \n",
       "3  666044226329800704  https://pbs.twimg.com/media/CT5Dr8HUEAA-lEu.jpg   \n",
       "4  666049248165822465  https://pbs.twimg.com/media/CT5IQmsXIAAKY4A.jpg   \n",
       "\n",
       "   img_num                      p1   p1_conf  p1_dog                  p2  \\\n",
       "0        1  Welsh_springer_spaniel  0.465074    True              collie   \n",
       "1        1                 redbone  0.506826    True  miniature_pinscher   \n",
       "2        1         German_shepherd  0.596461    True            malinois   \n",
       "3        1     Rhodesian_ridgeback  0.408143    True             redbone   \n",
       "4        1      miniature_pinscher  0.560311    True          Rottweiler   \n",
       "\n",
       "    p2_conf  p2_dog                   p3   p3_conf  p3_dog  \n",
       "0  0.156665    True    Shetland_sheepdog  0.061428    True  \n",
       "1  0.074192    True  Rhodesian_ridgeback  0.072010    True  \n",
       "2  0.138584    True           bloodhound  0.116197    True  \n",
       "3  0.360687    True   miniature_pinscher  0.222752    True  \n",
       "4  0.243682    True             Doberman  0.154629    True  "
      ]
     },
     "execution_count": 28,
     "metadata": {},
     "output_type": "execute_result"
    }
   ],
   "source": [
    "images.head()"
   ]
  },
  {
   "cell_type": "code",
   "execution_count": 29,
   "metadata": {},
   "outputs": [
    {
     "data": {
      "text/html": [
       "<div>\n",
       "<style scoped>\n",
       "    .dataframe tbody tr th:only-of-type {\n",
       "        vertical-align: middle;\n",
       "    }\n",
       "\n",
       "    .dataframe tbody tr th {\n",
       "        vertical-align: top;\n",
       "    }\n",
       "\n",
       "    .dataframe thead th {\n",
       "        text-align: right;\n",
       "    }\n",
       "</style>\n",
       "<table border=\"1\" class=\"dataframe\">\n",
       "  <thead>\n",
       "    <tr style=\"text-align: right;\">\n",
       "      <th></th>\n",
       "      <th>tweet_id</th>\n",
       "      <th>jpg_url</th>\n",
       "      <th>img_num</th>\n",
       "      <th>p1</th>\n",
       "      <th>p1_conf</th>\n",
       "      <th>p1_dog</th>\n",
       "      <th>p2</th>\n",
       "      <th>p2_conf</th>\n",
       "      <th>p2_dog</th>\n",
       "      <th>p3</th>\n",
       "      <th>p3_conf</th>\n",
       "      <th>p3_dog</th>\n",
       "    </tr>\n",
       "  </thead>\n",
       "  <tbody>\n",
       "    <tr>\n",
       "      <th>2070</th>\n",
       "      <td>891327558926688256</td>\n",
       "      <td>https://pbs.twimg.com/media/DF6hr6BUMAAzZgT.jpg</td>\n",
       "      <td>2</td>\n",
       "      <td>basset</td>\n",
       "      <td>0.555712</td>\n",
       "      <td>True</td>\n",
       "      <td>English_springer</td>\n",
       "      <td>0.225770</td>\n",
       "      <td>True</td>\n",
       "      <td>German_short-haired_pointer</td>\n",
       "      <td>0.175219</td>\n",
       "      <td>True</td>\n",
       "    </tr>\n",
       "    <tr>\n",
       "      <th>2071</th>\n",
       "      <td>891689557279858688</td>\n",
       "      <td>https://pbs.twimg.com/media/DF_q7IAWsAEuuN8.jpg</td>\n",
       "      <td>1</td>\n",
       "      <td>paper_towel</td>\n",
       "      <td>0.170278</td>\n",
       "      <td>False</td>\n",
       "      <td>Labrador_retriever</td>\n",
       "      <td>0.168086</td>\n",
       "      <td>True</td>\n",
       "      <td>spatula</td>\n",
       "      <td>0.040836</td>\n",
       "      <td>False</td>\n",
       "    </tr>\n",
       "    <tr>\n",
       "      <th>2072</th>\n",
       "      <td>891815181378084864</td>\n",
       "      <td>https://pbs.twimg.com/media/DGBdLU1WsAANxJ9.jpg</td>\n",
       "      <td>1</td>\n",
       "      <td>Chihuahua</td>\n",
       "      <td>0.716012</td>\n",
       "      <td>True</td>\n",
       "      <td>malamute</td>\n",
       "      <td>0.078253</td>\n",
       "      <td>True</td>\n",
       "      <td>kelpie</td>\n",
       "      <td>0.031379</td>\n",
       "      <td>True</td>\n",
       "    </tr>\n",
       "    <tr>\n",
       "      <th>2073</th>\n",
       "      <td>892177421306343426</td>\n",
       "      <td>https://pbs.twimg.com/media/DGGmoV4XsAAUL6n.jpg</td>\n",
       "      <td>1</td>\n",
       "      <td>Chihuahua</td>\n",
       "      <td>0.323581</td>\n",
       "      <td>True</td>\n",
       "      <td>Pekinese</td>\n",
       "      <td>0.090647</td>\n",
       "      <td>True</td>\n",
       "      <td>papillon</td>\n",
       "      <td>0.068957</td>\n",
       "      <td>True</td>\n",
       "    </tr>\n",
       "    <tr>\n",
       "      <th>2074</th>\n",
       "      <td>892420643555336193</td>\n",
       "      <td>https://pbs.twimg.com/media/DGKD1-bXoAAIAUK.jpg</td>\n",
       "      <td>1</td>\n",
       "      <td>orange</td>\n",
       "      <td>0.097049</td>\n",
       "      <td>False</td>\n",
       "      <td>bagel</td>\n",
       "      <td>0.085851</td>\n",
       "      <td>False</td>\n",
       "      <td>banana</td>\n",
       "      <td>0.076110</td>\n",
       "      <td>False</td>\n",
       "    </tr>\n",
       "  </tbody>\n",
       "</table>\n",
       "</div>"
      ],
      "text/plain": [
       "                tweet_id                                          jpg_url  \\\n",
       "2070  891327558926688256  https://pbs.twimg.com/media/DF6hr6BUMAAzZgT.jpg   \n",
       "2071  891689557279858688  https://pbs.twimg.com/media/DF_q7IAWsAEuuN8.jpg   \n",
       "2072  891815181378084864  https://pbs.twimg.com/media/DGBdLU1WsAANxJ9.jpg   \n",
       "2073  892177421306343426  https://pbs.twimg.com/media/DGGmoV4XsAAUL6n.jpg   \n",
       "2074  892420643555336193  https://pbs.twimg.com/media/DGKD1-bXoAAIAUK.jpg   \n",
       "\n",
       "      img_num           p1   p1_conf  p1_dog                  p2   p2_conf  \\\n",
       "2070        2       basset  0.555712    True    English_springer  0.225770   \n",
       "2071        1  paper_towel  0.170278   False  Labrador_retriever  0.168086   \n",
       "2072        1    Chihuahua  0.716012    True            malamute  0.078253   \n",
       "2073        1    Chihuahua  0.323581    True            Pekinese  0.090647   \n",
       "2074        1       orange  0.097049   False               bagel  0.085851   \n",
       "\n",
       "      p2_dog                           p3   p3_conf  p3_dog  \n",
       "2070    True  German_short-haired_pointer  0.175219    True  \n",
       "2071    True                      spatula  0.040836   False  \n",
       "2072    True                       kelpie  0.031379    True  \n",
       "2073    True                     papillon  0.068957    True  \n",
       "2074   False                       banana  0.076110   False  "
      ]
     },
     "execution_count": 29,
     "metadata": {},
     "output_type": "execute_result"
    }
   ],
   "source": [
    "images.tail()"
   ]
  },
  {
   "cell_type": "code",
   "execution_count": 30,
   "metadata": {},
   "outputs": [
    {
     "name": "stdout",
     "output_type": "stream",
     "text": [
      "<class 'pandas.core.frame.DataFrame'>\n",
      "RangeIndex: 2075 entries, 0 to 2074\n",
      "Data columns (total 12 columns):\n",
      " #   Column    Non-Null Count  Dtype  \n",
      "---  ------    --------------  -----  \n",
      " 0   tweet_id  2075 non-null   int64  \n",
      " 1   jpg_url   2075 non-null   object \n",
      " 2   img_num   2075 non-null   int64  \n",
      " 3   p1        2075 non-null   object \n",
      " 4   p1_conf   2075 non-null   float64\n",
      " 5   p1_dog    2075 non-null   bool   \n",
      " 6   p2        2075 non-null   object \n",
      " 7   p2_conf   2075 non-null   float64\n",
      " 8   p2_dog    2075 non-null   bool   \n",
      " 9   p3        2075 non-null   object \n",
      " 10  p3_conf   2075 non-null   float64\n",
      " 11  p3_dog    2075 non-null   bool   \n",
      "dtypes: bool(3), float64(3), int64(2), object(4)\n",
      "memory usage: 152.1+ KB\n"
     ]
    }
   ],
   "source": [
    "images.info()"
   ]
  },
  {
   "cell_type": "markdown",
   "metadata": {},
   "source": [
    "### Images Prediction (images table) visual assessment"
   ]
  },
  {
   "cell_type": "code",
   "execution_count": 31,
   "metadata": {},
   "outputs": [
    {
     "data": {
      "text/html": [
       "<div>\n",
       "<style scoped>\n",
       "    .dataframe tbody tr th:only-of-type {\n",
       "        vertical-align: middle;\n",
       "    }\n",
       "\n",
       "    .dataframe tbody tr th {\n",
       "        vertical-align: top;\n",
       "    }\n",
       "\n",
       "    .dataframe thead th {\n",
       "        text-align: right;\n",
       "    }\n",
       "</style>\n",
       "<table border=\"1\" class=\"dataframe\">\n",
       "  <thead>\n",
       "    <tr style=\"text-align: right;\">\n",
       "      <th></th>\n",
       "      <th>tweet_id</th>\n",
       "      <th>img_num</th>\n",
       "      <th>p1_conf</th>\n",
       "      <th>p2_conf</th>\n",
       "      <th>p3_conf</th>\n",
       "    </tr>\n",
       "  </thead>\n",
       "  <tbody>\n",
       "    <tr>\n",
       "      <th>count</th>\n",
       "      <td>2.075000e+03</td>\n",
       "      <td>2075.000000</td>\n",
       "      <td>2075.000000</td>\n",
       "      <td>2.075000e+03</td>\n",
       "      <td>2.075000e+03</td>\n",
       "    </tr>\n",
       "    <tr>\n",
       "      <th>mean</th>\n",
       "      <td>7.384514e+17</td>\n",
       "      <td>1.203855</td>\n",
       "      <td>0.594548</td>\n",
       "      <td>1.345886e-01</td>\n",
       "      <td>6.032417e-02</td>\n",
       "    </tr>\n",
       "    <tr>\n",
       "      <th>std</th>\n",
       "      <td>6.785203e+16</td>\n",
       "      <td>0.561875</td>\n",
       "      <td>0.271174</td>\n",
       "      <td>1.006657e-01</td>\n",
       "      <td>5.090593e-02</td>\n",
       "    </tr>\n",
       "    <tr>\n",
       "      <th>min</th>\n",
       "      <td>6.660209e+17</td>\n",
       "      <td>1.000000</td>\n",
       "      <td>0.044333</td>\n",
       "      <td>1.011300e-08</td>\n",
       "      <td>1.740170e-10</td>\n",
       "    </tr>\n",
       "    <tr>\n",
       "      <th>25%</th>\n",
       "      <td>6.764835e+17</td>\n",
       "      <td>1.000000</td>\n",
       "      <td>0.364412</td>\n",
       "      <td>5.388625e-02</td>\n",
       "      <td>1.622240e-02</td>\n",
       "    </tr>\n",
       "    <tr>\n",
       "      <th>50%</th>\n",
       "      <td>7.119988e+17</td>\n",
       "      <td>1.000000</td>\n",
       "      <td>0.588230</td>\n",
       "      <td>1.181810e-01</td>\n",
       "      <td>4.944380e-02</td>\n",
       "    </tr>\n",
       "    <tr>\n",
       "      <th>75%</th>\n",
       "      <td>7.932034e+17</td>\n",
       "      <td>1.000000</td>\n",
       "      <td>0.843855</td>\n",
       "      <td>1.955655e-01</td>\n",
       "      <td>9.180755e-02</td>\n",
       "    </tr>\n",
       "    <tr>\n",
       "      <th>max</th>\n",
       "      <td>8.924206e+17</td>\n",
       "      <td>4.000000</td>\n",
       "      <td>1.000000</td>\n",
       "      <td>4.880140e-01</td>\n",
       "      <td>2.734190e-01</td>\n",
       "    </tr>\n",
       "  </tbody>\n",
       "</table>\n",
       "</div>"
      ],
      "text/plain": [
       "           tweet_id      img_num      p1_conf       p2_conf       p3_conf\n",
       "count  2.075000e+03  2075.000000  2075.000000  2.075000e+03  2.075000e+03\n",
       "mean   7.384514e+17     1.203855     0.594548  1.345886e-01  6.032417e-02\n",
       "std    6.785203e+16     0.561875     0.271174  1.006657e-01  5.090593e-02\n",
       "min    6.660209e+17     1.000000     0.044333  1.011300e-08  1.740170e-10\n",
       "25%    6.764835e+17     1.000000     0.364412  5.388625e-02  1.622240e-02\n",
       "50%    7.119988e+17     1.000000     0.588230  1.181810e-01  4.944380e-02\n",
       "75%    7.932034e+17     1.000000     0.843855  1.955655e-01  9.180755e-02\n",
       "max    8.924206e+17     4.000000     1.000000  4.880140e-01  2.734190e-01"
      ]
     },
     "execution_count": 31,
     "metadata": {},
     "output_type": "execute_result"
    }
   ],
   "source": [
    "images.describe()"
   ]
  },
  {
   "cell_type": "code",
   "execution_count": 32,
   "metadata": {},
   "outputs": [
    {
     "data": {
      "text/plain": [
       "golden_retriever      150\n",
       "Labrador_retriever    100\n",
       "Pembroke               89\n",
       "Chihuahua              83\n",
       "pug                    57\n",
       "                     ... \n",
       "conch                   1\n",
       "clog                    1\n",
       "pitcher                 1\n",
       "traffic_light           1\n",
       "king_penguin            1\n",
       "Name: p1, Length: 378, dtype: int64"
      ]
     },
     "execution_count": 32,
     "metadata": {},
     "output_type": "execute_result"
    }
   ],
   "source": [
    "images.p1.value_counts()"
   ]
  },
  {
   "cell_type": "code",
   "execution_count": 33,
   "metadata": {},
   "outputs": [
    {
     "data": {
      "text/plain": [
       "array(['Afghan_hound', 'African_crocodile', 'African_grey',\n",
       "       'African_hunting_dog', 'Airedale',\n",
       "       'American_Staffordshire_terrier', 'American_black_bear', 'Angora',\n",
       "       'Appenzeller', 'Arabian_camel', 'Arctic_fox', 'Australian_terrier',\n",
       "       'Bedlington_terrier', 'Bernese_mountain_dog', 'Blenheim_spaniel',\n",
       "       'Border_collie', 'Border_terrier', 'Boston_bull',\n",
       "       'Brabancon_griffon', 'Brittany_spaniel', 'Cardigan',\n",
       "       'Chesapeake_Bay_retriever', 'Chihuahua', 'Christmas_stocking',\n",
       "       'Dandie_Dinmont', 'Doberman', 'Egyptian_cat', 'English_setter',\n",
       "       'English_springer', 'EntleBucher', 'Eskimo_dog', 'French_bulldog',\n",
       "       'German_shepherd', 'German_short-haired_pointer', 'Gordon_setter',\n",
       "       'Great_Dane', 'Great_Pyrenees', 'Greater_Swiss_Mountain_dog',\n",
       "       'Ibizan_hound', 'Irish_setter', 'Irish_terrier',\n",
       "       'Irish_water_spaniel', 'Italian_greyhound', 'Japanese_spaniel',\n",
       "       'Labrador_retriever', 'Lakeland_terrier', 'Leonberg', 'Lhasa',\n",
       "       'Loafer', 'Madagascar_cat', 'Maltese_dog', 'Mexican_hairless',\n",
       "       'Newfoundland', 'Norfolk_terrier', 'Norwegian_elkhound',\n",
       "       'Norwich_terrier', 'Old_English_sheepdog', 'Pekinese', 'Pembroke',\n",
       "       'Pomeranian', 'Rhodesian_ridgeback', 'Rottweiler', 'Saint_Bernard',\n",
       "       'Saluki', 'Samoyed', 'Scotch_terrier', 'Scottish_deerhound',\n",
       "       'Shetland_sheepdog', 'Shih-Tzu', 'Siamese_cat', 'Siberian_husky',\n",
       "       'Staffordshire_bullterrier', 'Sussex_spaniel', 'Tibetan_mastiff',\n",
       "       'Tibetan_terrier', 'Walker_hound', 'Weimaraner',\n",
       "       'Welsh_springer_spaniel', 'West_Highland_white_terrier',\n",
       "       'Yorkshire_terrier', 'acorn_squash', 'agama', 'alp', 'axolotl',\n",
       "       'badger', 'bakery', 'bald_eagle', 'balloon', 'banana', 'bannister',\n",
       "       'barbell', 'barrow', 'basenji', 'basketball', 'basset',\n",
       "       'bath_towel', 'bathtub', 'beach_wagon', 'beagle', 'bearskin',\n",
       "       'beaver', 'bee_eater', 'bib', 'bighorn', 'binoculars', 'birdhouse',\n",
       "       'bison', 'black-and-tan_coonhound', 'black-footed_ferret',\n",
       "       'bloodhound', 'bluetick', 'boathouse', 'bonnet', 'book_jacket',\n",
       "       'bookcase', 'bookshop', 'borzoi', 'bow', 'bow_tie', 'box_turtle',\n",
       "       'boxer', 'briard', 'brown_bear', 'bubble', 'bull_mastiff',\n",
       "       'bustard', 'cairn', 'candle', 'canoe', 'car_mirror', 'carousel',\n",
       "       'carton', 'cash_machine', 'cheeseburger', 'cheetah', 'chimpanzee',\n",
       "       'china_cabinet', 'chow', 'cliff', 'clog', 'clumber',\n",
       "       'cocker_spaniel', 'coffee_mug', 'coho', 'coil', 'collie',\n",
       "       'comic_book', 'common_iguana', 'conch', 'convertible',\n",
       "       'coral_reef', 'cougar', 'cowboy_boot', 'cowboy_hat', 'crane',\n",
       "       'crash_helmet', 'cuirass', 'cup', 'curly-coated_retriever',\n",
       "       'dalmatian', 'damselfly', 'desktop_computer', 'dhole', 'dingo',\n",
       "       'dining_table', 'dishwasher', 'dogsled', 'doormat', 'dough',\n",
       "       'earthstar', 'electric_fan', 'envelope', 'espresso', 'feather_boa',\n",
       "       'fiddler_crab', 'fire_engine', 'flamingo', 'flat-coated_retriever',\n",
       "       'fountain', 'four-poster', 'frilled_lizard', 'gas_pump', 'geyser',\n",
       "       'giant_panda', 'giant_schnauzer', 'golden_retriever', 'gondola',\n",
       "       'goose', 'grey_fox', 'grille', 'groenendael', 'guenon',\n",
       "       'guinea_pig', 'hammer', 'hamster', 'hand_blower', 'handkerchief',\n",
       "       'hare', 'harp', 'hay', 'hen', 'hermit_crab', 'hippopotamus', 'hog',\n",
       "       'home_theater', 'hotdog', 'hummingbird', 'hyena', 'ibex',\n",
       "       'ice_bear', 'ice_lolly', \"jack-o'-lantern\", 'jellyfish', 'jersey',\n",
       "       'jigsaw_puzzle', 'keeshond', 'kelpie', 'killer_whale',\n",
       "       'king_penguin', 'koala', 'komondor', 'kuvasz', 'lacewing',\n",
       "       'lakeside', 'laptop', 'lawn_mower', 'leaf_beetle',\n",
       "       'leatherback_turtle', 'leopard', 'limousine', 'lion', 'llama',\n",
       "       'long-horned_beetle', 'lorikeet', 'loupe', 'lynx', 'mailbox',\n",
       "       'maillot', 'malamute', 'malinois', 'marmot', 'maze', 'meerkat',\n",
       "       'microphone', 'microwave', 'military_uniform',\n",
       "       'miniature_pinscher', 'miniature_poodle', 'miniature_schnauzer',\n",
       "       'minibus', 'minivan', 'mortarboard', 'motor_scooter', 'mousetrap',\n",
       "       'mud_turtle', 'muzzle', 'nail', 'ocarina', 'orange', 'ostrich',\n",
       "       'otter', 'ox', 'paddle', 'padlock', 'panpipe', 'paper_towel',\n",
       "       'papillon', 'park_bench', 'patio', 'peacock', 'pedestal',\n",
       "       'pencil_box', 'picket_fence', 'piggy_bank', 'pillow',\n",
       "       'ping-pong_ball', 'pitcher', 'platypus', 'pole', 'polecat',\n",
       "       'pool_table', 'porcupine', 'pot', 'prayer_rug', 'prison', 'pug',\n",
       "       'quilt', 'radio_telescope', 'rain_barrel', 'ram', 'rapeseed',\n",
       "       'redbone', 'refrigerator', 'remote_control', 'restaurant',\n",
       "       'revolver', 'robin', 'rotisserie', 'sandbar', 'schipperke',\n",
       "       'school_bus', 'scorpion', 'sea_lion', 'sea_urchin', 'seashore',\n",
       "       'seat_belt', 'shield', 'shopping_basket', 'shopping_cart',\n",
       "       'shower_curtain', 'silky_terrier', 'ski_mask', 'skunk',\n",
       "       'sliding_door', 'slug', 'snail', 'snorkel', 'snowmobile',\n",
       "       'soccer_ball', 'soft-coated_wheaten_terrier', 'sorrel',\n",
       "       'space_heater', 'standard_poodle', 'standard_schnauzer',\n",
       "       'starfish', 'stone_wall', 'stove', 'street_sign', 'studio_couch',\n",
       "       'suit', 'sulphur-crested_cockatoo', 'sundial', 'sunglasses',\n",
       "       'swab', 'swing', 'syringe', 'tabby', 'tailed_frog', 'teapot',\n",
       "       'teddy', 'tennis_ball', 'terrapin', 'three-toed_sloth', 'tick',\n",
       "       'tiger_shark', 'timber_wolf', 'toilet_seat', 'toilet_tissue',\n",
       "       'toy_poodle', 'toy_terrier', 'toyshop', 'traffic_light',\n",
       "       'triceratops', 'tricycle', 'trombone', 'tub', 'tusker', 'upright',\n",
       "       'vacuum', 'vizsla', 'walking_stick', 'wallaby', 'washbasin',\n",
       "       'washer', 'water_bottle', 'water_buffalo', 'weasel', 'web_site',\n",
       "       'whippet', 'white_wolf', 'wild_boar', 'window_shade',\n",
       "       'wire-haired_fox_terrier', 'wombat', 'wood_rabbit', 'wooden_spoon',\n",
       "       'wool', 'zebra'], dtype=object)"
      ]
     },
     "execution_count": 33,
     "metadata": {},
     "output_type": "execute_result"
    }
   ],
   "source": [
    "np.sort(images.p1.unique())"
   ]
  },
  {
   "cell_type": "code",
   "execution_count": 34,
   "metadata": {},
   "outputs": [
    {
     "data": {
      "text/plain": [
       "Labrador_retriever    104\n",
       "golden_retriever       92\n",
       "Cardigan               73\n",
       "Chihuahua              44\n",
       "Pomeranian             42\n",
       "                     ... \n",
       "hand-held_computer      1\n",
       "tree_frog               1\n",
       "grey_whale              1\n",
       "killer_whale            1\n",
       "washbasin               1\n",
       "Name: p2, Length: 405, dtype: int64"
      ]
     },
     "execution_count": 34,
     "metadata": {},
     "output_type": "execute_result"
    }
   ],
   "source": [
    "images.p2.value_counts()"
   ]
  },
  {
   "cell_type": "code",
   "execution_count": 35,
   "metadata": {},
   "outputs": [
    {
     "data": {
      "text/plain": [
       "Labrador_retriever    79\n",
       "Chihuahua             58\n",
       "golden_retriever      48\n",
       "Eskimo_dog            38\n",
       "kelpie                35\n",
       "                      ..\n",
       "loggerhead             1\n",
       "drumstick              1\n",
       "assault_rifle          1\n",
       "wombat                 1\n",
       "whiptail               1\n",
       "Name: p3, Length: 408, dtype: int64"
      ]
     },
     "execution_count": 35,
     "metadata": {},
     "output_type": "execute_result"
    }
   ],
   "source": [
    "images.p3.value_counts()"
   ]
  },
  {
   "cell_type": "code",
   "execution_count": 36,
   "metadata": {},
   "outputs": [
    {
     "data": {
      "text/plain": [
       "True     1532\n",
       "False     543\n",
       "Name: p1_dog, dtype: int64"
      ]
     },
     "execution_count": 36,
     "metadata": {},
     "output_type": "execute_result"
    }
   ],
   "source": [
    "images.p1_dog.value_counts()"
   ]
  },
  {
   "cell_type": "code",
   "execution_count": 37,
   "metadata": {},
   "outputs": [
    {
     "data": {
      "text/plain": [
       "True     1553\n",
       "False     522\n",
       "Name: p2_dog, dtype: int64"
      ]
     },
     "execution_count": 37,
     "metadata": {},
     "output_type": "execute_result"
    }
   ],
   "source": [
    "images.p2_dog.value_counts()"
   ]
  },
  {
   "cell_type": "code",
   "execution_count": 38,
   "metadata": {},
   "outputs": [
    {
     "data": {
      "text/plain": [
       "True     1499\n",
       "False     576\n",
       "Name: p3_dog, dtype: int64"
      ]
     },
     "execution_count": 38,
     "metadata": {},
     "output_type": "execute_result"
    }
   ],
   "source": [
    "images.p3_dog.value_counts()"
   ]
  },
  {
   "cell_type": "code",
   "execution_count": 39,
   "metadata": {},
   "outputs": [
    {
     "data": {
      "text/plain": [
       "17    tweet_id\n",
       "dtype: object"
      ]
     },
     "execution_count": 39,
     "metadata": {},
     "output_type": "execute_result"
    }
   ],
   "source": [
    "columns = pd.Series(list(df) + list(images))\n",
    "columns[columns.duplicated()]"
   ]
  },
  {
   "cell_type": "markdown",
   "metadata": {},
   "source": [
    "## Image predictions (images table)\n",
    "### Quality issues\n",
    "* The names in the p1, p2, p3 column should all be capitalized for consistency.\n",
    "* Rename the p1, p2, p3 columns to more descriptive names.\n",
    "\n",
    "### Tidiness issues\n",
    "* This dataframe will eventually be merged with the Twitter Archive dataframe. "
   ]
  },
  {
   "cell_type": "markdown",
   "metadata": {},
   "source": [
    "### df_tweets visual assessment"
   ]
  },
  {
   "cell_type": "code",
   "execution_count": 40,
   "metadata": {},
   "outputs": [
    {
     "data": {
      "text/html": [
       "<div>\n",
       "<style scoped>\n",
       "    .dataframe tbody tr th:only-of-type {\n",
       "        vertical-align: middle;\n",
       "    }\n",
       "\n",
       "    .dataframe tbody tr th {\n",
       "        vertical-align: top;\n",
       "    }\n",
       "\n",
       "    .dataframe thead th {\n",
       "        text-align: right;\n",
       "    }\n",
       "</style>\n",
       "<table border=\"1\" class=\"dataframe\">\n",
       "  <thead>\n",
       "    <tr style=\"text-align: right;\">\n",
       "      <th></th>\n",
       "      <th>tweet_id</th>\n",
       "      <th>favorites_count</th>\n",
       "      <th>retweets_count</th>\n",
       "    </tr>\n",
       "  </thead>\n",
       "  <tbody>\n",
       "    <tr>\n",
       "      <th>0</th>\n",
       "      <td>892420643555336193</td>\n",
       "      <td>36241</td>\n",
       "      <td>7712</td>\n",
       "    </tr>\n",
       "    <tr>\n",
       "      <th>1</th>\n",
       "      <td>892177421306343426</td>\n",
       "      <td>31250</td>\n",
       "      <td>5699</td>\n",
       "    </tr>\n",
       "    <tr>\n",
       "      <th>2</th>\n",
       "      <td>891815181378084864</td>\n",
       "      <td>23531</td>\n",
       "      <td>3778</td>\n",
       "    </tr>\n",
       "    <tr>\n",
       "      <th>3</th>\n",
       "      <td>891689557279858688</td>\n",
       "      <td>39518</td>\n",
       "      <td>7868</td>\n",
       "    </tr>\n",
       "    <tr>\n",
       "      <th>4</th>\n",
       "      <td>891327558926688256</td>\n",
       "      <td>37726</td>\n",
       "      <td>8484</td>\n",
       "    </tr>\n",
       "  </tbody>\n",
       "</table>\n",
       "</div>"
      ],
      "text/plain": [
       "             tweet_id  favorites_count  retweets_count\n",
       "0  892420643555336193            36241            7712\n",
       "1  892177421306343426            31250            5699\n",
       "2  891815181378084864            23531            3778\n",
       "3  891689557279858688            39518            7868\n",
       "4  891327558926688256            37726            8484"
      ]
     },
     "execution_count": 40,
     "metadata": {},
     "output_type": "execute_result"
    }
   ],
   "source": [
    "df_tweets.head()"
   ]
  },
  {
   "cell_type": "code",
   "execution_count": 41,
   "metadata": {},
   "outputs": [
    {
     "data": {
      "text/html": [
       "<div>\n",
       "<style scoped>\n",
       "    .dataframe tbody tr th:only-of-type {\n",
       "        vertical-align: middle;\n",
       "    }\n",
       "\n",
       "    .dataframe tbody tr th {\n",
       "        vertical-align: top;\n",
       "    }\n",
       "\n",
       "    .dataframe thead th {\n",
       "        text-align: right;\n",
       "    }\n",
       "</style>\n",
       "<table border=\"1\" class=\"dataframe\">\n",
       "  <thead>\n",
       "    <tr style=\"text-align: right;\">\n",
       "      <th></th>\n",
       "      <th>tweet_id</th>\n",
       "      <th>favorites_count</th>\n",
       "      <th>retweets_count</th>\n",
       "    </tr>\n",
       "  </thead>\n",
       "  <tbody>\n",
       "    <tr>\n",
       "      <th>2325</th>\n",
       "      <td>666049248165822465</td>\n",
       "      <td>96</td>\n",
       "      <td>39</td>\n",
       "    </tr>\n",
       "    <tr>\n",
       "      <th>2326</th>\n",
       "      <td>666044226329800704</td>\n",
       "      <td>272</td>\n",
       "      <td>132</td>\n",
       "    </tr>\n",
       "    <tr>\n",
       "      <th>2327</th>\n",
       "      <td>666033412701032449</td>\n",
       "      <td>112</td>\n",
       "      <td>41</td>\n",
       "    </tr>\n",
       "    <tr>\n",
       "      <th>2328</th>\n",
       "      <td>666029285002620928</td>\n",
       "      <td>121</td>\n",
       "      <td>42</td>\n",
       "    </tr>\n",
       "    <tr>\n",
       "      <th>2329</th>\n",
       "      <td>666020888022790149</td>\n",
       "      <td>2414</td>\n",
       "      <td>462</td>\n",
       "    </tr>\n",
       "  </tbody>\n",
       "</table>\n",
       "</div>"
      ],
      "text/plain": [
       "                tweet_id  favorites_count  retweets_count\n",
       "2325  666049248165822465               96              39\n",
       "2326  666044226329800704              272             132\n",
       "2327  666033412701032449              112              41\n",
       "2328  666029285002620928              121              42\n",
       "2329  666020888022790149             2414             462"
      ]
     },
     "execution_count": 41,
     "metadata": {},
     "output_type": "execute_result"
    }
   ],
   "source": [
    "df_tweets.tail()"
   ]
  },
  {
   "cell_type": "code",
   "execution_count": 42,
   "metadata": {},
   "outputs": [
    {
     "name": "stdout",
     "output_type": "stream",
     "text": [
      "<class 'pandas.core.frame.DataFrame'>\n",
      "RangeIndex: 2330 entries, 0 to 2329\n",
      "Data columns (total 3 columns):\n",
      " #   Column           Non-Null Count  Dtype\n",
      "---  ------           --------------  -----\n",
      " 0   tweet_id         2330 non-null   int64\n",
      " 1   favorites_count  2330 non-null   int64\n",
      " 2   retweets_count   2330 non-null   int64\n",
      "dtypes: int64(3)\n",
      "memory usage: 54.7 KB\n"
     ]
    }
   ],
   "source": [
    "df_tweets.info()"
   ]
  },
  {
   "cell_type": "markdown",
   "metadata": {},
   "source": [
    "### df_tweets programmatic assessement"
   ]
  },
  {
   "cell_type": "code",
   "execution_count": 43,
   "metadata": {},
   "outputs": [
    {
     "data": {
      "text/plain": [
       "17    tweet_id\n",
       "29    tweet_id\n",
       "dtype: object"
      ]
     },
     "execution_count": 43,
     "metadata": {},
     "output_type": "execute_result"
    }
   ],
   "source": [
    "all_columns = pd.Series(list(df) + list(images) + list(df_tweets))\n",
    "all_columns[all_columns.duplicated()]"
   ]
  },
  {
   "cell_type": "markdown",
   "metadata": {},
   "source": [
    "## Quality and Tidiness summary\n",
    "### Quality Issues\n",
    "* tweet_id column should be string since there is no need for calculations using this column.\n",
    "* The following columns should be integers or strings not floats: in_reply_to_status_id, in_reply_to_user_id, retweeted_status_id, and retweeted_status_user_id.\n",
    "* We only want original ratings and not retweets, this should be kept in mind in regarding the above issue.\n",
    "* the timestamp column should be in datetime format.\n",
    "* The names of some of the dogs seem invalid: 'a', 'the' 'an', and 'None' do not seem like valid dog names.\n",
    "* The None values in the dog stages columns should be NaN.\n",
    "* Values other than 10 in the rating_denominator colomn appear to be invalid.\n",
    "* Values less than 10 or super high values potentially indicating outliers in the rating_numerator column appear may be invalid.\n",
    "* The 'source' column still has HTML code within the text making it harder to read. \n",
    "* The names in the p1, p2, p3 column should all be capitalized for consistency.\n",
    "* Replace the underscore (_) for the p1 column with a hyphen(-).\n",
    "* Rename the p1, p2, p3 columns to more descriptive names.\n",
    "* The df_tweets has 2330 entries versus the Twitter Archives (df) table which has 2356 entries. This could indicate that the data has been deleted or that an error occurred when running the Tweepy API.\n",
    "* Depending on the analysis one is trying to accomplish, it may or me not be necessary to drop certain columns. However, dropping columns not used for a project may prove useful to help reduce clutter. \n",
    "* Making sure that 'tweet_id' column along with columns from 'expanded_urls' all the way to 'retweets_count columns have the same number of non-Null values.   \n",
    "* Note: This is not a comprehensive list of all the data quality issues that these three datasets have as many other quality issues probably exist. \n",
    "\n",
    "### Tidiness Issues\n",
    "* The dogoo, floofer, pupper, and puppo columns should be combined into one column. \n",
    "* Merge all the dataframes into one dataframe for easier analysis.\n"
   ]
  },
  {
   "cell_type": "markdown",
   "metadata": {},
   "source": [
    "##  Cleaning\n",
    "The following format for data cleaning will be as follow:\n",
    "1. Define: Give a short description of what needs to be cleaned and a short explanation of the code that will be used to fix the issue.\n",
    "2. Code: Programmatically clean the data using code\n",
    "3. Test: Test to confirm the desired changes were successfully applied. "
   ]
  },
  {
   "cell_type": "markdown",
   "metadata": {},
   "source": [
    "Whenever cleaning datasets, it is always a good idea to make a copy of each the datasets in the project. This enables to make comparisons if needed between the cleaned datasets and original datasets."
   ]
  },
  {
   "cell_type": "code",
   "execution_count": 44,
   "metadata": {},
   "outputs": [],
   "source": [
    "# Making copies of each of the datasets\n",
    "df1 = df.copy()\n",
    "images1 = images.copy()\n",
    "df_tweets1 = df_tweets.copy()"
   ]
  },
  {
   "cell_type": "code",
   "execution_count": 45,
   "metadata": {},
   "outputs": [
    {
     "data": {
      "text/plain": [
       "Index(['tweet_id', 'in_reply_to_status_id', 'in_reply_to_user_id', 'timestamp',\n",
       "       'source', 'text', 'retweeted_status_id', 'retweeted_status_user_id',\n",
       "       'retweeted_status_timestamp', 'expanded_urls', 'rating_numerator',\n",
       "       'rating_denominator', 'name', 'doggo', 'floofer', 'pupper', 'puppo'],\n",
       "      dtype='object')"
      ]
     },
     "execution_count": 45,
     "metadata": {},
     "output_type": "execute_result"
    }
   ],
   "source": [
    "df1.columns"
   ]
  },
  {
   "cell_type": "code",
   "execution_count": 46,
   "metadata": {},
   "outputs": [
    {
     "data": {
      "text/plain": [
       "Index(['tweet_id', 'jpg_url', 'img_num', 'p1', 'p1_conf', 'p1_dog', 'p2',\n",
       "       'p2_conf', 'p2_dog', 'p3', 'p3_conf', 'p3_dog'],\n",
       "      dtype='object')"
      ]
     },
     "execution_count": 46,
     "metadata": {},
     "output_type": "execute_result"
    }
   ],
   "source": [
    "images1.columns"
   ]
  },
  {
   "cell_type": "code",
   "execution_count": 47,
   "metadata": {},
   "outputs": [
    {
     "data": {
      "text/plain": [
       "Index(['tweet_id', 'favorites_count', 'retweets_count'], dtype='object')"
      ]
     },
     "execution_count": 47,
     "metadata": {},
     "output_type": "execute_result"
    }
   ],
   "source": [
    "df_tweets1.columns"
   ]
  },
  {
   "cell_type": "markdown",
   "metadata": {},
   "source": [
    "There are often many ways to accomplish a given task. Given that each of these dataframes have a column named 'tweet_id', merging all dataframes into one data frame might make the process a little easier. However, there may an excessive number of columns that could result in excessive scrolling. Once a master dataframe has been merged from smaller dataframes, it may be a good idea to drop columns that you know you will not want or need in your analysis."
   ]
  },
  {
   "cell_type": "markdown",
   "metadata": {},
   "source": [
    "## Tidiness issue 1\n",
    "### Define\n",
    "Combine each the three dataframes into one data frame. Start off by merging the Twitter Archives and images dataframe into one dataframe. Merge the dataframe created by using the API to the recently created dataframe. This will involve using the merge function two separate times."
   ]
  },
  {
   "cell_type": "markdown",
   "metadata": {},
   "source": [
    "### Code"
   ]
  },
  {
   "cell_type": "code",
   "execution_count": 48,
   "metadata": {},
   "outputs": [],
   "source": [
    "# Merging the df1 and images1 dataframes\n",
    "df1_images = pd.merge(df1, images1, on =['tweet_id'], how = 'left')"
   ]
  },
  {
   "cell_type": "markdown",
   "metadata": {},
   "source": [
    "### Test"
   ]
  },
  {
   "cell_type": "code",
   "execution_count": 49,
   "metadata": {},
   "outputs": [
    {
     "data": {
      "text/plain": [
       "29"
      ]
     },
     "execution_count": 49,
     "metadata": {},
     "output_type": "execute_result"
    }
   ],
   "source": [
    "df1.shape[1] + images1.shape[1]"
   ]
  },
  {
   "cell_type": "code",
   "execution_count": 50,
   "metadata": {},
   "outputs": [
    {
     "data": {
      "text/html": [
       "<div>\n",
       "<style scoped>\n",
       "    .dataframe tbody tr th:only-of-type {\n",
       "        vertical-align: middle;\n",
       "    }\n",
       "\n",
       "    .dataframe tbody tr th {\n",
       "        vertical-align: top;\n",
       "    }\n",
       "\n",
       "    .dataframe thead th {\n",
       "        text-align: right;\n",
       "    }\n",
       "</style>\n",
       "<table border=\"1\" class=\"dataframe\">\n",
       "  <thead>\n",
       "    <tr style=\"text-align: right;\">\n",
       "      <th></th>\n",
       "      <th>tweet_id</th>\n",
       "      <th>in_reply_to_status_id</th>\n",
       "      <th>in_reply_to_user_id</th>\n",
       "      <th>timestamp</th>\n",
       "      <th>source</th>\n",
       "      <th>text</th>\n",
       "      <th>retweeted_status_id</th>\n",
       "      <th>retweeted_status_user_id</th>\n",
       "      <th>retweeted_status_timestamp</th>\n",
       "      <th>expanded_urls</th>\n",
       "      <th>...</th>\n",
       "      <th>img_num</th>\n",
       "      <th>p1</th>\n",
       "      <th>p1_conf</th>\n",
       "      <th>p1_dog</th>\n",
       "      <th>p2</th>\n",
       "      <th>p2_conf</th>\n",
       "      <th>p2_dog</th>\n",
       "      <th>p3</th>\n",
       "      <th>p3_conf</th>\n",
       "      <th>p3_dog</th>\n",
       "    </tr>\n",
       "  </thead>\n",
       "  <tbody>\n",
       "    <tr>\n",
       "      <th>0</th>\n",
       "      <td>892420643555336193</td>\n",
       "      <td>NaN</td>\n",
       "      <td>NaN</td>\n",
       "      <td>2017-08-01 16:23:56 +0000</td>\n",
       "      <td>&lt;a href=\"http://twitter.com/download/iphone\" r...</td>\n",
       "      <td>This is Phineas. He's a mystical boy. Only eve...</td>\n",
       "      <td>NaN</td>\n",
       "      <td>NaN</td>\n",
       "      <td>NaN</td>\n",
       "      <td>https://twitter.com/dog_rates/status/892420643...</td>\n",
       "      <td>...</td>\n",
       "      <td>1.0</td>\n",
       "      <td>orange</td>\n",
       "      <td>0.097049</td>\n",
       "      <td>False</td>\n",
       "      <td>bagel</td>\n",
       "      <td>0.085851</td>\n",
       "      <td>False</td>\n",
       "      <td>banana</td>\n",
       "      <td>0.07611</td>\n",
       "      <td>False</td>\n",
       "    </tr>\n",
       "  </tbody>\n",
       "</table>\n",
       "<p>1 rows × 28 columns</p>\n",
       "</div>"
      ],
      "text/plain": [
       "             tweet_id  in_reply_to_status_id  in_reply_to_user_id  \\\n",
       "0  892420643555336193                    NaN                  NaN   \n",
       "\n",
       "                   timestamp  \\\n",
       "0  2017-08-01 16:23:56 +0000   \n",
       "\n",
       "                                              source  \\\n",
       "0  <a href=\"http://twitter.com/download/iphone\" r...   \n",
       "\n",
       "                                                text  retweeted_status_id  \\\n",
       "0  This is Phineas. He's a mystical boy. Only eve...                  NaN   \n",
       "\n",
       "   retweeted_status_user_id retweeted_status_timestamp  \\\n",
       "0                       NaN                        NaN   \n",
       "\n",
       "                                       expanded_urls  ...  img_num      p1  \\\n",
       "0  https://twitter.com/dog_rates/status/892420643...  ...      1.0  orange   \n",
       "\n",
       "    p1_conf p1_dog     p2   p2_conf p2_dog      p3  p3_conf p3_dog  \n",
       "0  0.097049  False  bagel  0.085851  False  banana  0.07611  False  \n",
       "\n",
       "[1 rows x 28 columns]"
      ]
     },
     "execution_count": 50,
     "metadata": {},
     "output_type": "execute_result"
    }
   ],
   "source": [
    "# Resulting dataframe should have 28 columns\n",
    "df1_images.head(1)"
   ]
  },
  {
   "cell_type": "code",
   "execution_count": 51,
   "metadata": {},
   "outputs": [
    {
     "name": "stdout",
     "output_type": "stream",
     "text": [
      "<class 'pandas.core.frame.DataFrame'>\n",
      "Int64Index: 2356 entries, 0 to 2355\n",
      "Data columns (total 28 columns):\n",
      " #   Column                      Non-Null Count  Dtype  \n",
      "---  ------                      --------------  -----  \n",
      " 0   tweet_id                    2356 non-null   int64  \n",
      " 1   in_reply_to_status_id       78 non-null     float64\n",
      " 2   in_reply_to_user_id         78 non-null     float64\n",
      " 3   timestamp                   2356 non-null   object \n",
      " 4   source                      2356 non-null   object \n",
      " 5   text                        2356 non-null   object \n",
      " 6   retweeted_status_id         181 non-null    float64\n",
      " 7   retweeted_status_user_id    181 non-null    float64\n",
      " 8   retweeted_status_timestamp  181 non-null    object \n",
      " 9   expanded_urls               2297 non-null   object \n",
      " 10  rating_numerator            2356 non-null   int64  \n",
      " 11  rating_denominator          2356 non-null   int64  \n",
      " 12  name                        2356 non-null   object \n",
      " 13  doggo                       2356 non-null   object \n",
      " 14  floofer                     2356 non-null   object \n",
      " 15  pupper                      2356 non-null   object \n",
      " 16  puppo                       2356 non-null   object \n",
      " 17  jpg_url                     2075 non-null   object \n",
      " 18  img_num                     2075 non-null   float64\n",
      " 19  p1                          2075 non-null   object \n",
      " 20  p1_conf                     2075 non-null   float64\n",
      " 21  p1_dog                      2075 non-null   object \n",
      " 22  p2                          2075 non-null   object \n",
      " 23  p2_conf                     2075 non-null   float64\n",
      " 24  p2_dog                      2075 non-null   object \n",
      " 25  p3                          2075 non-null   object \n",
      " 26  p3_conf                     2075 non-null   float64\n",
      " 27  p3_dog                      2075 non-null   object \n",
      "dtypes: float64(8), int64(3), object(17)\n",
      "memory usage: 533.8+ KB\n"
     ]
    }
   ],
   "source": [
    "df1_images.info()"
   ]
  },
  {
   "cell_type": "markdown",
   "metadata": {},
   "source": [
    "### Code"
   ]
  },
  {
   "cell_type": "code",
   "execution_count": 52,
   "metadata": {},
   "outputs": [],
   "source": [
    "# Merge the dt_tweets1 dataframe to the df1_images dataframe\n",
    "star_dog = pd.merge(df1_images, df_tweets1, on=['tweet_id'], how='left')"
   ]
  },
  {
   "cell_type": "markdown",
   "metadata": {},
   "source": [
    "### Test"
   ]
  },
  {
   "cell_type": "code",
   "execution_count": 53,
   "metadata": {},
   "outputs": [
    {
     "name": "stdout",
     "output_type": "stream",
     "text": [
      "<class 'pandas.core.frame.DataFrame'>\n",
      "Int64Index: 2356 entries, 0 to 2355\n",
      "Data columns (total 30 columns):\n",
      " #   Column                      Non-Null Count  Dtype  \n",
      "---  ------                      --------------  -----  \n",
      " 0   tweet_id                    2356 non-null   int64  \n",
      " 1   in_reply_to_status_id       78 non-null     float64\n",
      " 2   in_reply_to_user_id         78 non-null     float64\n",
      " 3   timestamp                   2356 non-null   object \n",
      " 4   source                      2356 non-null   object \n",
      " 5   text                        2356 non-null   object \n",
      " 6   retweeted_status_id         181 non-null    float64\n",
      " 7   retweeted_status_user_id    181 non-null    float64\n",
      " 8   retweeted_status_timestamp  181 non-null    object \n",
      " 9   expanded_urls               2297 non-null   object \n",
      " 10  rating_numerator            2356 non-null   int64  \n",
      " 11  rating_denominator          2356 non-null   int64  \n",
      " 12  name                        2356 non-null   object \n",
      " 13  doggo                       2356 non-null   object \n",
      " 14  floofer                     2356 non-null   object \n",
      " 15  pupper                      2356 non-null   object \n",
      " 16  puppo                       2356 non-null   object \n",
      " 17  jpg_url                     2075 non-null   object \n",
      " 18  img_num                     2075 non-null   float64\n",
      " 19  p1                          2075 non-null   object \n",
      " 20  p1_conf                     2075 non-null   float64\n",
      " 21  p1_dog                      2075 non-null   object \n",
      " 22  p2                          2075 non-null   object \n",
      " 23  p2_conf                     2075 non-null   float64\n",
      " 24  p2_dog                      2075 non-null   object \n",
      " 25  p3                          2075 non-null   object \n",
      " 26  p3_conf                     2075 non-null   float64\n",
      " 27  p3_dog                      2075 non-null   object \n",
      " 28  favorites_count             2330 non-null   float64\n",
      " 29  retweets_count              2330 non-null   float64\n",
      "dtypes: float64(10), int64(3), object(17)\n",
      "memory usage: 570.6+ KB\n"
     ]
    }
   ],
   "source": [
    "# star_dog dataframe should have 30 columns\n",
    "star_dog.info()"
   ]
  },
  {
   "cell_type": "code",
   "execution_count": 54,
   "metadata": {},
   "outputs": [],
   "source": [
    "# Save this dataframe to a csv file\n",
    "star_dog.to_csv('top_dog.csv', index = False)"
   ]
  },
  {
   "cell_type": "code",
   "execution_count": 55,
   "metadata": {},
   "outputs": [
    {
     "data": {
      "text/plain": [
       "(2356, 30)"
      ]
     },
     "execution_count": 55,
     "metadata": {},
     "output_type": "execute_result"
    }
   ],
   "source": [
    "# Open the saved csv file\n",
    "star_dog = pd.read_csv('top_dog.csv')\n",
    "star_dog.shape"
   ]
  },
  {
   "cell_type": "code",
   "execution_count": 56,
   "metadata": {},
   "outputs": [],
   "source": [
    "# Make a copy of the merged dataframe\n",
    "top_dog = star_dog.copy()"
   ]
  },
  {
   "cell_type": "markdown",
   "metadata": {},
   "source": [
    "## Quality issue 1\n",
    "### Define\n",
    "Change the tweet_id column data type from an integer to a string using the .astype() function"
   ]
  },
  {
   "cell_type": "markdown",
   "metadata": {},
   "source": [
    "### Code"
   ]
  },
  {
   "cell_type": "code",
   "execution_count": 57,
   "metadata": {},
   "outputs": [],
   "source": [
    "top_dog['tweet_id'] = top_dog['tweet_id'].astype(str)"
   ]
  },
  {
   "cell_type": "markdown",
   "metadata": {},
   "source": [
    "### Test"
   ]
  },
  {
   "cell_type": "code",
   "execution_count": 58,
   "metadata": {},
   "outputs": [
    {
     "data": {
      "text/plain": [
       "str"
      ]
     },
     "execution_count": 58,
     "metadata": {},
     "output_type": "execute_result"
    }
   ],
   "source": [
    "# To avoid printing excessive text, just use the type function to determine the tweet_id datatype for the first row\n",
    "type(top_dog.tweet_id[0])  "
   ]
  },
  {
   "cell_type": "markdown",
   "metadata": {},
   "source": [
    "## Quality issue 2\n",
    "### Define\n",
    "Change the timestamp column from a string to a datetime data value"
   ]
  },
  {
   "cell_type": "markdown",
   "metadata": {},
   "source": [
    "### Code"
   ]
  },
  {
   "cell_type": "code",
   "execution_count": 59,
   "metadata": {},
   "outputs": [],
   "source": [
    "top_dog.timestamp = pd.to_datetime(top_dog['timestamp'])"
   ]
  },
  {
   "cell_type": "markdown",
   "metadata": {},
   "source": [
    "### Test"
   ]
  },
  {
   "cell_type": "code",
   "execution_count": 60,
   "metadata": {},
   "outputs": [
    {
     "data": {
      "text/plain": [
       "pandas._libs.tslibs.timestamps.Timestamp"
      ]
     },
     "execution_count": 60,
     "metadata": {},
     "output_type": "execute_result"
    }
   ],
   "source": [
    "type(top_dog.timestamp[0]) "
   ]
  },
  {
   "cell_type": "code",
   "execution_count": 61,
   "metadata": {},
   "outputs": [
    {
     "data": {
      "text/plain": [
       "0   2017-08-01 16:23:56+00:00\n",
       "1   2017-08-01 00:17:27+00:00\n",
       "2   2017-07-31 00:18:03+00:00\n",
       "Name: timestamp, dtype: datetime64[ns, UTC]"
      ]
     },
     "execution_count": 61,
     "metadata": {},
     "output_type": "execute_result"
    }
   ],
   "source": [
    "top_dog.timestamp.head(3)"
   ]
  },
  {
   "cell_type": "markdown",
   "metadata": {},
   "source": [
    "## Tidiness Issue 2 and Quality issue 3\n",
    "#### Tidiness: Creating the dog_stages column and dropping the four separate dog_stage columns\n",
    "#### Quality: Columns with no dog_stage will have NaN instead of None\n",
    "### Define\n",
    "To help reduce the number of unnecessary columns and make the dataset easier to work with, the doggo, floofer, pupper, and puppo columns will be combined to form a dog_stages column. The former columns will then be dropped. One thing that should have been assessed earlier is printing out some samples of the whole string for the 'text' column. This will be done using the .iloc method to print out a sample of string values for the 'text' column. This will enable one to see if a dog stage is contained within the string. If so, using regular expressions to retract substring elements from the 'text' column values could be used to make the dog_stages column. If successful, the individual dog stage columns can be dropped.\n",
    "*\tUse .iloc to print a few values from the 'text' column in its entirety.\n",
    "*\tUse general expressions and the extract function to extract names of the dog stages from the 'text' column.\n",
    "*\tTest to see if where there is not a None value in the original dog stages columns that the newly form dog stage column will have the appropriate dog stage.\n",
    "*\tDrop the four different dog stages columns.\n",
    "  "
   ]
  },
  {
   "cell_type": "markdown",
   "metadata": {},
   "source": [
    "### Code"
   ]
  },
  {
   "cell_type": "code",
   "execution_count": 62,
   "metadata": {},
   "outputs": [
    {
     "name": "stdout",
     "output_type": "stream",
     "text": [
      "Here's a puppo that seems to be on the fence about something haha no but seriously someone help her. 13/10 https://t.co/BxvuXk0UCm\n",
      "This is Stuart. He's sporting his favorite fanny pack. Secretly filled with bones only. 13/10 puppared puppo #BarkWeek https://t.co/y70o6h3isq\n",
      "This is Roscoe. Another pupper fallen victim to spontaneous tongue ejections. Get the BlepiPen immediate. 12/10 deep breaths Roscoe https://t.co/RGE08MIJox\n"
     ]
    }
   ],
   "source": [
    "# Using .iloc to print out the entire text and see if there is a mention of the dog stage(doggo, floofer, pupper, puppo)\n",
    "print(top_dog.iloc[12, 5])\n",
    "print(top_dog.iloc[14, 5])\n",
    "print(top_dog.iloc[29, 5])"
   ]
  },
  {
   "cell_type": "markdown",
   "metadata": {},
   "source": [
    "There is evidence of the dog stage being mentioned within the string."
   ]
  },
  {
   "cell_type": "code",
   "execution_count": 63,
   "metadata": {},
   "outputs": [
    {
     "data": {
      "text/plain": [
       "pupper     265\n",
       "doggo       93\n",
       "puppo       37\n",
       "floofer      4\n",
       "Name: dog_stages, dtype: int64"
      ]
     },
     "execution_count": 63,
     "metadata": {},
     "output_type": "execute_result"
    }
   ],
   "source": [
    "# When doing element-wise logical operators in pandas the pipe symbol is used.  \n",
    "top_dog['dog_stages']=top_dog['text'].str.extract('(doggo|floofer|pupper|puppo)')\n",
    "top_dog.dog_stages.value_counts()"
   ]
  },
  {
   "cell_type": "markdown",
   "metadata": {},
   "source": [
    "When totaling the total of all dog stages in the assessment section, the value was at 394. When totaling the dog stages using value_counts in the newly created dog_stages column, the value is at 399. It is possible that there could have been some values in the original four dog stage columns that should have had one of the dog stages instead of None."
   ]
  },
  {
   "cell_type": "markdown",
   "metadata": {},
   "source": [
    "### Test"
   ]
  },
  {
   "cell_type": "code",
   "execution_count": 64,
   "metadata": {},
   "outputs": [
    {
     "data": {
      "text/html": [
       "<div>\n",
       "<style scoped>\n",
       "    .dataframe tbody tr th:only-of-type {\n",
       "        vertical-align: middle;\n",
       "    }\n",
       "\n",
       "    .dataframe tbody tr th {\n",
       "        vertical-align: top;\n",
       "    }\n",
       "\n",
       "    .dataframe thead th {\n",
       "        text-align: right;\n",
       "    }\n",
       "</style>\n",
       "<table border=\"1\" class=\"dataframe\">\n",
       "  <thead>\n",
       "    <tr style=\"text-align: right;\">\n",
       "      <th></th>\n",
       "      <th>doggo</th>\n",
       "      <th>floofer</th>\n",
       "      <th>pupper</th>\n",
       "      <th>puppo</th>\n",
       "      <th>dog_stages</th>\n",
       "    </tr>\n",
       "  </thead>\n",
       "  <tbody>\n",
       "    <tr>\n",
       "      <th>967</th>\n",
       "      <td>doggo</td>\n",
       "      <td>None</td>\n",
       "      <td>None</td>\n",
       "      <td>None</td>\n",
       "      <td>doggo</td>\n",
       "    </tr>\n",
       "    <tr>\n",
       "      <th>2312</th>\n",
       "      <td>None</td>\n",
       "      <td>None</td>\n",
       "      <td>None</td>\n",
       "      <td>None</td>\n",
       "      <td>NaN</td>\n",
       "    </tr>\n",
       "    <tr>\n",
       "      <th>1300</th>\n",
       "      <td>None</td>\n",
       "      <td>None</td>\n",
       "      <td>None</td>\n",
       "      <td>None</td>\n",
       "      <td>NaN</td>\n",
       "    </tr>\n",
       "    <tr>\n",
       "      <th>2347</th>\n",
       "      <td>None</td>\n",
       "      <td>None</td>\n",
       "      <td>None</td>\n",
       "      <td>None</td>\n",
       "      <td>NaN</td>\n",
       "    </tr>\n",
       "    <tr>\n",
       "      <th>360</th>\n",
       "      <td>None</td>\n",
       "      <td>None</td>\n",
       "      <td>None</td>\n",
       "      <td>None</td>\n",
       "      <td>NaN</td>\n",
       "    </tr>\n",
       "    <tr>\n",
       "      <th>347</th>\n",
       "      <td>None</td>\n",
       "      <td>None</td>\n",
       "      <td>None</td>\n",
       "      <td>None</td>\n",
       "      <td>NaN</td>\n",
       "    </tr>\n",
       "    <tr>\n",
       "      <th>1752</th>\n",
       "      <td>None</td>\n",
       "      <td>None</td>\n",
       "      <td>None</td>\n",
       "      <td>None</td>\n",
       "      <td>NaN</td>\n",
       "    </tr>\n",
       "    <tr>\n",
       "      <th>568</th>\n",
       "      <td>None</td>\n",
       "      <td>None</td>\n",
       "      <td>None</td>\n",
       "      <td>None</td>\n",
       "      <td>NaN</td>\n",
       "    </tr>\n",
       "    <tr>\n",
       "      <th>1154</th>\n",
       "      <td>None</td>\n",
       "      <td>None</td>\n",
       "      <td>None</td>\n",
       "      <td>None</td>\n",
       "      <td>NaN</td>\n",
       "    </tr>\n",
       "    <tr>\n",
       "      <th>1301</th>\n",
       "      <td>None</td>\n",
       "      <td>None</td>\n",
       "      <td>None</td>\n",
       "      <td>None</td>\n",
       "      <td>NaN</td>\n",
       "    </tr>\n",
       "    <tr>\n",
       "      <th>1413</th>\n",
       "      <td>None</td>\n",
       "      <td>None</td>\n",
       "      <td>None</td>\n",
       "      <td>None</td>\n",
       "      <td>NaN</td>\n",
       "    </tr>\n",
       "    <tr>\n",
       "      <th>870</th>\n",
       "      <td>None</td>\n",
       "      <td>None</td>\n",
       "      <td>None</td>\n",
       "      <td>None</td>\n",
       "      <td>NaN</td>\n",
       "    </tr>\n",
       "    <tr>\n",
       "      <th>1221</th>\n",
       "      <td>None</td>\n",
       "      <td>None</td>\n",
       "      <td>None</td>\n",
       "      <td>None</td>\n",
       "      <td>NaN</td>\n",
       "    </tr>\n",
       "    <tr>\n",
       "      <th>1163</th>\n",
       "      <td>None</td>\n",
       "      <td>None</td>\n",
       "      <td>None</td>\n",
       "      <td>None</td>\n",
       "      <td>NaN</td>\n",
       "    </tr>\n",
       "    <tr>\n",
       "      <th>1732</th>\n",
       "      <td>None</td>\n",
       "      <td>None</td>\n",
       "      <td>pupper</td>\n",
       "      <td>None</td>\n",
       "      <td>pupper</td>\n",
       "    </tr>\n",
       "    <tr>\n",
       "      <th>255</th>\n",
       "      <td>None</td>\n",
       "      <td>None</td>\n",
       "      <td>None</td>\n",
       "      <td>None</td>\n",
       "      <td>NaN</td>\n",
       "    </tr>\n",
       "    <tr>\n",
       "      <th>14</th>\n",
       "      <td>None</td>\n",
       "      <td>None</td>\n",
       "      <td>None</td>\n",
       "      <td>puppo</td>\n",
       "      <td>puppo</td>\n",
       "    </tr>\n",
       "    <tr>\n",
       "      <th>1330</th>\n",
       "      <td>None</td>\n",
       "      <td>None</td>\n",
       "      <td>pupper</td>\n",
       "      <td>None</td>\n",
       "      <td>pupper</td>\n",
       "    </tr>\n",
       "    <tr>\n",
       "      <th>1923</th>\n",
       "      <td>None</td>\n",
       "      <td>None</td>\n",
       "      <td>None</td>\n",
       "      <td>None</td>\n",
       "      <td>NaN</td>\n",
       "    </tr>\n",
       "    <tr>\n",
       "      <th>957</th>\n",
       "      <td>None</td>\n",
       "      <td>None</td>\n",
       "      <td>None</td>\n",
       "      <td>None</td>\n",
       "      <td>NaN</td>\n",
       "    </tr>\n",
       "    <tr>\n",
       "      <th>2228</th>\n",
       "      <td>None</td>\n",
       "      <td>None</td>\n",
       "      <td>None</td>\n",
       "      <td>None</td>\n",
       "      <td>NaN</td>\n",
       "    </tr>\n",
       "    <tr>\n",
       "      <th>2184</th>\n",
       "      <td>None</td>\n",
       "      <td>None</td>\n",
       "      <td>None</td>\n",
       "      <td>None</td>\n",
       "      <td>NaN</td>\n",
       "    </tr>\n",
       "    <tr>\n",
       "      <th>983</th>\n",
       "      <td>None</td>\n",
       "      <td>None</td>\n",
       "      <td>None</td>\n",
       "      <td>None</td>\n",
       "      <td>NaN</td>\n",
       "    </tr>\n",
       "    <tr>\n",
       "      <th>1398</th>\n",
       "      <td>None</td>\n",
       "      <td>None</td>\n",
       "      <td>None</td>\n",
       "      <td>None</td>\n",
       "      <td>NaN</td>\n",
       "    </tr>\n",
       "    <tr>\n",
       "      <th>813</th>\n",
       "      <td>None</td>\n",
       "      <td>None</td>\n",
       "      <td>None</td>\n",
       "      <td>None</td>\n",
       "      <td>NaN</td>\n",
       "    </tr>\n",
       "    <tr>\n",
       "      <th>1182</th>\n",
       "      <td>None</td>\n",
       "      <td>None</td>\n",
       "      <td>None</td>\n",
       "      <td>None</td>\n",
       "      <td>NaN</td>\n",
       "    </tr>\n",
       "    <tr>\n",
       "      <th>2051</th>\n",
       "      <td>None</td>\n",
       "      <td>None</td>\n",
       "      <td>None</td>\n",
       "      <td>None</td>\n",
       "      <td>NaN</td>\n",
       "    </tr>\n",
       "    <tr>\n",
       "      <th>903</th>\n",
       "      <td>None</td>\n",
       "      <td>None</td>\n",
       "      <td>None</td>\n",
       "      <td>None</td>\n",
       "      <td>NaN</td>\n",
       "    </tr>\n",
       "    <tr>\n",
       "      <th>2349</th>\n",
       "      <td>None</td>\n",
       "      <td>None</td>\n",
       "      <td>None</td>\n",
       "      <td>None</td>\n",
       "      <td>NaN</td>\n",
       "    </tr>\n",
       "    <tr>\n",
       "      <th>924</th>\n",
       "      <td>doggo</td>\n",
       "      <td>None</td>\n",
       "      <td>None</td>\n",
       "      <td>None</td>\n",
       "      <td>doggo</td>\n",
       "    </tr>\n",
       "    <tr>\n",
       "      <th>1040</th>\n",
       "      <td>None</td>\n",
       "      <td>None</td>\n",
       "      <td>pupper</td>\n",
       "      <td>None</td>\n",
       "      <td>pupper</td>\n",
       "    </tr>\n",
       "    <tr>\n",
       "      <th>2339</th>\n",
       "      <td>None</td>\n",
       "      <td>None</td>\n",
       "      <td>None</td>\n",
       "      <td>None</td>\n",
       "      <td>NaN</td>\n",
       "    </tr>\n",
       "    <tr>\n",
       "      <th>1097</th>\n",
       "      <td>None</td>\n",
       "      <td>None</td>\n",
       "      <td>None</td>\n",
       "      <td>None</td>\n",
       "      <td>NaN</td>\n",
       "    </tr>\n",
       "    <tr>\n",
       "      <th>1735</th>\n",
       "      <td>None</td>\n",
       "      <td>None</td>\n",
       "      <td>None</td>\n",
       "      <td>None</td>\n",
       "      <td>NaN</td>\n",
       "    </tr>\n",
       "    <tr>\n",
       "      <th>1283</th>\n",
       "      <td>None</td>\n",
       "      <td>None</td>\n",
       "      <td>None</td>\n",
       "      <td>None</td>\n",
       "      <td>NaN</td>\n",
       "    </tr>\n",
       "    <tr>\n",
       "      <th>1824</th>\n",
       "      <td>None</td>\n",
       "      <td>None</td>\n",
       "      <td>None</td>\n",
       "      <td>None</td>\n",
       "      <td>NaN</td>\n",
       "    </tr>\n",
       "    <tr>\n",
       "      <th>1907</th>\n",
       "      <td>None</td>\n",
       "      <td>None</td>\n",
       "      <td>pupper</td>\n",
       "      <td>None</td>\n",
       "      <td>pupper</td>\n",
       "    </tr>\n",
       "    <tr>\n",
       "      <th>850</th>\n",
       "      <td>None</td>\n",
       "      <td>None</td>\n",
       "      <td>None</td>\n",
       "      <td>None</td>\n",
       "      <td>NaN</td>\n",
       "    </tr>\n",
       "    <tr>\n",
       "      <th>2286</th>\n",
       "      <td>None</td>\n",
       "      <td>None</td>\n",
       "      <td>None</td>\n",
       "      <td>None</td>\n",
       "      <td>NaN</td>\n",
       "    </tr>\n",
       "    <tr>\n",
       "      <th>1990</th>\n",
       "      <td>None</td>\n",
       "      <td>None</td>\n",
       "      <td>None</td>\n",
       "      <td>None</td>\n",
       "      <td>NaN</td>\n",
       "    </tr>\n",
       "    <tr>\n",
       "      <th>1215</th>\n",
       "      <td>None</td>\n",
       "      <td>None</td>\n",
       "      <td>None</td>\n",
       "      <td>None</td>\n",
       "      <td>NaN</td>\n",
       "    </tr>\n",
       "    <tr>\n",
       "      <th>877</th>\n",
       "      <td>doggo</td>\n",
       "      <td>None</td>\n",
       "      <td>None</td>\n",
       "      <td>None</td>\n",
       "      <td>doggo</td>\n",
       "    </tr>\n",
       "    <tr>\n",
       "      <th>1020</th>\n",
       "      <td>None</td>\n",
       "      <td>None</td>\n",
       "      <td>None</td>\n",
       "      <td>None</td>\n",
       "      <td>NaN</td>\n",
       "    </tr>\n",
       "    <tr>\n",
       "      <th>1382</th>\n",
       "      <td>None</td>\n",
       "      <td>None</td>\n",
       "      <td>pupper</td>\n",
       "      <td>None</td>\n",
       "      <td>pupper</td>\n",
       "    </tr>\n",
       "    <tr>\n",
       "      <th>1014</th>\n",
       "      <td>None</td>\n",
       "      <td>None</td>\n",
       "      <td>None</td>\n",
       "      <td>None</td>\n",
       "      <td>NaN</td>\n",
       "    </tr>\n",
       "    <tr>\n",
       "      <th>407</th>\n",
       "      <td>None</td>\n",
       "      <td>None</td>\n",
       "      <td>None</td>\n",
       "      <td>None</td>\n",
       "      <td>NaN</td>\n",
       "    </tr>\n",
       "    <tr>\n",
       "      <th>476</th>\n",
       "      <td>None</td>\n",
       "      <td>None</td>\n",
       "      <td>None</td>\n",
       "      <td>None</td>\n",
       "      <td>NaN</td>\n",
       "    </tr>\n",
       "    <tr>\n",
       "      <th>1280</th>\n",
       "      <td>None</td>\n",
       "      <td>None</td>\n",
       "      <td>None</td>\n",
       "      <td>None</td>\n",
       "      <td>NaN</td>\n",
       "    </tr>\n",
       "    <tr>\n",
       "      <th>2344</th>\n",
       "      <td>None</td>\n",
       "      <td>None</td>\n",
       "      <td>None</td>\n",
       "      <td>None</td>\n",
       "      <td>NaN</td>\n",
       "    </tr>\n",
       "    <tr>\n",
       "      <th>908</th>\n",
       "      <td>None</td>\n",
       "      <td>None</td>\n",
       "      <td>None</td>\n",
       "      <td>None</td>\n",
       "      <td>NaN</td>\n",
       "    </tr>\n",
       "  </tbody>\n",
       "</table>\n",
       "</div>"
      ],
      "text/plain": [
       "      doggo floofer  pupper  puppo dog_stages\n",
       "967   doggo    None    None   None      doggo\n",
       "2312   None    None    None   None        NaN\n",
       "1300   None    None    None   None        NaN\n",
       "2347   None    None    None   None        NaN\n",
       "360    None    None    None   None        NaN\n",
       "347    None    None    None   None        NaN\n",
       "1752   None    None    None   None        NaN\n",
       "568    None    None    None   None        NaN\n",
       "1154   None    None    None   None        NaN\n",
       "1301   None    None    None   None        NaN\n",
       "1413   None    None    None   None        NaN\n",
       "870    None    None    None   None        NaN\n",
       "1221   None    None    None   None        NaN\n",
       "1163   None    None    None   None        NaN\n",
       "1732   None    None  pupper   None     pupper\n",
       "255    None    None    None   None        NaN\n",
       "14     None    None    None  puppo      puppo\n",
       "1330   None    None  pupper   None     pupper\n",
       "1923   None    None    None   None        NaN\n",
       "957    None    None    None   None        NaN\n",
       "2228   None    None    None   None        NaN\n",
       "2184   None    None    None   None        NaN\n",
       "983    None    None    None   None        NaN\n",
       "1398   None    None    None   None        NaN\n",
       "813    None    None    None   None        NaN\n",
       "1182   None    None    None   None        NaN\n",
       "2051   None    None    None   None        NaN\n",
       "903    None    None    None   None        NaN\n",
       "2349   None    None    None   None        NaN\n",
       "924   doggo    None    None   None      doggo\n",
       "1040   None    None  pupper   None     pupper\n",
       "2339   None    None    None   None        NaN\n",
       "1097   None    None    None   None        NaN\n",
       "1735   None    None    None   None        NaN\n",
       "1283   None    None    None   None        NaN\n",
       "1824   None    None    None   None        NaN\n",
       "1907   None    None  pupper   None     pupper\n",
       "850    None    None    None   None        NaN\n",
       "2286   None    None    None   None        NaN\n",
       "1990   None    None    None   None        NaN\n",
       "1215   None    None    None   None        NaN\n",
       "877   doggo    None    None   None      doggo\n",
       "1020   None    None    None   None        NaN\n",
       "1382   None    None  pupper   None     pupper\n",
       "1014   None    None    None   None        NaN\n",
       "407    None    None    None   None        NaN\n",
       "476    None    None    None   None        NaN\n",
       "1280   None    None    None   None        NaN\n",
       "2344   None    None    None   None        NaN\n",
       "908    None    None    None   None        NaN"
      ]
     },
     "execution_count": 64,
     "metadata": {},
     "output_type": "execute_result"
    }
   ],
   "source": [
    "top_dog[['doggo', 'floofer', 'pupper', 'puppo', 'dog_stages']].sample(50)"
   ]
  },
  {
   "cell_type": "markdown",
   "metadata": {},
   "source": [
    "To clarify that there was success in the objective defined above, the following examples from the above sample will be used. \n",
    " * Index 1732: The pupper column along with the dog_stages column has 'pupper' as the value.\n",
    " * Index 967: The doggo column along with the dog_stages column has 'doggo' as the value.\n",
    " * Index 1330: The pupper column along with the dog_stages column has 'pupper' as the value.\n",
    " * Index 877: the doggo column along with the dog_stages column has 'doggo' as the value.\n",
    "It also looks like the quality issue of there being None values instead of NaNs in the new dog_stages column was also corrected using this technique. "
   ]
  },
  {
   "cell_type": "code",
   "execution_count": 65,
   "metadata": {},
   "outputs": [],
   "source": [
    "# Dropping the doggo, floofer, pupper, and puppo columns\n",
    "top_dog = top_dog.drop(['doggo', 'floofer', 'pupper', 'puppo'], axis=1)"
   ]
  },
  {
   "cell_type": "code",
   "execution_count": 66,
   "metadata": {},
   "outputs": [
    {
     "name": "stdout",
     "output_type": "stream",
     "text": [
      "<class 'pandas.core.frame.DataFrame'>\n",
      "RangeIndex: 2356 entries, 0 to 2355\n",
      "Data columns (total 27 columns):\n",
      " #   Column                      Non-Null Count  Dtype              \n",
      "---  ------                      --------------  -----              \n",
      " 0   tweet_id                    2356 non-null   object             \n",
      " 1   in_reply_to_status_id       78 non-null     float64            \n",
      " 2   in_reply_to_user_id         78 non-null     float64            \n",
      " 3   timestamp                   2356 non-null   datetime64[ns, UTC]\n",
      " 4   source                      2356 non-null   object             \n",
      " 5   text                        2356 non-null   object             \n",
      " 6   retweeted_status_id         181 non-null    float64            \n",
      " 7   retweeted_status_user_id    181 non-null    float64            \n",
      " 8   retweeted_status_timestamp  181 non-null    object             \n",
      " 9   expanded_urls               2297 non-null   object             \n",
      " 10  rating_numerator            2356 non-null   int64              \n",
      " 11  rating_denominator          2356 non-null   int64              \n",
      " 12  name                        2356 non-null   object             \n",
      " 13  jpg_url                     2075 non-null   object             \n",
      " 14  img_num                     2075 non-null   float64            \n",
      " 15  p1                          2075 non-null   object             \n",
      " 16  p1_conf                     2075 non-null   float64            \n",
      " 17  p1_dog                      2075 non-null   object             \n",
      " 18  p2                          2075 non-null   object             \n",
      " 19  p2_conf                     2075 non-null   float64            \n",
      " 20  p2_dog                      2075 non-null   object             \n",
      " 21  p3                          2075 non-null   object             \n",
      " 22  p3_conf                     2075 non-null   float64            \n",
      " 23  p3_dog                      2075 non-null   object             \n",
      " 24  favorites_count             2330 non-null   float64            \n",
      " 25  retweets_count              2330 non-null   float64            \n",
      " 26  dog_stages                  399 non-null    object             \n",
      "dtypes: datetime64[ns, UTC](1), float64(10), int64(2), object(14)\n",
      "memory usage: 497.1+ KB\n"
     ]
    }
   ],
   "source": [
    "# Test to see that the original dog stage columns were dropped\n",
    "top_dog.info()"
   ]
  },
  {
   "cell_type": "markdown",
   "metadata": {},
   "source": [
    "## Quality issue 4\n",
    "### Define\n",
    "Keep only the rows where 'retweeted_status_id, 'retweeted_status_user_id', and 'retweeted_status are Null. Then drop these columns along with the 'in_reply_to_status_id' and 'in_reply_to_user_id columns."
   ]
  },
  {
   "cell_type": "markdown",
   "metadata": {},
   "source": [
    "### Code"
   ]
  },
  {
   "cell_type": "code",
   "execution_count": 67,
   "metadata": {},
   "outputs": [
    {
     "data": {
      "text/plain": [
       "2175"
      ]
     },
     "execution_count": 67,
     "metadata": {},
     "output_type": "execute_result"
    }
   ],
   "source": [
    " # Inspecting to see how many rows have Null values in the 'retweeted_status_id' column\n",
    "top_dog[pd.isnull(top_dog['retweeted_status_id'])].shape[0]"
   ]
  },
  {
   "cell_type": "code",
   "execution_count": 68,
   "metadata": {},
   "outputs": [],
   "source": [
    "top_dog = top_dog[pd.isnull(top_dog['retweeted_status_id'])]"
   ]
  },
  {
   "cell_type": "markdown",
   "metadata": {},
   "source": [
    "### Test"
   ]
  },
  {
   "cell_type": "code",
   "execution_count": 69,
   "metadata": {},
   "outputs": [
    {
     "name": "stdout",
     "output_type": "stream",
     "text": [
      "<class 'pandas.core.frame.DataFrame'>\n",
      "Int64Index: 2175 entries, 0 to 2355\n",
      "Data columns (total 27 columns):\n",
      " #   Column                      Non-Null Count  Dtype              \n",
      "---  ------                      --------------  -----              \n",
      " 0   tweet_id                    2175 non-null   object             \n",
      " 1   in_reply_to_status_id       78 non-null     float64            \n",
      " 2   in_reply_to_user_id         78 non-null     float64            \n",
      " 3   timestamp                   2175 non-null   datetime64[ns, UTC]\n",
      " 4   source                      2175 non-null   object             \n",
      " 5   text                        2175 non-null   object             \n",
      " 6   retweeted_status_id         0 non-null      float64            \n",
      " 7   retweeted_status_user_id    0 non-null      float64            \n",
      " 8   retweeted_status_timestamp  0 non-null      object             \n",
      " 9   expanded_urls               2117 non-null   object             \n",
      " 10  rating_numerator            2175 non-null   int64              \n",
      " 11  rating_denominator          2175 non-null   int64              \n",
      " 12  name                        2175 non-null   object             \n",
      " 13  jpg_url                     1994 non-null   object             \n",
      " 14  img_num                     1994 non-null   float64            \n",
      " 15  p1                          1994 non-null   object             \n",
      " 16  p1_conf                     1994 non-null   float64            \n",
      " 17  p1_dog                      1994 non-null   object             \n",
      " 18  p2                          1994 non-null   object             \n",
      " 19  p2_conf                     1994 non-null   float64            \n",
      " 20  p2_dog                      1994 non-null   object             \n",
      " 21  p3                          1994 non-null   object             \n",
      " 22  p3_conf                     1994 non-null   float64            \n",
      " 23  p3_dog                      1994 non-null   object             \n",
      " 24  favorites_count             2167 non-null   float64            \n",
      " 25  retweets_count              2167 non-null   float64            \n",
      " 26  dog_stages                  364 non-null    object             \n",
      "dtypes: datetime64[ns, UTC](1), float64(10), int64(2), object(14)\n",
      "memory usage: 475.8+ KB\n"
     ]
    }
   ],
   "source": [
    " # Tweet_id count should be at 2175\n",
    "top_dog.info()"
   ]
  },
  {
   "cell_type": "markdown",
   "metadata": {},
   "source": [
    "### Code"
   ]
  },
  {
   "cell_type": "code",
   "execution_count": 70,
   "metadata": {},
   "outputs": [],
   "source": [
    "# Dropping unnecessary columns\n",
    "top_dog = top_dog.drop(['in_reply_to_status_id', 'in_reply_to_user_id', 'retweeted_status_id', 'retweeted_status_user_id', \\\n",
    "                           'retweeted_status_timestamp'], axis = 1)"
   ]
  },
  {
   "cell_type": "markdown",
   "metadata": {},
   "source": [
    "### Test"
   ]
  },
  {
   "cell_type": "code",
   "execution_count": 71,
   "metadata": {},
   "outputs": [
    {
     "name": "stdout",
     "output_type": "stream",
     "text": [
      "<class 'pandas.core.frame.DataFrame'>\n",
      "Int64Index: 2175 entries, 0 to 2355\n",
      "Data columns (total 22 columns):\n",
      " #   Column              Non-Null Count  Dtype              \n",
      "---  ------              --------------  -----              \n",
      " 0   tweet_id            2175 non-null   object             \n",
      " 1   timestamp           2175 non-null   datetime64[ns, UTC]\n",
      " 2   source              2175 non-null   object             \n",
      " 3   text                2175 non-null   object             \n",
      " 4   expanded_urls       2117 non-null   object             \n",
      " 5   rating_numerator    2175 non-null   int64              \n",
      " 6   rating_denominator  2175 non-null   int64              \n",
      " 7   name                2175 non-null   object             \n",
      " 8   jpg_url             1994 non-null   object             \n",
      " 9   img_num             1994 non-null   float64            \n",
      " 10  p1                  1994 non-null   object             \n",
      " 11  p1_conf             1994 non-null   float64            \n",
      " 12  p1_dog              1994 non-null   object             \n",
      " 13  p2                  1994 non-null   object             \n",
      " 14  p2_conf             1994 non-null   float64            \n",
      " 15  p2_dog              1994 non-null   object             \n",
      " 16  p3                  1994 non-null   object             \n",
      " 17  p3_conf             1994 non-null   float64            \n",
      " 18  p3_dog              1994 non-null   object             \n",
      " 19  favorites_count     2167 non-null   float64            \n",
      " 20  retweets_count      2167 non-null   float64            \n",
      " 21  dog_stages          364 non-null    object             \n",
      "dtypes: datetime64[ns, UTC](1), float64(6), int64(2), object(13)\n",
      "memory usage: 390.8+ KB\n"
     ]
    }
   ],
   "source": [
    "top_dog.info()"
   ]
  },
  {
   "cell_type": "code",
   "execution_count": 72,
   "metadata": {},
   "outputs": [
    {
     "data": {
      "text/plain": [
       "['Abby',\n",
       " 'Ace',\n",
       " 'Acro',\n",
       " 'Adele',\n",
       " 'Aiden',\n",
       " 'Aja',\n",
       " 'Akumi',\n",
       " 'Al',\n",
       " 'Albert',\n",
       " 'Albus',\n",
       " 'Aldrick',\n",
       " 'Alejandro',\n",
       " 'Alexander',\n",
       " 'Alexanderson',\n",
       " 'Alf',\n",
       " 'Alfie',\n",
       " 'Alfy',\n",
       " 'Alice',\n",
       " 'Amber',\n",
       " 'Ambrose',\n",
       " 'Amy',\n",
       " 'Amélie',\n",
       " 'Anakin',\n",
       " 'Andru',\n",
       " 'Andy',\n",
       " 'Angel',\n",
       " 'Anna',\n",
       " 'Anthony',\n",
       " 'Antony',\n",
       " 'Apollo',\n",
       " 'Aqua',\n",
       " 'Archie',\n",
       " 'Arlen',\n",
       " 'Arlo',\n",
       " 'Arnie',\n",
       " 'Arnold',\n",
       " 'Arya',\n",
       " 'Ash',\n",
       " 'Asher',\n",
       " 'Ashleigh',\n",
       " 'Aspen',\n",
       " 'Astrid',\n",
       " 'Atlas',\n",
       " 'Atticus',\n",
       " 'Aubie',\n",
       " 'Augie',\n",
       " 'Autumn',\n",
       " 'Ava',\n",
       " 'Axel',\n",
       " 'Bailey',\n",
       " 'Baloo',\n",
       " 'Balto',\n",
       " 'Banditt',\n",
       " 'Banjo',\n",
       " 'Barclay',\n",
       " 'Barney',\n",
       " 'Baron',\n",
       " 'Barry',\n",
       " 'Batdog',\n",
       " 'Bauer',\n",
       " 'Baxter',\n",
       " 'Bayley',\n",
       " 'BeBe',\n",
       " 'Bear',\n",
       " 'Beau',\n",
       " 'Beckham',\n",
       " 'Beebop',\n",
       " 'Beemo',\n",
       " 'Bell',\n",
       " 'Bella',\n",
       " 'Belle',\n",
       " 'Ben',\n",
       " 'Benedict',\n",
       " 'Benji',\n",
       " 'Benny',\n",
       " 'Bentley',\n",
       " 'Berb',\n",
       " 'Berkeley',\n",
       " 'Bernie',\n",
       " 'Bert',\n",
       " 'Bertson',\n",
       " 'Betty',\n",
       " 'Beya',\n",
       " 'Biden',\n",
       " 'Bilbo',\n",
       " 'Billl',\n",
       " 'Billy',\n",
       " 'Binky',\n",
       " 'Birf',\n",
       " 'Bisquick',\n",
       " 'Blakely',\n",
       " 'Blanket',\n",
       " 'Blipson',\n",
       " 'Blitz',\n",
       " 'Bloo',\n",
       " 'Bloop',\n",
       " 'Blu',\n",
       " 'Blue',\n",
       " 'Bluebert',\n",
       " 'Bo',\n",
       " 'Bob',\n",
       " 'Bobb',\n",
       " 'Bobbay',\n",
       " 'Bobble',\n",
       " 'Bobby',\n",
       " 'Bode',\n",
       " 'Bodie',\n",
       " 'Bonaparte',\n",
       " 'Bones',\n",
       " 'Bookstore',\n",
       " 'Boomer',\n",
       " 'Boots',\n",
       " 'Boston',\n",
       " 'Bowie',\n",
       " 'Brad',\n",
       " 'Bradlay',\n",
       " 'Bradley',\n",
       " 'Brady',\n",
       " 'Brandi',\n",
       " 'Brandonald',\n",
       " 'Brandy',\n",
       " 'Brat',\n",
       " 'Brian',\n",
       " 'Brockly',\n",
       " 'Brody',\n",
       " 'Bronte',\n",
       " 'Brooks',\n",
       " 'Brownie',\n",
       " 'Bruce',\n",
       " 'Brudge',\n",
       " 'Bruiser',\n",
       " 'Bruno',\n",
       " 'Brutus',\n",
       " 'Bubba',\n",
       " 'Bubbles',\n",
       " 'Buckley',\n",
       " 'Buddah',\n",
       " 'Buddy',\n",
       " 'Bungalo',\n",
       " 'Burt',\n",
       " 'Butter',\n",
       " 'Butters',\n",
       " 'Cal',\n",
       " 'Calbert',\n",
       " 'Cali',\n",
       " 'Callie',\n",
       " 'Calvin',\n",
       " 'Canela',\n",
       " 'Cannon',\n",
       " 'Carbon',\n",
       " 'Carl',\n",
       " 'Carll',\n",
       " 'Carly',\n",
       " 'Carper',\n",
       " 'Carter',\n",
       " 'Caryl',\n",
       " 'Cash',\n",
       " 'Cassie',\n",
       " 'CeCe',\n",
       " 'Cecil',\n",
       " 'Cedrick',\n",
       " 'Cermet',\n",
       " 'Chadrick',\n",
       " 'Champ',\n",
       " 'Charl',\n",
       " 'Charles',\n",
       " 'Charleson',\n",
       " 'Charlie',\n",
       " 'Chase',\n",
       " 'Chaz',\n",
       " 'Cheesy',\n",
       " 'Chef',\n",
       " 'Chelsea',\n",
       " 'Cheryl',\n",
       " 'Chesney',\n",
       " 'Chester',\n",
       " 'Chesterson',\n",
       " 'Chet',\n",
       " 'Chevy',\n",
       " 'Chip',\n",
       " 'Chipson',\n",
       " 'Chloe',\n",
       " 'Chompsky',\n",
       " 'Christoper',\n",
       " 'Chubbs',\n",
       " 'Chuck',\n",
       " 'Chuckles',\n",
       " 'Chuq',\n",
       " 'Churlie',\n",
       " 'Cilantro',\n",
       " 'Clarence',\n",
       " 'Clark',\n",
       " 'Clarkus',\n",
       " 'Clarq',\n",
       " 'Claude',\n",
       " 'Cleopatricia',\n",
       " 'Clifford',\n",
       " 'Clybe',\n",
       " 'Clyde',\n",
       " 'Coco',\n",
       " 'Cody',\n",
       " 'Colby',\n",
       " 'Coleman',\n",
       " 'Colin',\n",
       " 'Combo',\n",
       " 'Comet',\n",
       " 'Cooper',\n",
       " 'Coops',\n",
       " 'Coopson',\n",
       " 'Cora',\n",
       " 'Corey',\n",
       " 'Covach',\n",
       " 'Craig',\n",
       " 'Crawford',\n",
       " 'Creg',\n",
       " 'Crimson',\n",
       " 'Crouton',\n",
       " 'Crumpet',\n",
       " 'Crystal',\n",
       " 'Cuddles',\n",
       " 'Cupcake',\n",
       " 'Cupid',\n",
       " 'Curtis',\n",
       " 'Daisy',\n",
       " 'Dakota',\n",
       " 'Dale',\n",
       " 'Dallas',\n",
       " 'Damon',\n",
       " 'Daniel',\n",
       " 'Danny',\n",
       " 'Dante',\n",
       " 'Darby',\n",
       " 'Darla',\n",
       " 'Darrel',\n",
       " 'Dash',\n",
       " 'Dave',\n",
       " 'Davey',\n",
       " 'Dawn',\n",
       " 'DayZ',\n",
       " 'Deacon',\n",
       " 'Derby',\n",
       " 'Derek',\n",
       " 'Devón',\n",
       " 'Dewey',\n",
       " 'Dex',\n",
       " 'Dexter',\n",
       " 'Dido',\n",
       " 'Dietrich',\n",
       " 'Diogi',\n",
       " 'Divine',\n",
       " 'Dixie',\n",
       " 'Django',\n",
       " 'Dobby',\n",
       " 'Doc',\n",
       " 'DonDon',\n",
       " 'Donny',\n",
       " 'Doobert',\n",
       " 'Dook',\n",
       " 'Dot',\n",
       " 'Dotsy',\n",
       " 'Doug',\n",
       " 'Duchess',\n",
       " 'Duddles',\n",
       " 'Dudley',\n",
       " 'Dug',\n",
       " 'Duke',\n",
       " 'Dunkin',\n",
       " 'Durg',\n",
       " 'Dutch',\n",
       " 'Dwight',\n",
       " 'Dylan',\n",
       " 'Earl',\n",
       " 'Eazy',\n",
       " 'Ebby',\n",
       " 'Ed',\n",
       " 'Edd',\n",
       " 'Edgar',\n",
       " 'Edmund',\n",
       " 'Eevee',\n",
       " 'Einstein',\n",
       " 'Eleanor',\n",
       " 'Eli',\n",
       " 'Ellie',\n",
       " 'Elliot',\n",
       " 'Emanuel',\n",
       " 'Ember',\n",
       " 'Emma',\n",
       " 'Emmie',\n",
       " 'Emmy',\n",
       " 'Enchilada',\n",
       " 'Erik',\n",
       " 'Eriq',\n",
       " 'Ester',\n",
       " 'Eugene',\n",
       " 'Eve',\n",
       " 'Evy',\n",
       " 'Fabio',\n",
       " 'Farfle',\n",
       " 'Ferg',\n",
       " 'Fido',\n",
       " 'Fiji',\n",
       " 'Fillup',\n",
       " 'Filup',\n",
       " 'Finley',\n",
       " 'Finn',\n",
       " 'Finnegus',\n",
       " 'Fiona',\n",
       " 'Fizz',\n",
       " 'Flash',\n",
       " 'Fletcher',\n",
       " 'Florence',\n",
       " 'Flurpson',\n",
       " 'Flávio',\n",
       " 'Frank',\n",
       " 'Frankie',\n",
       " 'Franklin',\n",
       " 'Franq',\n",
       " 'Fred',\n",
       " 'Freddery',\n",
       " 'Frönq',\n",
       " 'Furzey',\n",
       " 'Fwed',\n",
       " 'Fynn',\n",
       " 'Gabe',\n",
       " 'Gary',\n",
       " 'General',\n",
       " 'Genevieve',\n",
       " 'Geno',\n",
       " 'Geoff',\n",
       " 'George',\n",
       " 'Georgie',\n",
       " 'Gerald',\n",
       " 'Gerbald',\n",
       " 'Gert',\n",
       " 'Gidget',\n",
       " 'Gilbert',\n",
       " 'Gin',\n",
       " 'Ginger',\n",
       " 'Gizmo',\n",
       " 'Glacier',\n",
       " 'Glenn',\n",
       " 'Godi',\n",
       " 'Godzilla',\n",
       " 'Goliath',\n",
       " 'Goose',\n",
       " 'Gordon',\n",
       " 'Grady',\n",
       " 'Grey',\n",
       " 'Griffin',\n",
       " 'Griswold',\n",
       " 'Grizz',\n",
       " 'Grizzie',\n",
       " 'Grizzwald',\n",
       " 'Gromit',\n",
       " 'Gunner',\n",
       " 'Gus',\n",
       " 'Gustaf',\n",
       " 'Gustav',\n",
       " 'Gòrdón',\n",
       " 'Hall',\n",
       " 'Halo',\n",
       " 'Hammond',\n",
       " 'Hamrick',\n",
       " 'Hank',\n",
       " 'Hanz',\n",
       " 'Happy',\n",
       " 'Harlso',\n",
       " 'Harnold',\n",
       " 'Harold',\n",
       " 'Harper',\n",
       " 'Harrison',\n",
       " 'Harry',\n",
       " 'Harvey',\n",
       " 'Hazel',\n",
       " 'Hector',\n",
       " 'Heinrich',\n",
       " 'Henry',\n",
       " 'Herald',\n",
       " 'Herb',\n",
       " 'Hercules',\n",
       " 'Herm',\n",
       " 'Hermione',\n",
       " 'Hero',\n",
       " 'Herschel',\n",
       " 'Hobbes',\n",
       " 'Holly',\n",
       " 'Horace',\n",
       " 'Howie',\n",
       " 'Hubertson',\n",
       " 'Huck',\n",
       " 'Humphrey',\n",
       " 'Hunter',\n",
       " 'Hurley',\n",
       " 'Huxley',\n",
       " 'Iggy',\n",
       " 'Ike',\n",
       " 'Indie',\n",
       " 'Iroh',\n",
       " 'Ito',\n",
       " 'Ivar',\n",
       " 'Izzy',\n",
       " 'JD',\n",
       " 'Jack',\n",
       " 'Jackie',\n",
       " 'Jackson',\n",
       " 'Jameson',\n",
       " 'Jamesy',\n",
       " 'Jangle',\n",
       " 'Jareld',\n",
       " 'Jarod',\n",
       " 'Jarvis',\n",
       " 'Jaspers',\n",
       " 'Jax',\n",
       " 'Jay',\n",
       " 'Jaycob',\n",
       " 'Jazz',\n",
       " 'Jazzy',\n",
       " 'Jeb',\n",
       " 'Jebberson',\n",
       " 'Jed',\n",
       " 'Jeffrey',\n",
       " 'Jeffri',\n",
       " 'Jeffrie',\n",
       " 'Jennifur',\n",
       " 'Jeph',\n",
       " 'Jeremy',\n",
       " 'Jerome',\n",
       " 'Jerry',\n",
       " 'Jersey',\n",
       " 'Jesse',\n",
       " 'Jessifer',\n",
       " 'Jessiga',\n",
       " 'Jett',\n",
       " 'Jim',\n",
       " 'Jimbo',\n",
       " 'Jiminus',\n",
       " 'Jiminy',\n",
       " 'Jimison',\n",
       " 'Jimothy',\n",
       " 'Jo',\n",
       " 'Jockson',\n",
       " 'Joey',\n",
       " 'Jomathan',\n",
       " 'Jonah',\n",
       " 'Jordy',\n",
       " 'Josep',\n",
       " 'Joshwa',\n",
       " 'Juckson',\n",
       " 'Julio',\n",
       " 'Julius',\n",
       " 'Juno',\n",
       " 'Kaia',\n",
       " 'Kaiya',\n",
       " 'Kallie',\n",
       " 'Kane',\n",
       " 'Kanu',\n",
       " 'Kara',\n",
       " 'Karl',\n",
       " 'Karll',\n",
       " 'Karma',\n",
       " 'Kathmandu',\n",
       " 'Katie',\n",
       " 'Kawhi',\n",
       " 'Kayla',\n",
       " 'Keet',\n",
       " 'Keith',\n",
       " 'Kellogg',\n",
       " 'Ken',\n",
       " 'Kendall',\n",
       " 'Kenneth',\n",
       " 'Kenny',\n",
       " 'Kenzie',\n",
       " 'Keurig',\n",
       " 'Kevin',\n",
       " 'Kevon',\n",
       " 'Kial',\n",
       " 'Kilo',\n",
       " 'Kingsley',\n",
       " 'Kirby',\n",
       " 'Kirk',\n",
       " 'Klein',\n",
       " 'Klevin',\n",
       " 'Kloey',\n",
       " 'Kobe',\n",
       " 'Koda',\n",
       " 'Kody',\n",
       " 'Koko',\n",
       " 'Kollin',\n",
       " 'Kona',\n",
       " 'Kota',\n",
       " 'Kramer',\n",
       " 'Kreg',\n",
       " 'Kreggory',\n",
       " 'Kulet',\n",
       " 'Kuyu',\n",
       " 'Kyle',\n",
       " 'Kyro',\n",
       " 'Lacy',\n",
       " 'Laela',\n",
       " 'Laika',\n",
       " 'Lambeau',\n",
       " 'Lance',\n",
       " 'Larry',\n",
       " 'Lassie',\n",
       " 'Layla',\n",
       " 'Leela',\n",
       " 'Lennon',\n",
       " 'Lenny',\n",
       " 'Lenox',\n",
       " 'Leo',\n",
       " 'Leonard',\n",
       " 'Leonidas',\n",
       " 'Levi',\n",
       " 'Liam',\n",
       " 'Lilah',\n",
       " 'Lili',\n",
       " 'Lilli',\n",
       " 'Lillie',\n",
       " 'Lilly',\n",
       " 'Lily',\n",
       " 'Lincoln',\n",
       " 'Linda',\n",
       " 'Link',\n",
       " 'Linus',\n",
       " 'Lipton',\n",
       " 'Livvie',\n",
       " 'Lizzie',\n",
       " 'Logan',\n",
       " 'Loki',\n",
       " 'Lola',\n",
       " 'Lolo',\n",
       " 'Longfellow',\n",
       " 'Loomis',\n",
       " 'Lorelei',\n",
       " 'Lorenzo',\n",
       " 'Lou',\n",
       " 'Louie',\n",
       " 'Louis',\n",
       " 'Luca',\n",
       " 'Lucia',\n",
       " 'Lucky',\n",
       " 'Lucy',\n",
       " 'Lugan',\n",
       " 'Lulu',\n",
       " 'Luna',\n",
       " 'Lupe',\n",
       " 'Luther',\n",
       " 'Mabel',\n",
       " 'Mac',\n",
       " 'Mack',\n",
       " 'Maddie',\n",
       " 'Maggie',\n",
       " 'Mairi',\n",
       " 'Maisey',\n",
       " 'Major',\n",
       " 'Maks',\n",
       " 'Malcolm',\n",
       " 'Malikai',\n",
       " 'Margo',\n",
       " 'Mark',\n",
       " 'Marlee',\n",
       " 'Marley',\n",
       " 'Marq',\n",
       " 'Marty',\n",
       " 'Marvin',\n",
       " 'Mary',\n",
       " 'Mason',\n",
       " 'Mattie',\n",
       " 'Maude',\n",
       " 'Mauve',\n",
       " 'Max',\n",
       " 'Maxaroni',\n",
       " 'Maximus',\n",
       " 'Maxwell',\n",
       " 'Maya',\n",
       " 'Meatball',\n",
       " 'Meera',\n",
       " 'Meyer',\n",
       " 'Mia',\n",
       " 'Michelangelope',\n",
       " 'Miguel',\n",
       " 'Mike',\n",
       " 'Miley',\n",
       " 'Milky',\n",
       " 'Millie',\n",
       " 'Milo',\n",
       " 'Mimosa',\n",
       " 'Mingus',\n",
       " 'Mister',\n",
       " 'Misty',\n",
       " 'Mitch',\n",
       " 'Mo',\n",
       " 'Moe',\n",
       " 'Mojo',\n",
       " 'Mollie',\n",
       " 'Molly',\n",
       " 'Mona',\n",
       " 'Monkey',\n",
       " 'Monster',\n",
       " 'Monty',\n",
       " 'Moofasa',\n",
       " 'Mookie',\n",
       " 'Moose',\n",
       " 'Moreton',\n",
       " 'Mosby',\n",
       " 'Murphy',\n",
       " 'Mutt',\n",
       " 'Mya',\n",
       " 'Nala',\n",
       " 'Naphaniel',\n",
       " 'Napolean',\n",
       " 'Nelly',\n",
       " 'Neptune',\n",
       " 'Newt',\n",
       " 'Nico',\n",
       " 'Nida',\n",
       " 'Nigel',\n",
       " 'Nimbus',\n",
       " 'Noah',\n",
       " 'Nollie',\n",
       " 'None',\n",
       " 'Noosh',\n",
       " 'Norman',\n",
       " 'Nugget',\n",
       " 'O',\n",
       " 'Oakley',\n",
       " 'Obi',\n",
       " 'Obie',\n",
       " 'Oddie',\n",
       " 'Odie',\n",
       " 'Odin',\n",
       " 'Olaf',\n",
       " 'Ole',\n",
       " 'Olive',\n",
       " 'Oliver',\n",
       " 'Olivia',\n",
       " 'Oliviér',\n",
       " 'Ollie',\n",
       " 'Opal',\n",
       " 'Opie',\n",
       " 'Oreo',\n",
       " 'Orion',\n",
       " 'Oscar',\n",
       " 'Oshie',\n",
       " 'Otis',\n",
       " 'Ozzie',\n",
       " 'Ozzy',\n",
       " 'Pablo',\n",
       " 'Paisley',\n",
       " 'Pancake',\n",
       " 'Panda',\n",
       " 'Patch',\n",
       " 'Patrick',\n",
       " 'Paull',\n",
       " 'Pavlov',\n",
       " 'Pawnd',\n",
       " 'Peaches',\n",
       " 'Peanut',\n",
       " 'Penelope',\n",
       " 'Penny',\n",
       " 'Pepper',\n",
       " 'Percy',\n",
       " 'Perry',\n",
       " 'Pete',\n",
       " 'Petrick',\n",
       " 'Pherb',\n",
       " 'Phil',\n",
       " 'Philbert',\n",
       " 'Philippe',\n",
       " 'Phineas',\n",
       " 'Phred',\n",
       " 'Pickles',\n",
       " 'Pilot',\n",
       " 'Pinot',\n",
       " 'Pip',\n",
       " 'Piper',\n",
       " 'Pippa',\n",
       " 'Pippin',\n",
       " 'Pipsy',\n",
       " 'Pluto',\n",
       " 'Poppy',\n",
       " 'Pubert',\n",
       " 'Puff',\n",
       " 'Pumpkin',\n",
       " 'Pupcasso',\n",
       " 'Quinn',\n",
       " 'Ralf',\n",
       " 'Ralph',\n",
       " 'Ralpher',\n",
       " 'Ralphie',\n",
       " 'Ralphson',\n",
       " 'Ralphus',\n",
       " 'Ralphy',\n",
       " 'Ralphé',\n",
       " 'Rambo',\n",
       " 'Randall',\n",
       " 'Raphael',\n",
       " 'Rascal',\n",
       " 'Raymond',\n",
       " 'Reagan',\n",
       " 'Reese',\n",
       " 'Reggie',\n",
       " 'Reginald',\n",
       " 'Remington',\n",
       " 'Remus',\n",
       " 'Remy',\n",
       " 'Reptar',\n",
       " 'Rey',\n",
       " 'Rhino',\n",
       " 'Richie',\n",
       " 'Ricky',\n",
       " 'Ridley',\n",
       " 'Riley',\n",
       " 'Rilo',\n",
       " 'Rinna',\n",
       " 'River',\n",
       " 'Rizzo',\n",
       " 'Rizzy',\n",
       " 'Robin',\n",
       " 'Rocco',\n",
       " 'Rocky',\n",
       " 'Rodman',\n",
       " 'Rodney',\n",
       " 'Rolf',\n",
       " 'Romeo',\n",
       " 'Ron',\n",
       " 'Ronduh',\n",
       " 'Ronnie',\n",
       " 'Rontu',\n",
       " 'Rooney',\n",
       " 'Roosevelt',\n",
       " 'Rorie',\n",
       " 'Rory',\n",
       " 'Roscoe',\n",
       " 'Rose',\n",
       " 'Rosie',\n",
       " 'Rover',\n",
       " 'Rubio',\n",
       " 'Ruby',\n",
       " 'Rudy',\n",
       " 'Rueben',\n",
       " 'Ruffles',\n",
       " 'Rufio',\n",
       " 'Rufus',\n",
       " 'Rumble',\n",
       " 'Rumpole',\n",
       " 'Rupert',\n",
       " 'Rusty',\n",
       " 'Sadie',\n",
       " 'Sage',\n",
       " 'Sailer',\n",
       " 'Sailor',\n",
       " 'Sam',\n",
       " 'Sammy',\n",
       " 'Sampson',\n",
       " 'Samsom',\n",
       " 'Samson',\n",
       " 'Sandra',\n",
       " 'Sandy',\n",
       " 'Sansa',\n",
       " 'Sarge',\n",
       " 'Saydee',\n",
       " 'Schnitzel',\n",
       " 'Schnozz',\n",
       " 'Scooter',\n",
       " 'Scott',\n",
       " 'Scout',\n",
       " 'Scruffers',\n",
       " 'Seamus',\n",
       " 'Sebastian',\n",
       " 'Sephie',\n",
       " 'Severus',\n",
       " 'Shadoe',\n",
       " 'Shadow',\n",
       " 'Shaggy',\n",
       " 'Shakespeare',\n",
       " 'Shawwn',\n",
       " 'Shelby',\n",
       " 'Shikha',\n",
       " 'Shiloh',\n",
       " 'Shnuggles',\n",
       " 'Shooter',\n",
       " 'Siba',\n",
       " 'Sid',\n",
       " 'Sierra',\n",
       " 'Simba',\n",
       " 'Skittle',\n",
       " 'Skittles',\n",
       " 'Sky',\n",
       " 'Skye',\n",
       " 'Smiley',\n",
       " 'Smokey',\n",
       " 'Snickers',\n",
       " 'Snicku',\n",
       " 'Snoop',\n",
       " 'Snoopy',\n",
       " 'Sobe',\n",
       " 'Socks',\n",
       " 'Sojourner',\n",
       " 'Solomon',\n",
       " 'Sonny',\n",
       " 'Sophie',\n",
       " 'Sora',\n",
       " 'Spanky',\n",
       " 'Spark',\n",
       " 'Sparky',\n",
       " 'Spencer',\n",
       " 'Sprinkles',\n",
       " 'Sprout',\n",
       " 'Staniel',\n",
       " 'Stanley',\n",
       " 'Stark',\n",
       " 'Stefan',\n",
       " 'Stella',\n",
       " 'Stephan',\n",
       " 'Stephanus',\n",
       " 'Steve',\n",
       " 'Steven',\n",
       " 'Stewie',\n",
       " 'Storkson',\n",
       " 'Stormy',\n",
       " 'Strider',\n",
       " 'Striker',\n",
       " 'Strudel',\n",
       " 'Stu',\n",
       " 'Stuart',\n",
       " 'Stubert',\n",
       " 'Sugar',\n",
       " 'Suki',\n",
       " 'Sully',\n",
       " 'Sundance',\n",
       " 'Sunny',\n",
       " 'Sunshine',\n",
       " 'Superpup',\n",
       " 'Swagger',\n",
       " 'Sweet',\n",
       " 'Sweets',\n",
       " 'Taco',\n",
       " 'Tango',\n",
       " 'Tanner',\n",
       " 'Tassy',\n",
       " 'Tater',\n",
       " 'Tayzie',\n",
       " 'Taz',\n",
       " 'Tebow',\n",
       " 'Ted',\n",
       " 'Tedders',\n",
       " 'Teddy',\n",
       " 'Tedrick',\n",
       " 'Terrance',\n",
       " 'Terrenth',\n",
       " 'Terry',\n",
       " 'Tess',\n",
       " 'Tessa',\n",
       " 'Theo',\n",
       " 'Theodore',\n",
       " 'Thor',\n",
       " 'Thumas',\n",
       " 'Tiger',\n",
       " 'Tilly',\n",
       " 'Timber',\n",
       " 'Timison',\n",
       " 'Timmy',\n",
       " 'Timofy',\n",
       " 'Tino',\n",
       " 'Titan',\n",
       " 'Tito',\n",
       " 'Tobi',\n",
       " 'Toby',\n",
       " 'Todo',\n",
       " 'Toffee',\n",
       " 'Tom',\n",
       " 'Tommy',\n",
       " 'Tonks',\n",
       " 'Torque',\n",
       " 'Tove',\n",
       " 'Travis',\n",
       " 'Traviss',\n",
       " 'Trevith',\n",
       " 'Trigger',\n",
       " 'Trip',\n",
       " 'Tripp',\n",
       " 'Trooper',\n",
       " 'Tuck',\n",
       " 'Tucker',\n",
       " 'Tuco',\n",
       " 'Tug',\n",
       " 'Tupawc',\n",
       " 'Tycho',\n",
       " 'Tyr',\n",
       " 'Tyrone',\n",
       " 'Tyrus',\n",
       " 'Ulysses',\n",
       " 'Venti',\n",
       " 'Vince',\n",
       " 'Vincent',\n",
       " 'Vinnie',\n",
       " 'Vinscent',\n",
       " 'Vixen',\n",
       " 'Wafer',\n",
       " 'Waffles',\n",
       " 'Walker',\n",
       " 'Wallace',\n",
       " 'Wally',\n",
       " 'Walter',\n",
       " 'Watson',\n",
       " 'Wesley',\n",
       " 'Wiggles',\n",
       " 'Willem',\n",
       " 'William',\n",
       " 'Willie',\n",
       " 'Willow',\n",
       " 'Willy',\n",
       " 'Wilson',\n",
       " 'Winifred',\n",
       " 'Winnie',\n",
       " 'Winston',\n",
       " 'Wishes',\n",
       " 'Wyatt',\n",
       " 'Yoda',\n",
       " 'Yogi',\n",
       " 'Yukon',\n",
       " 'Zara',\n",
       " 'Zeek',\n",
       " 'Zeke',\n",
       " 'Zeus',\n",
       " 'Ziva',\n",
       " 'Zoe',\n",
       " 'Zoey',\n",
       " 'Zooey',\n",
       " 'Zuzu',\n",
       " 'a',\n",
       " 'actually',\n",
       " 'all',\n",
       " 'an',\n",
       " 'by',\n",
       " 'getting',\n",
       " 'his',\n",
       " 'incredibly',\n",
       " 'infuriating',\n",
       " 'just',\n",
       " 'life',\n",
       " 'light',\n",
       " 'mad',\n",
       " 'my',\n",
       " 'not',\n",
       " 'officially',\n",
       " 'old',\n",
       " 'one',\n",
       " 'quite',\n",
       " 'space',\n",
       " 'such',\n",
       " 'the',\n",
       " 'this',\n",
       " 'unacceptable',\n",
       " 'very']"
      ]
     },
     "execution_count": 72,
     "metadata": {},
     "output_type": "execute_result"
    }
   ],
   "source": [
    "sorted_name = sorted(top_dog.name.unique())\n",
    "sorted_name"
   ]
  },
  {
   "cell_type": "markdown",
   "metadata": {},
   "source": [
    "## Quality issue 5\n",
    "### Define\n",
    "Make a list of all the invalid dog names and change the value to None. Make sure that all the rows have the first letter Make a list of all the invalid dog names and change the value to None. Make sure that all the rows have the first letter capitalized for the dog's name use (titled format).  "
   ]
  },
  {
   "cell_type": "markdown",
   "metadata": {},
   "source": [
    "### Code\n"
   ]
  },
  {
   "cell_type": "code",
   "execution_count": 73,
   "metadata": {},
   "outputs": [],
   "source": [
    "# Creating a list of all the invalid dog names\n",
    "invalid_names = ['a', 'actually', 'all', 'an', 'by', 'getting', 'his', 'incredibly', 'infuriating', 'just', 'life', 'light', \\\n",
    "                'mad', 'my', 'not', 'officially', 'old', 'one', 'quite', 'space', 'such', 'the', 'this', 'unacceptable', 'very'] \n",
    "# Using lambda function to change invalid names to None\n",
    "top_dog.name = top_dog.name.apply(lambda x: 'None' if x in invalid_names else x) \n"
   ]
  },
  {
   "cell_type": "markdown",
   "metadata": {},
   "source": [
    "### Test"
   ]
  },
  {
   "cell_type": "code",
   "execution_count": 74,
   "metadata": {},
   "outputs": [
    {
     "data": {
      "text/plain": [
       "['Abby',\n",
       " 'Ace',\n",
       " 'Acro',\n",
       " 'Adele',\n",
       " 'Aiden',\n",
       " 'Aja',\n",
       " 'Akumi',\n",
       " 'Al',\n",
       " 'Albert',\n",
       " 'Albus',\n",
       " 'Aldrick',\n",
       " 'Alejandro',\n",
       " 'Alexander',\n",
       " 'Alexanderson',\n",
       " 'Alf',\n",
       " 'Alfie',\n",
       " 'Alfy',\n",
       " 'Alice',\n",
       " 'Amber',\n",
       " 'Ambrose',\n",
       " 'Amy',\n",
       " 'Amélie',\n",
       " 'Anakin',\n",
       " 'Andru',\n",
       " 'Andy',\n",
       " 'Angel',\n",
       " 'Anna',\n",
       " 'Anthony',\n",
       " 'Antony',\n",
       " 'Apollo',\n",
       " 'Aqua',\n",
       " 'Archie',\n",
       " 'Arlen',\n",
       " 'Arlo',\n",
       " 'Arnie',\n",
       " 'Arnold',\n",
       " 'Arya',\n",
       " 'Ash',\n",
       " 'Asher',\n",
       " 'Ashleigh',\n",
       " 'Aspen',\n",
       " 'Astrid',\n",
       " 'Atlas',\n",
       " 'Atticus',\n",
       " 'Aubie',\n",
       " 'Augie',\n",
       " 'Autumn',\n",
       " 'Ava',\n",
       " 'Axel',\n",
       " 'Bailey',\n",
       " 'Baloo',\n",
       " 'Balto',\n",
       " 'Banditt',\n",
       " 'Banjo',\n",
       " 'Barclay',\n",
       " 'Barney',\n",
       " 'Baron',\n",
       " 'Barry',\n",
       " 'Batdog',\n",
       " 'Bauer',\n",
       " 'Baxter',\n",
       " 'Bayley',\n",
       " 'BeBe',\n",
       " 'Bear',\n",
       " 'Beau',\n",
       " 'Beckham',\n",
       " 'Beebop',\n",
       " 'Beemo',\n",
       " 'Bell',\n",
       " 'Bella',\n",
       " 'Belle',\n",
       " 'Ben',\n",
       " 'Benedict',\n",
       " 'Benji',\n",
       " 'Benny',\n",
       " 'Bentley',\n",
       " 'Berb',\n",
       " 'Berkeley',\n",
       " 'Bernie',\n",
       " 'Bert',\n",
       " 'Bertson',\n",
       " 'Betty',\n",
       " 'Beya',\n",
       " 'Biden',\n",
       " 'Bilbo',\n",
       " 'Billl',\n",
       " 'Billy',\n",
       " 'Binky',\n",
       " 'Birf',\n",
       " 'Bisquick',\n",
       " 'Blakely',\n",
       " 'Blanket',\n",
       " 'Blipson',\n",
       " 'Blitz',\n",
       " 'Bloo',\n",
       " 'Bloop',\n",
       " 'Blu',\n",
       " 'Blue',\n",
       " 'Bluebert',\n",
       " 'Bo',\n",
       " 'Bob',\n",
       " 'Bobb',\n",
       " 'Bobbay',\n",
       " 'Bobble',\n",
       " 'Bobby',\n",
       " 'Bode',\n",
       " 'Bodie',\n",
       " 'Bonaparte',\n",
       " 'Bones',\n",
       " 'Bookstore',\n",
       " 'Boomer',\n",
       " 'Boots',\n",
       " 'Boston',\n",
       " 'Bowie',\n",
       " 'Brad',\n",
       " 'Bradlay',\n",
       " 'Bradley',\n",
       " 'Brady',\n",
       " 'Brandi',\n",
       " 'Brandonald',\n",
       " 'Brandy',\n",
       " 'Brat',\n",
       " 'Brian',\n",
       " 'Brockly',\n",
       " 'Brody',\n",
       " 'Bronte',\n",
       " 'Brooks',\n",
       " 'Brownie',\n",
       " 'Bruce',\n",
       " 'Brudge',\n",
       " 'Bruiser',\n",
       " 'Bruno',\n",
       " 'Brutus',\n",
       " 'Bubba',\n",
       " 'Bubbles',\n",
       " 'Buckley',\n",
       " 'Buddah',\n",
       " 'Buddy',\n",
       " 'Bungalo',\n",
       " 'Burt',\n",
       " 'Butter',\n",
       " 'Butters',\n",
       " 'Cal',\n",
       " 'Calbert',\n",
       " 'Cali',\n",
       " 'Callie',\n",
       " 'Calvin',\n",
       " 'Canela',\n",
       " 'Cannon',\n",
       " 'Carbon',\n",
       " 'Carl',\n",
       " 'Carll',\n",
       " 'Carly',\n",
       " 'Carper',\n",
       " 'Carter',\n",
       " 'Caryl',\n",
       " 'Cash',\n",
       " 'Cassie',\n",
       " 'CeCe',\n",
       " 'Cecil',\n",
       " 'Cedrick',\n",
       " 'Cermet',\n",
       " 'Chadrick',\n",
       " 'Champ',\n",
       " 'Charl',\n",
       " 'Charles',\n",
       " 'Charleson',\n",
       " 'Charlie',\n",
       " 'Chase',\n",
       " 'Chaz',\n",
       " 'Cheesy',\n",
       " 'Chef',\n",
       " 'Chelsea',\n",
       " 'Cheryl',\n",
       " 'Chesney',\n",
       " 'Chester',\n",
       " 'Chesterson',\n",
       " 'Chet',\n",
       " 'Chevy',\n",
       " 'Chip',\n",
       " 'Chipson',\n",
       " 'Chloe',\n",
       " 'Chompsky',\n",
       " 'Christoper',\n",
       " 'Chubbs',\n",
       " 'Chuck',\n",
       " 'Chuckles',\n",
       " 'Chuq',\n",
       " 'Churlie',\n",
       " 'Cilantro',\n",
       " 'Clarence',\n",
       " 'Clark',\n",
       " 'Clarkus',\n",
       " 'Clarq',\n",
       " 'Claude',\n",
       " 'Cleopatricia',\n",
       " 'Clifford',\n",
       " 'Clybe',\n",
       " 'Clyde',\n",
       " 'Coco',\n",
       " 'Cody',\n",
       " 'Colby',\n",
       " 'Coleman',\n",
       " 'Colin',\n",
       " 'Combo',\n",
       " 'Comet',\n",
       " 'Cooper',\n",
       " 'Coops',\n",
       " 'Coopson',\n",
       " 'Cora',\n",
       " 'Corey',\n",
       " 'Covach',\n",
       " 'Craig',\n",
       " 'Crawford',\n",
       " 'Creg',\n",
       " 'Crimson',\n",
       " 'Crouton',\n",
       " 'Crumpet',\n",
       " 'Crystal',\n",
       " 'Cuddles',\n",
       " 'Cupcake',\n",
       " 'Cupid',\n",
       " 'Curtis',\n",
       " 'Daisy',\n",
       " 'Dakota',\n",
       " 'Dale',\n",
       " 'Dallas',\n",
       " 'Damon',\n",
       " 'Daniel',\n",
       " 'Danny',\n",
       " 'Dante',\n",
       " 'Darby',\n",
       " 'Darla',\n",
       " 'Darrel',\n",
       " 'Dash',\n",
       " 'Dave',\n",
       " 'Davey',\n",
       " 'Dawn',\n",
       " 'DayZ',\n",
       " 'Deacon',\n",
       " 'Derby',\n",
       " 'Derek',\n",
       " 'Devón',\n",
       " 'Dewey',\n",
       " 'Dex',\n",
       " 'Dexter',\n",
       " 'Dido',\n",
       " 'Dietrich',\n",
       " 'Diogi',\n",
       " 'Divine',\n",
       " 'Dixie',\n",
       " 'Django',\n",
       " 'Dobby',\n",
       " 'Doc',\n",
       " 'DonDon',\n",
       " 'Donny',\n",
       " 'Doobert',\n",
       " 'Dook',\n",
       " 'Dot',\n",
       " 'Dotsy',\n",
       " 'Doug',\n",
       " 'Duchess',\n",
       " 'Duddles',\n",
       " 'Dudley',\n",
       " 'Dug',\n",
       " 'Duke',\n",
       " 'Dunkin',\n",
       " 'Durg',\n",
       " 'Dutch',\n",
       " 'Dwight',\n",
       " 'Dylan',\n",
       " 'Earl',\n",
       " 'Eazy',\n",
       " 'Ebby',\n",
       " 'Ed',\n",
       " 'Edd',\n",
       " 'Edgar',\n",
       " 'Edmund',\n",
       " 'Eevee',\n",
       " 'Einstein',\n",
       " 'Eleanor',\n",
       " 'Eli',\n",
       " 'Ellie',\n",
       " 'Elliot',\n",
       " 'Emanuel',\n",
       " 'Ember',\n",
       " 'Emma',\n",
       " 'Emmie',\n",
       " 'Emmy',\n",
       " 'Enchilada',\n",
       " 'Erik',\n",
       " 'Eriq',\n",
       " 'Ester',\n",
       " 'Eugene',\n",
       " 'Eve',\n",
       " 'Evy',\n",
       " 'Fabio',\n",
       " 'Farfle',\n",
       " 'Ferg',\n",
       " 'Fido',\n",
       " 'Fiji',\n",
       " 'Fillup',\n",
       " 'Filup',\n",
       " 'Finley',\n",
       " 'Finn',\n",
       " 'Finnegus',\n",
       " 'Fiona',\n",
       " 'Fizz',\n",
       " 'Flash',\n",
       " 'Fletcher',\n",
       " 'Florence',\n",
       " 'Flurpson',\n",
       " 'Flávio',\n",
       " 'Frank',\n",
       " 'Frankie',\n",
       " 'Franklin',\n",
       " 'Franq',\n",
       " 'Fred',\n",
       " 'Freddery',\n",
       " 'Frönq',\n",
       " 'Furzey',\n",
       " 'Fwed',\n",
       " 'Fynn',\n",
       " 'Gabe',\n",
       " 'Gary',\n",
       " 'General',\n",
       " 'Genevieve',\n",
       " 'Geno',\n",
       " 'Geoff',\n",
       " 'George',\n",
       " 'Georgie',\n",
       " 'Gerald',\n",
       " 'Gerbald',\n",
       " 'Gert',\n",
       " 'Gidget',\n",
       " 'Gilbert',\n",
       " 'Gin',\n",
       " 'Ginger',\n",
       " 'Gizmo',\n",
       " 'Glacier',\n",
       " 'Glenn',\n",
       " 'Godi',\n",
       " 'Godzilla',\n",
       " 'Goliath',\n",
       " 'Goose',\n",
       " 'Gordon',\n",
       " 'Grady',\n",
       " 'Grey',\n",
       " 'Griffin',\n",
       " 'Griswold',\n",
       " 'Grizz',\n",
       " 'Grizzie',\n",
       " 'Grizzwald',\n",
       " 'Gromit',\n",
       " 'Gunner',\n",
       " 'Gus',\n",
       " 'Gustaf',\n",
       " 'Gustav',\n",
       " 'Gòrdón',\n",
       " 'Hall',\n",
       " 'Halo',\n",
       " 'Hammond',\n",
       " 'Hamrick',\n",
       " 'Hank',\n",
       " 'Hanz',\n",
       " 'Happy',\n",
       " 'Harlso',\n",
       " 'Harnold',\n",
       " 'Harold',\n",
       " 'Harper',\n",
       " 'Harrison',\n",
       " 'Harry',\n",
       " 'Harvey',\n",
       " 'Hazel',\n",
       " 'Hector',\n",
       " 'Heinrich',\n",
       " 'Henry',\n",
       " 'Herald',\n",
       " 'Herb',\n",
       " 'Hercules',\n",
       " 'Herm',\n",
       " 'Hermione',\n",
       " 'Hero',\n",
       " 'Herschel',\n",
       " 'Hobbes',\n",
       " 'Holly',\n",
       " 'Horace',\n",
       " 'Howie',\n",
       " 'Hubertson',\n",
       " 'Huck',\n",
       " 'Humphrey',\n",
       " 'Hunter',\n",
       " 'Hurley',\n",
       " 'Huxley',\n",
       " 'Iggy',\n",
       " 'Ike',\n",
       " 'Indie',\n",
       " 'Iroh',\n",
       " 'Ito',\n",
       " 'Ivar',\n",
       " 'Izzy',\n",
       " 'JD',\n",
       " 'Jack',\n",
       " 'Jackie',\n",
       " 'Jackson',\n",
       " 'Jameson',\n",
       " 'Jamesy',\n",
       " 'Jangle',\n",
       " 'Jareld',\n",
       " 'Jarod',\n",
       " 'Jarvis',\n",
       " 'Jaspers',\n",
       " 'Jax',\n",
       " 'Jay',\n",
       " 'Jaycob',\n",
       " 'Jazz',\n",
       " 'Jazzy',\n",
       " 'Jeb',\n",
       " 'Jebberson',\n",
       " 'Jed',\n",
       " 'Jeffrey',\n",
       " 'Jeffri',\n",
       " 'Jeffrie',\n",
       " 'Jennifur',\n",
       " 'Jeph',\n",
       " 'Jeremy',\n",
       " 'Jerome',\n",
       " 'Jerry',\n",
       " 'Jersey',\n",
       " 'Jesse',\n",
       " 'Jessifer',\n",
       " 'Jessiga',\n",
       " 'Jett',\n",
       " 'Jim',\n",
       " 'Jimbo',\n",
       " 'Jiminus',\n",
       " 'Jiminy',\n",
       " 'Jimison',\n",
       " 'Jimothy',\n",
       " 'Jo',\n",
       " 'Jockson',\n",
       " 'Joey',\n",
       " 'Jomathan',\n",
       " 'Jonah',\n",
       " 'Jordy',\n",
       " 'Josep',\n",
       " 'Joshwa',\n",
       " 'Juckson',\n",
       " 'Julio',\n",
       " 'Julius',\n",
       " 'Juno',\n",
       " 'Kaia',\n",
       " 'Kaiya',\n",
       " 'Kallie',\n",
       " 'Kane',\n",
       " 'Kanu',\n",
       " 'Kara',\n",
       " 'Karl',\n",
       " 'Karll',\n",
       " 'Karma',\n",
       " 'Kathmandu',\n",
       " 'Katie',\n",
       " 'Kawhi',\n",
       " 'Kayla',\n",
       " 'Keet',\n",
       " 'Keith',\n",
       " 'Kellogg',\n",
       " 'Ken',\n",
       " 'Kendall',\n",
       " 'Kenneth',\n",
       " 'Kenny',\n",
       " 'Kenzie',\n",
       " 'Keurig',\n",
       " 'Kevin',\n",
       " 'Kevon',\n",
       " 'Kial',\n",
       " 'Kilo',\n",
       " 'Kingsley',\n",
       " 'Kirby',\n",
       " 'Kirk',\n",
       " 'Klein',\n",
       " 'Klevin',\n",
       " 'Kloey',\n",
       " 'Kobe',\n",
       " 'Koda',\n",
       " 'Kody',\n",
       " 'Koko',\n",
       " 'Kollin',\n",
       " 'Kona',\n",
       " 'Kota',\n",
       " 'Kramer',\n",
       " 'Kreg',\n",
       " 'Kreggory',\n",
       " 'Kulet',\n",
       " 'Kuyu',\n",
       " 'Kyle',\n",
       " 'Kyro',\n",
       " 'Lacy',\n",
       " 'Laela',\n",
       " 'Laika',\n",
       " 'Lambeau',\n",
       " 'Lance',\n",
       " 'Larry',\n",
       " 'Lassie',\n",
       " 'Layla',\n",
       " 'Leela',\n",
       " 'Lennon',\n",
       " 'Lenny',\n",
       " 'Lenox',\n",
       " 'Leo',\n",
       " 'Leonard',\n",
       " 'Leonidas',\n",
       " 'Levi',\n",
       " 'Liam',\n",
       " 'Lilah',\n",
       " 'Lili',\n",
       " 'Lilli',\n",
       " 'Lillie',\n",
       " 'Lilly',\n",
       " 'Lily',\n",
       " 'Lincoln',\n",
       " 'Linda',\n",
       " 'Link',\n",
       " 'Linus',\n",
       " 'Lipton',\n",
       " 'Livvie',\n",
       " 'Lizzie',\n",
       " 'Logan',\n",
       " 'Loki',\n",
       " 'Lola',\n",
       " 'Lolo',\n",
       " 'Longfellow',\n",
       " 'Loomis',\n",
       " 'Lorelei',\n",
       " 'Lorenzo',\n",
       " 'Lou',\n",
       " 'Louie',\n",
       " 'Louis',\n",
       " 'Luca',\n",
       " 'Lucia',\n",
       " 'Lucky',\n",
       " 'Lucy',\n",
       " 'Lugan',\n",
       " 'Lulu',\n",
       " 'Luna',\n",
       " 'Lupe',\n",
       " 'Luther',\n",
       " 'Mabel',\n",
       " 'Mac',\n",
       " 'Mack',\n",
       " 'Maddie',\n",
       " 'Maggie',\n",
       " 'Mairi',\n",
       " 'Maisey',\n",
       " 'Major',\n",
       " 'Maks',\n",
       " 'Malcolm',\n",
       " 'Malikai',\n",
       " 'Margo',\n",
       " 'Mark',\n",
       " 'Marlee',\n",
       " 'Marley',\n",
       " 'Marq',\n",
       " 'Marty',\n",
       " 'Marvin',\n",
       " 'Mary',\n",
       " 'Mason',\n",
       " 'Mattie',\n",
       " 'Maude',\n",
       " 'Mauve',\n",
       " 'Max',\n",
       " 'Maxaroni',\n",
       " 'Maximus',\n",
       " 'Maxwell',\n",
       " 'Maya',\n",
       " 'Meatball',\n",
       " 'Meera',\n",
       " 'Meyer',\n",
       " 'Mia',\n",
       " 'Michelangelope',\n",
       " 'Miguel',\n",
       " 'Mike',\n",
       " 'Miley',\n",
       " 'Milky',\n",
       " 'Millie',\n",
       " 'Milo',\n",
       " 'Mimosa',\n",
       " 'Mingus',\n",
       " 'Mister',\n",
       " 'Misty',\n",
       " 'Mitch',\n",
       " 'Mo',\n",
       " 'Moe',\n",
       " 'Mojo',\n",
       " 'Mollie',\n",
       " 'Molly',\n",
       " 'Mona',\n",
       " 'Monkey',\n",
       " 'Monster',\n",
       " 'Monty',\n",
       " 'Moofasa',\n",
       " 'Mookie',\n",
       " 'Moose',\n",
       " 'Moreton',\n",
       " 'Mosby',\n",
       " 'Murphy',\n",
       " 'Mutt',\n",
       " 'Mya',\n",
       " 'Nala',\n",
       " 'Naphaniel',\n",
       " 'Napolean',\n",
       " 'Nelly',\n",
       " 'Neptune',\n",
       " 'Newt',\n",
       " 'Nico',\n",
       " 'Nida',\n",
       " 'Nigel',\n",
       " 'Nimbus',\n",
       " 'Noah',\n",
       " 'Nollie',\n",
       " 'None',\n",
       " 'Noosh',\n",
       " 'Norman',\n",
       " 'Nugget',\n",
       " 'O',\n",
       " 'Oakley',\n",
       " 'Obi',\n",
       " 'Obie',\n",
       " 'Oddie',\n",
       " 'Odie',\n",
       " 'Odin',\n",
       " 'Olaf',\n",
       " 'Ole',\n",
       " 'Olive',\n",
       " 'Oliver',\n",
       " 'Olivia',\n",
       " 'Oliviér',\n",
       " 'Ollie',\n",
       " 'Opal',\n",
       " 'Opie',\n",
       " 'Oreo',\n",
       " 'Orion',\n",
       " 'Oscar',\n",
       " 'Oshie',\n",
       " 'Otis',\n",
       " 'Ozzie',\n",
       " 'Ozzy',\n",
       " 'Pablo',\n",
       " 'Paisley',\n",
       " 'Pancake',\n",
       " 'Panda',\n",
       " 'Patch',\n",
       " 'Patrick',\n",
       " 'Paull',\n",
       " 'Pavlov',\n",
       " 'Pawnd',\n",
       " 'Peaches',\n",
       " 'Peanut',\n",
       " 'Penelope',\n",
       " 'Penny',\n",
       " 'Pepper',\n",
       " 'Percy',\n",
       " 'Perry',\n",
       " 'Pete',\n",
       " 'Petrick',\n",
       " 'Pherb',\n",
       " 'Phil',\n",
       " 'Philbert',\n",
       " 'Philippe',\n",
       " 'Phineas',\n",
       " 'Phred',\n",
       " 'Pickles',\n",
       " 'Pilot',\n",
       " 'Pinot',\n",
       " 'Pip',\n",
       " 'Piper',\n",
       " 'Pippa',\n",
       " 'Pippin',\n",
       " 'Pipsy',\n",
       " 'Pluto',\n",
       " 'Poppy',\n",
       " 'Pubert',\n",
       " 'Puff',\n",
       " 'Pumpkin',\n",
       " 'Pupcasso',\n",
       " 'Quinn',\n",
       " 'Ralf',\n",
       " 'Ralph',\n",
       " 'Ralpher',\n",
       " 'Ralphie',\n",
       " 'Ralphson',\n",
       " 'Ralphus',\n",
       " 'Ralphy',\n",
       " 'Ralphé',\n",
       " 'Rambo',\n",
       " 'Randall',\n",
       " 'Raphael',\n",
       " 'Rascal',\n",
       " 'Raymond',\n",
       " 'Reagan',\n",
       " 'Reese',\n",
       " 'Reggie',\n",
       " 'Reginald',\n",
       " 'Remington',\n",
       " 'Remus',\n",
       " 'Remy',\n",
       " 'Reptar',\n",
       " 'Rey',\n",
       " 'Rhino',\n",
       " 'Richie',\n",
       " 'Ricky',\n",
       " 'Ridley',\n",
       " 'Riley',\n",
       " 'Rilo',\n",
       " 'Rinna',\n",
       " 'River',\n",
       " 'Rizzo',\n",
       " 'Rizzy',\n",
       " 'Robin',\n",
       " 'Rocco',\n",
       " 'Rocky',\n",
       " 'Rodman',\n",
       " 'Rodney',\n",
       " 'Rolf',\n",
       " 'Romeo',\n",
       " 'Ron',\n",
       " 'Ronduh',\n",
       " 'Ronnie',\n",
       " 'Rontu',\n",
       " 'Rooney',\n",
       " 'Roosevelt',\n",
       " 'Rorie',\n",
       " 'Rory',\n",
       " 'Roscoe',\n",
       " 'Rose',\n",
       " 'Rosie',\n",
       " 'Rover',\n",
       " 'Rubio',\n",
       " 'Ruby',\n",
       " 'Rudy',\n",
       " 'Rueben',\n",
       " 'Ruffles',\n",
       " 'Rufio',\n",
       " 'Rufus',\n",
       " 'Rumble',\n",
       " 'Rumpole',\n",
       " 'Rupert',\n",
       " 'Rusty',\n",
       " 'Sadie',\n",
       " 'Sage',\n",
       " 'Sailer',\n",
       " 'Sailor',\n",
       " 'Sam',\n",
       " 'Sammy',\n",
       " 'Sampson',\n",
       " 'Samsom',\n",
       " 'Samson',\n",
       " 'Sandra',\n",
       " 'Sandy',\n",
       " 'Sansa',\n",
       " 'Sarge',\n",
       " 'Saydee',\n",
       " 'Schnitzel',\n",
       " 'Schnozz',\n",
       " 'Scooter',\n",
       " 'Scott',\n",
       " 'Scout',\n",
       " 'Scruffers',\n",
       " 'Seamus',\n",
       " 'Sebastian',\n",
       " 'Sephie',\n",
       " 'Severus',\n",
       " 'Shadoe',\n",
       " 'Shadow',\n",
       " 'Shaggy',\n",
       " 'Shakespeare',\n",
       " 'Shawwn',\n",
       " 'Shelby',\n",
       " 'Shikha',\n",
       " 'Shiloh',\n",
       " 'Shnuggles',\n",
       " 'Shooter',\n",
       " 'Siba',\n",
       " 'Sid',\n",
       " 'Sierra',\n",
       " 'Simba',\n",
       " 'Skittle',\n",
       " 'Skittles',\n",
       " 'Sky',\n",
       " 'Skye',\n",
       " 'Smiley',\n",
       " 'Smokey',\n",
       " 'Snickers',\n",
       " 'Snicku',\n",
       " 'Snoop',\n",
       " 'Snoopy',\n",
       " 'Sobe',\n",
       " 'Socks',\n",
       " 'Sojourner',\n",
       " 'Solomon',\n",
       " 'Sonny',\n",
       " 'Sophie',\n",
       " 'Sora',\n",
       " 'Spanky',\n",
       " 'Spark',\n",
       " 'Sparky',\n",
       " 'Spencer',\n",
       " 'Sprinkles',\n",
       " 'Sprout',\n",
       " 'Staniel',\n",
       " 'Stanley',\n",
       " 'Stark',\n",
       " 'Stefan',\n",
       " 'Stella',\n",
       " 'Stephan',\n",
       " 'Stephanus',\n",
       " 'Steve',\n",
       " 'Steven',\n",
       " 'Stewie',\n",
       " 'Storkson',\n",
       " 'Stormy',\n",
       " 'Strider',\n",
       " 'Striker',\n",
       " 'Strudel',\n",
       " 'Stu',\n",
       " 'Stuart',\n",
       " 'Stubert',\n",
       " 'Sugar',\n",
       " 'Suki',\n",
       " 'Sully',\n",
       " 'Sundance',\n",
       " 'Sunny',\n",
       " 'Sunshine',\n",
       " 'Superpup',\n",
       " 'Swagger',\n",
       " 'Sweet',\n",
       " 'Sweets',\n",
       " 'Taco',\n",
       " 'Tango',\n",
       " 'Tanner',\n",
       " 'Tassy',\n",
       " 'Tater',\n",
       " 'Tayzie',\n",
       " 'Taz',\n",
       " 'Tebow',\n",
       " 'Ted',\n",
       " 'Tedders',\n",
       " 'Teddy',\n",
       " 'Tedrick',\n",
       " 'Terrance',\n",
       " 'Terrenth',\n",
       " 'Terry',\n",
       " 'Tess',\n",
       " 'Tessa',\n",
       " 'Theo',\n",
       " 'Theodore',\n",
       " 'Thor',\n",
       " 'Thumas',\n",
       " 'Tiger',\n",
       " 'Tilly',\n",
       " 'Timber',\n",
       " 'Timison',\n",
       " 'Timmy',\n",
       " 'Timofy',\n",
       " 'Tino',\n",
       " 'Titan',\n",
       " 'Tito',\n",
       " 'Tobi',\n",
       " 'Toby',\n",
       " 'Todo',\n",
       " 'Toffee',\n",
       " 'Tom',\n",
       " 'Tommy',\n",
       " 'Tonks',\n",
       " 'Torque',\n",
       " 'Tove',\n",
       " 'Travis',\n",
       " 'Traviss',\n",
       " 'Trevith',\n",
       " 'Trigger',\n",
       " 'Trip',\n",
       " 'Tripp',\n",
       " 'Trooper',\n",
       " 'Tuck',\n",
       " 'Tucker',\n",
       " 'Tuco',\n",
       " 'Tug',\n",
       " 'Tupawc',\n",
       " 'Tycho',\n",
       " 'Tyr',\n",
       " 'Tyrone',\n",
       " 'Tyrus',\n",
       " 'Ulysses',\n",
       " 'Venti',\n",
       " 'Vince',\n",
       " 'Vincent',\n",
       " 'Vinnie',\n",
       " 'Vinscent',\n",
       " 'Vixen',\n",
       " 'Wafer',\n",
       " 'Waffles',\n",
       " 'Walker',\n",
       " 'Wallace',\n",
       " 'Wally',\n",
       " 'Walter',\n",
       " 'Watson',\n",
       " 'Wesley',\n",
       " 'Wiggles',\n",
       " 'Willem',\n",
       " 'William',\n",
       " 'Willie',\n",
       " 'Willow',\n",
       " 'Willy',\n",
       " 'Wilson',\n",
       " 'Winifred',\n",
       " 'Winnie',\n",
       " 'Winston',\n",
       " 'Wishes',\n",
       " 'Wyatt',\n",
       " 'Yoda',\n",
       " 'Yogi',\n",
       " 'Yukon',\n",
       " 'Zara',\n",
       " 'Zeek',\n",
       " 'Zeke',\n",
       " 'Zeus',\n",
       " 'Ziva',\n",
       " 'Zoe',\n",
       " 'Zoey',\n",
       " 'Zooey',\n",
       " 'Zuzu']"
      ]
     },
     "execution_count": 74,
     "metadata": {},
     "output_type": "execute_result"
    }
   ],
   "source": [
    "sorted_name = sorted(top_dog.name.unique())\n",
    "sorted_name\n",
    "# Values in the invalid_names list created in the code cell above should not be present.\n",
    "# None should be present"
   ]
  },
  {
   "cell_type": "code",
   "execution_count": 75,
   "metadata": {},
   "outputs": [
    {
     "data": {
      "text/plain": [
       "array([], dtype=object)"
      ]
     },
     "execution_count": 75,
     "metadata": {},
     "output_type": "execute_result"
    }
   ],
   "source": [
    "# Checking to see that there are no none-titled dog names \n",
    "top_dog[top_dog.name.str.islower()].name.unique()"
   ]
  },
  {
   "cell_type": "markdown",
   "metadata": {},
   "source": [
    "## Quality issue 6\n",
    "### Define\n",
    "Determine if all ratings in the ratings_denominator should be set to a default value of 10. There is a total of 23 rows in the original dataset before dropping selected rows and columns(22 rows in the modified dataset). This process will be setting the column width in pandas to allow to read the whole text. Making a sub selection of the dataframe consisting of the columns, tweet_id, text, and rating_numerator, and rating_denominator and only looking at rows where the rating_denominator is not equal to 10.    "
   ]
  },
  {
   "cell_type": "markdown",
   "metadata": {},
   "source": [
    "### Code"
   ]
  },
  {
   "cell_type": "code",
   "execution_count": 76,
   "metadata": {},
   "outputs": [],
   "source": [
    "# Setting the column width in pandas to 185, as that should suffice to read the whole text\n",
    "pd.set_option('display.max_colwidth', 185)\n",
    "pd.set_option('display.max_rows', 30) # Set the maximum number of rows to a higher value to avoid excessive scrolling"
   ]
  },
  {
   "cell_type": "code",
   "execution_count": 77,
   "metadata": {},
   "outputs": [],
   "source": [
    "sub_selection = top_dog[['tweet_id', 'text', 'rating_numerator', 'rating_denominator']]"
   ]
  },
  {
   "cell_type": "code",
   "execution_count": 78,
   "metadata": {},
   "outputs": [],
   "source": [
    "odd_d = sub_selection[sub_selection.rating_denominator != 10]"
   ]
  },
  {
   "cell_type": "code",
   "execution_count": 79,
   "metadata": {},
   "outputs": [
    {
     "data": {
      "text/html": [
       "<div>\n",
       "<style scoped>\n",
       "    .dataframe tbody tr th:only-of-type {\n",
       "        vertical-align: middle;\n",
       "    }\n",
       "\n",
       "    .dataframe tbody tr th {\n",
       "        vertical-align: top;\n",
       "    }\n",
       "\n",
       "    .dataframe thead th {\n",
       "        text-align: right;\n",
       "    }\n",
       "</style>\n",
       "<table border=\"1\" class=\"dataframe\">\n",
       "  <thead>\n",
       "    <tr style=\"text-align: right;\">\n",
       "      <th></th>\n",
       "      <th>tweet_id</th>\n",
       "      <th>text</th>\n",
       "      <th>rating_numerator</th>\n",
       "      <th>rating_denominator</th>\n",
       "    </tr>\n",
       "  </thead>\n",
       "  <tbody>\n",
       "    <tr>\n",
       "      <th>313</th>\n",
       "      <td>835246439529840640</td>\n",
       "      <td>@jonnysun @Lin_Manuel ok jomny I know you're excited but 960/00 isn't a valid rating, 13/10 is tho</td>\n",
       "      <td>960</td>\n",
       "      <td>0</td>\n",
       "    </tr>\n",
       "    <tr>\n",
       "      <th>342</th>\n",
       "      <td>832088576586297345</td>\n",
       "      <td>@docmisterio account started on 11/15/15</td>\n",
       "      <td>11</td>\n",
       "      <td>15</td>\n",
       "    </tr>\n",
       "    <tr>\n",
       "      <th>433</th>\n",
       "      <td>820690176645140481</td>\n",
       "      <td>The floofs have been released I repeat the floofs have been released. 84/70 https://t.co/NIYC820tmd</td>\n",
       "      <td>84</td>\n",
       "      <td>70</td>\n",
       "    </tr>\n",
       "    <tr>\n",
       "      <th>516</th>\n",
       "      <td>810984652412424192</td>\n",
       "      <td>Meet Sam. She smiles 24/7 &amp;amp; secretly aspires to be a reindeer. \\nKeep Sam smiling by clicking and sharing this link:\\nhttps://t.co/98tB8y7y7t https://t.co/LouL5vdvxx</td>\n",
       "      <td>24</td>\n",
       "      <td>7</td>\n",
       "    </tr>\n",
       "    <tr>\n",
       "      <th>902</th>\n",
       "      <td>758467244762497024</td>\n",
       "      <td>Why does this never happen at my front door... 165/150 https://t.co/HmwrdfEfUE</td>\n",
       "      <td>165</td>\n",
       "      <td>150</td>\n",
       "    </tr>\n",
       "    <tr>\n",
       "      <th>1068</th>\n",
       "      <td>740373189193256964</td>\n",
       "      <td>After so many requests, this is Bretagne. She was the last surviving 9/11 search dog, and our second ever 14/10. RIP https://t.co/XAVDNDaVgQ</td>\n",
       "      <td>9</td>\n",
       "      <td>11</td>\n",
       "    </tr>\n",
       "    <tr>\n",
       "      <th>1120</th>\n",
       "      <td>731156023742988288</td>\n",
       "      <td>Say hello to this unbelievably well behaved squad of doggos. 204/170 would try to pet all at once https://t.co/yGQI3He3xv</td>\n",
       "      <td>204</td>\n",
       "      <td>170</td>\n",
       "    </tr>\n",
       "    <tr>\n",
       "      <th>1165</th>\n",
       "      <td>722974582966214656</td>\n",
       "      <td>Happy 4/20 from the squad! 13/10 for all https://t.co/eV1diwds8a</td>\n",
       "      <td>4</td>\n",
       "      <td>20</td>\n",
       "    </tr>\n",
       "    <tr>\n",
       "      <th>1202</th>\n",
       "      <td>716439118184652801</td>\n",
       "      <td>This is Bluebert. He just saw that both #FinalFur match ups are split 50/50. Amazed af. 11/10 https://t.co/Kky1DPG4iq</td>\n",
       "      <td>50</td>\n",
       "      <td>50</td>\n",
       "    </tr>\n",
       "    <tr>\n",
       "      <th>1228</th>\n",
       "      <td>713900603437621249</td>\n",
       "      <td>Happy Saturday here's 9 puppers on a bench. 99/90 good work everybody https://t.co/mpvaVxKmc1</td>\n",
       "      <td>99</td>\n",
       "      <td>90</td>\n",
       "    </tr>\n",
       "    <tr>\n",
       "      <th>1254</th>\n",
       "      <td>710658690886586372</td>\n",
       "      <td>Here's a brigade of puppers. All look very prepared for whatever happens next. 80/80 https://t.co/0eb7R1Om12</td>\n",
       "      <td>80</td>\n",
       "      <td>80</td>\n",
       "    </tr>\n",
       "    <tr>\n",
       "      <th>1274</th>\n",
       "      <td>709198395643068416</td>\n",
       "      <td>From left to right:\\nCletus, Jerome, Alejandro, Burp, &amp;amp; Titson\\nNone know where camera is. 45/50 would hug all at once https://t.co/sedre1ivTK</td>\n",
       "      <td>45</td>\n",
       "      <td>50</td>\n",
       "    </tr>\n",
       "    <tr>\n",
       "      <th>1351</th>\n",
       "      <td>704054845121142784</td>\n",
       "      <td>Here is a whole flock of puppers.  60/50 I'll take the lot https://t.co/9dpcw6MdWa</td>\n",
       "      <td>60</td>\n",
       "      <td>50</td>\n",
       "    </tr>\n",
       "    <tr>\n",
       "      <th>1433</th>\n",
       "      <td>697463031882764288</td>\n",
       "      <td>Happy Wednesday here's a bucket of pups. 44/40 would pet all at once https://t.co/HppvrYuamZ</td>\n",
       "      <td>44</td>\n",
       "      <td>40</td>\n",
       "    </tr>\n",
       "    <tr>\n",
       "      <th>1598</th>\n",
       "      <td>686035780142297088</td>\n",
       "      <td>Yes I do realize a rating of 4/20 would've been fitting. However, it would be unjust to give these cooperative pups that low of a rating</td>\n",
       "      <td>4</td>\n",
       "      <td>20</td>\n",
       "    </tr>\n",
       "    <tr>\n",
       "      <th>1634</th>\n",
       "      <td>684225744407494656</td>\n",
       "      <td>Two sneaky puppers were not initially seen, moving the rating to 143/130. Please forgive us. Thank you https://t.co/kRK51Y5ac3</td>\n",
       "      <td>143</td>\n",
       "      <td>130</td>\n",
       "    </tr>\n",
       "    <tr>\n",
       "      <th>1635</th>\n",
       "      <td>684222868335505415</td>\n",
       "      <td>Someone help the girl is being mugged. Several are distracting her while two steal her shoes. Clever puppers 121/110 https://t.co/1zfnTJLt55</td>\n",
       "      <td>121</td>\n",
       "      <td>110</td>\n",
       "    </tr>\n",
       "    <tr>\n",
       "      <th>1662</th>\n",
       "      <td>682962037429899265</td>\n",
       "      <td>This is Darrel. He just robbed a 7/11 and is in a high speed police chase. Was just spotted by the helicopter 10/10 https://t.co/7EsP8LmSp5</td>\n",
       "      <td>7</td>\n",
       "      <td>11</td>\n",
       "    </tr>\n",
       "    <tr>\n",
       "      <th>1663</th>\n",
       "      <td>682808988178739200</td>\n",
       "      <td>I'm aware that I could've said 20/16, but here at WeRateDogs we are very professional. An inconsistent rating scale is simply irresponsible</td>\n",
       "      <td>20</td>\n",
       "      <td>16</td>\n",
       "    </tr>\n",
       "    <tr>\n",
       "      <th>1779</th>\n",
       "      <td>677716515794329600</td>\n",
       "      <td>IT'S PUPPERGEDDON. Total of 144/120 ...I think https://t.co/ZanVtAtvIq</td>\n",
       "      <td>144</td>\n",
       "      <td>120</td>\n",
       "    </tr>\n",
       "    <tr>\n",
       "      <th>1843</th>\n",
       "      <td>675853064436391936</td>\n",
       "      <td>Here we have an entire platoon of puppers. Total score: 88/80 would pet all at once https://t.co/y93p6FLvVw</td>\n",
       "      <td>88</td>\n",
       "      <td>80</td>\n",
       "    </tr>\n",
       "    <tr>\n",
       "      <th>2335</th>\n",
       "      <td>666287406224695296</td>\n",
       "      <td>This is an Albanian 3 1/2 legged  Episcopalian. Loves well-polished hardwood flooring. Penis on the collar. 9/10 https://t.co/d9NcXFKwLv</td>\n",
       "      <td>1</td>\n",
       "      <td>2</td>\n",
       "    </tr>\n",
       "  </tbody>\n",
       "</table>\n",
       "</div>"
      ],
      "text/plain": [
       "                tweet_id  \\\n",
       "313   835246439529840640   \n",
       "342   832088576586297345   \n",
       "433   820690176645140481   \n",
       "516   810984652412424192   \n",
       "902   758467244762497024   \n",
       "1068  740373189193256964   \n",
       "1120  731156023742988288   \n",
       "1165  722974582966214656   \n",
       "1202  716439118184652801   \n",
       "1228  713900603437621249   \n",
       "1254  710658690886586372   \n",
       "1274  709198395643068416   \n",
       "1351  704054845121142784   \n",
       "1433  697463031882764288   \n",
       "1598  686035780142297088   \n",
       "1634  684225744407494656   \n",
       "1635  684222868335505415   \n",
       "1662  682962037429899265   \n",
       "1663  682808988178739200   \n",
       "1779  677716515794329600   \n",
       "1843  675853064436391936   \n",
       "2335  666287406224695296   \n",
       "\n",
       "                                                                                                                                                                           text  \\\n",
       "313                                                                          @jonnysun @Lin_Manuel ok jomny I know you're excited but 960/00 isn't a valid rating, 13/10 is tho   \n",
       "342                                                                                                                                    @docmisterio account started on 11/15/15   \n",
       "433                                                                         The floofs have been released I repeat the floofs have been released. 84/70 https://t.co/NIYC820tmd   \n",
       "516   Meet Sam. She smiles 24/7 &amp; secretly aspires to be a reindeer. \\nKeep Sam smiling by clicking and sharing this link:\\nhttps://t.co/98tB8y7y7t https://t.co/LouL5vdvxx   \n",
       "902                                                                                              Why does this never happen at my front door... 165/150 https://t.co/HmwrdfEfUE   \n",
       "1068                               After so many requests, this is Bretagne. She was the last surviving 9/11 search dog, and our second ever 14/10. RIP https://t.co/XAVDNDaVgQ   \n",
       "1120                                                  Say hello to this unbelievably well behaved squad of doggos. 204/170 would try to pet all at once https://t.co/yGQI3He3xv   \n",
       "1165                                                                                                           Happy 4/20 from the squad! 13/10 for all https://t.co/eV1diwds8a   \n",
       "1202                                                      This is Bluebert. He just saw that both #FinalFur match ups are split 50/50. Amazed af. 11/10 https://t.co/Kky1DPG4iq   \n",
       "1228                                                                              Happy Saturday here's 9 puppers on a bench. 99/90 good work everybody https://t.co/mpvaVxKmc1   \n",
       "1254                                                               Here's a brigade of puppers. All look very prepared for whatever happens next. 80/80 https://t.co/0eb7R1Om12   \n",
       "1274                         From left to right:\\nCletus, Jerome, Alejandro, Burp, &amp; Titson\\nNone know where camera is. 45/50 would hug all at once https://t.co/sedre1ivTK   \n",
       "1351                                                                                         Here is a whole flock of puppers.  60/50 I'll take the lot https://t.co/9dpcw6MdWa   \n",
       "1433                                                                               Happy Wednesday here's a bucket of pups. 44/40 would pet all at once https://t.co/HppvrYuamZ   \n",
       "1598                                   Yes I do realize a rating of 4/20 would've been fitting. However, it would be unjust to give these cooperative pups that low of a rating   \n",
       "1634                                             Two sneaky puppers were not initially seen, moving the rating to 143/130. Please forgive us. Thank you https://t.co/kRK51Y5ac3   \n",
       "1635                               Someone help the girl is being mugged. Several are distracting her while two steal her shoes. Clever puppers 121/110 https://t.co/1zfnTJLt55   \n",
       "1662                                This is Darrel. He just robbed a 7/11 and is in a high speed police chase. Was just spotted by the helicopter 10/10 https://t.co/7EsP8LmSp5   \n",
       "1663                                I'm aware that I could've said 20/16, but here at WeRateDogs we are very professional. An inconsistent rating scale is simply irresponsible   \n",
       "1779                                                                                                     IT'S PUPPERGEDDON. Total of 144/120 ...I think https://t.co/ZanVtAtvIq   \n",
       "1843                                                                Here we have an entire platoon of puppers. Total score: 88/80 would pet all at once https://t.co/y93p6FLvVw   \n",
       "2335                                   This is an Albanian 3 1/2 legged  Episcopalian. Loves well-polished hardwood flooring. Penis on the collar. 9/10 https://t.co/d9NcXFKwLv   \n",
       "\n",
       "      rating_numerator  rating_denominator  \n",
       "313                960                   0  \n",
       "342                 11                  15  \n",
       "433                 84                  70  \n",
       "516                 24                   7  \n",
       "902                165                 150  \n",
       "1068                 9                  11  \n",
       "1120               204                 170  \n",
       "1165                 4                  20  \n",
       "1202                50                  50  \n",
       "1228                99                  90  \n",
       "1254                80                  80  \n",
       "1274                45                  50  \n",
       "1351                60                  50  \n",
       "1433                44                  40  \n",
       "1598                 4                  20  \n",
       "1634               143                 130  \n",
       "1635               121                 110  \n",
       "1662                 7                  11  \n",
       "1663                20                  16  \n",
       "1779               144                 120  \n",
       "1843                88                  80  \n",
       "2335                 1                   2  "
      ]
     },
     "execution_count": 79,
     "metadata": {},
     "output_type": "execute_result"
    }
   ],
   "source": [
    "odd_d"
   ]
  },
  {
   "cell_type": "markdown",
   "metadata": {},
   "source": [
    "Upon further investigation, some of the ratings appear to be for multiple dogs. Ratings for multiple dogs will be left as is. Only three of the columns have a denominator value less than 10. One these rows with the tweet_id of 810984652412424192 will be dropped since there is no obvious rating given. What seems noticeable is that rows with high denominator values also have high numerator values. Considering that there will be a ratings column that divides the numerator by the denominator to give a singular rating value, most of the rows will be left as is. The following adjustments will be noted in the code cells below."
   ]
  },
  {
   "cell_type": "code",
   "execution_count": 80,
   "metadata": {},
   "outputs": [],
   "source": [
    "# tweet_id - 835246439529840640: The text mentions that a rating of 960/0 is not valid but that 13/10 is valid.\n",
    "top_dog.loc[top_dog.tweet_id == '835246439529840640', 'rating_numerator'] = 13\n",
    "top_dog.loc[top_dog.tweet_id == '835246439529840640', 'rating_denominator'] = 10"
   ]
  },
  {
   "cell_type": "code",
   "execution_count": 81,
   "metadata": {},
   "outputs": [],
   "source": [
    "# tweet_id - 740373189193256964: The rating of 9/11 was in relation to the date of 9/11, the actual rating appears to be 14/10\n",
    "top_dog.loc[top_dog.tweet_id == '740373189193256964', 'rating_numerator'] = 14\n",
    "top_dog.loc[top_dog.tweet_id == '740373189193256964', 'rating_denominator'] = 10"
   ]
  },
  {
   "cell_type": "code",
   "execution_count": 82,
   "metadata": {},
   "outputs": [],
   "source": [
    "# tweet_id - 722974582966214656: Another rating that probably mistakenly took in the date, correct rating is 13/10\n",
    "top_dog.loc[top_dog.tweet_id == '722974582966214656', 'rating_numerator'] = 13\n",
    "top_dog.loc[top_dog.tweet_id == '722974582966214656', 'rating_denominator'] = 10"
   ]
  },
  {
   "cell_type": "code",
   "execution_count": 83,
   "metadata": {},
   "outputs": [],
   "source": [
    "# tweet_id - 716439118184652801: 50/50 describes a split, there is what looks to be a rating of 11/10 near the end of the text\n",
    "top_dog.loc[top_dog.tweet_id == '716439118184652801', 'rating_numerator'] = 11\n",
    "top_dog.loc[top_dog.tweet_id == '716439118184652801', 'rating_denominator'] = 10"
   ]
  },
  {
   "cell_type": "code",
   "execution_count": 84,
   "metadata": {},
   "outputs": [],
   "source": [
    "# tweet_id - 682962037429899265: The 7/11 rating probably meant the convinient store of 7/11, correct rating looks to be 10/10\n",
    "top_dog.loc[top_dog.tweet_id == '682962037429899265', 'rating_numerator'] = 10\n",
    "top_dog.loc[top_dog.tweet_id == '682962037429899265', 'rating_denominator'] = 10"
   ]
  },
  {
   "cell_type": "code",
   "execution_count": 85,
   "metadata": {},
   "outputs": [],
   "source": [
    "# tweet_id - 666287406224695296: There is a '9/10' towards the end of the text. The correct rating may be 9/10 and not 1/2\n",
    "top_dog.loc[top_dog.tweet_id == '666287406224695296', 'rating_numerator'] = 9\n",
    "top_dog.loc[top_dog.tweet_id == '666287406224695296', 'rating_denominator'] = 10"
   ]
  },
  {
   "cell_type": "markdown",
   "metadata": {},
   "source": [
    "Since the analysis at the end of this project will involve exploring a dog's rating, rows that have questionable data or that do not provide a seeminly legit rating will be dropped. Based on assessing selected rows when assessing the rating_denominator column the following tweet_ids will be deleted from the dataframe.\n",
    "* tweet_id: 832088576586297345\t\n",
    "* tweet_id: 810984652412424192\n",
    "* tweet_id: 686035780142297088\n",
    "* tweet_id: 682808988178739200\n"
   ]
  },
  {
   "cell_type": "code",
   "execution_count": 86,
   "metadata": {},
   "outputs": [],
   "source": [
    "# Creating a list of the tweet_ids with invalid denominators\n",
    "bad_denominators = ['832088576586297345', '810984652412424192', '686035780142297088', '682808988178739200']\n",
    "# Dropping rows from the dataframe based on if the tweet_id is in the bad_denominators list\n",
    "top_dog = top_dog[~top_dog.tweet_id.isin(bad_denominators)]"
   ]
  },
  {
   "cell_type": "markdown",
   "metadata": {},
   "source": [
    "### Test"
   ]
  },
  {
   "cell_type": "code",
   "execution_count": 87,
   "metadata": {},
   "outputs": [
    {
     "data": {
      "text/plain": [
       "12"
      ]
     },
     "execution_count": 87,
     "metadata": {},
     "output_type": "execute_result"
    }
   ],
   "source": [
    "# Six modifications made above plus the deletion of 4 rows where the denominator is not equal to 10 should total 12\n",
    "len(top_dog[top_dog['rating_denominator'] != 10])"
   ]
  },
  {
   "cell_type": "code",
   "execution_count": 88,
   "metadata": {},
   "outputs": [
    {
     "data": {
      "text/plain": [
       "10     2159\n",
       "80        2\n",
       "50        2\n",
       "170       1\n",
       "150       1\n",
       "130       1\n",
       "120       1\n",
       "110       1\n",
       "90        1\n",
       "70        1\n",
       "40        1\n",
       "Name: rating_denominator, dtype: int64"
      ]
     },
     "execution_count": 88,
     "metadata": {},
     "output_type": "execute_result"
    }
   ],
   "source": [
    "top_dog.rating_denominator.value_counts()"
   ]
  },
  {
   "cell_type": "markdown",
   "metadata": {},
   "source": [
    "The number of rows with a denominator not equal to 10 went from 22 down to 12."
   ]
  },
  {
   "cell_type": "code",
   "execution_count": 89,
   "metadata": {},
   "outputs": [
    {
     "name": "stdout",
     "output_type": "stream",
     "text": [
      "<class 'pandas.core.frame.DataFrame'>\n",
      "Int64Index: 2171 entries, 0 to 2355\n",
      "Data columns (total 22 columns):\n",
      " #   Column              Non-Null Count  Dtype              \n",
      "---  ------              --------------  -----              \n",
      " 0   tweet_id            2171 non-null   object             \n",
      " 1   timestamp           2171 non-null   datetime64[ns, UTC]\n",
      " 2   source              2171 non-null   object             \n",
      " 3   text                2171 non-null   object             \n",
      " 4   expanded_urls       2116 non-null   object             \n",
      " 5   rating_numerator    2171 non-null   int64              \n",
      " 6   rating_denominator  2171 non-null   int64              \n",
      " 7   name                2171 non-null   object             \n",
      " 8   jpg_url             1993 non-null   object             \n",
      " 9   img_num             1993 non-null   float64            \n",
      " 10  p1                  1993 non-null   object             \n",
      " 11  p1_conf             1993 non-null   float64            \n",
      " 12  p1_dog              1993 non-null   object             \n",
      " 13  p2                  1993 non-null   object             \n",
      " 14  p2_conf             1993 non-null   float64            \n",
      " 15  p2_dog              1993 non-null   object             \n",
      " 16  p3                  1993 non-null   object             \n",
      " 17  p3_conf             1993 non-null   float64            \n",
      " 18  p3_dog              1993 non-null   object             \n",
      " 19  favorites_count     2163 non-null   float64            \n",
      " 20  retweets_count      2163 non-null   float64            \n",
      " 21  dog_stages          364 non-null    object             \n",
      "dtypes: datetime64[ns, UTC](1), float64(6), int64(2), object(13)\n",
      "memory usage: 390.1+ KB\n"
     ]
    }
   ],
   "source": [
    "top_dog.info()"
   ]
  },
  {
   "cell_type": "markdown",
   "metadata": {},
   "source": [
    "## Reiterate\n",
    "### Assessment\n",
    "Doing a quick assessment on the number of null values remaining in the data frame."
   ]
  },
  {
   "cell_type": "code",
   "execution_count": 92,
   "metadata": {},
   "outputs": [
    {
     "data": {
      "image/png": "[encoded data removed]",
      "text/plain": [
       "<Figure size 1080x360 with 2 Axes>"
      ]
     },
     "metadata": {
      "needs_background": "light"
     },
     "output_type": "display_data"
    }
   ],
   "source": [
    "## Plotting chart to enable visualization of the number of null values\n",
    "plt.figure(figsize=(15,5))\n",
    "plt.subplot(1,2,1)\n",
    "na_counts = top_dog.isna().sum()\n",
    "base_color = sn.color_palette()[9]\n",
    "sn.barplot(na_counts.index.values, na_counts, color = base_color)\n",
    "plt.xticks(rotation = 90, fontsize = 15)\n",
    "plt.ylabel('frequency', fontsize = 15);\n",
    "\n",
    "plt.subplot(1,2,2)\n",
    "na_counts = top_dog.isna().sum()\n",
    "base_color = sn.color_palette()[9]\n",
    "sn.barplot(na_counts.index.values, na_counts, color = base_color)\n",
    "plt.xticks(rotation = 90, fontsize = 15)\n",
    "plt.ylabel('frequency', fontsize = 15)\n",
    "plt.ylim(0, 20);"
   ]
  },
  {
   "cell_type": "markdown",
   "metadata": {},
   "source": [
    "The greatest number of null values occurred in the dog_stages column, whereas the image predictions data that was merged into this 'top_dog' dataframe result in some of the tweet_ids having null values in these columns. The image on the right which limits the y-values to 20 shows there are a small number of tweet_ids with null values for the favorites_count and retweets_count columns. Aside from the dog_stages column, tweet_ids that have null values in the other mentioned columns will be deleted. The null values in the expanded_urls column may also be further investigated.\n",
    "\n",
    "### Quality issues\n",
    "1. Null values in the jpg_url column\n",
    "2. Null values in the favorites_count and retweets_count columns\n",
    "3. Drop the p2 and p3 related columns to shrink down the dataframe for easier cleaning and analysis."
   ]
  },
  {
   "cell_type": "markdown",
   "metadata": {},
   "source": [
    "## Quality issue 7\n",
    "### Define\n",
    "One major quality issue that probably should have been addressed earlier and that could have saved some time and repetitions is dropping all rows where the tweet_id does not have a jpg_url. The other thing to consider is dropping the 2nd and 3rd prediction related columns. There is no intent to do any analysis relating to those columns. Applying these steps will further reduce the dataframe making it easier to further clean and perform chosen analysis. \n",
    "1. Drop all tweet_ids with that do not have a jpg_url\n",
    "2. Drop all tweet_ids that do not have a favorites_count and or retweets_count value\n",
    "3. Drop the p2 and p3 related columns."
   ]
  },
  {
   "cell_type": "markdown",
   "metadata": {},
   "source": [
    "### Code - Task 1"
   ]
  },
  {
   "cell_type": "code",
   "execution_count": 94,
   "metadata": {},
   "outputs": [],
   "source": [
    "top_dog = top_dog.dropna(axis=0, subset=['jpg_url'])"
   ]
  },
  {
   "cell_type": "markdown",
   "metadata": {},
   "source": [
    "### Test - Task 1"
   ]
  },
  {
   "cell_type": "code",
   "execution_count": 95,
   "metadata": {},
   "outputs": [
    {
     "name": "stdout",
     "output_type": "stream",
     "text": [
      "<class 'pandas.core.frame.DataFrame'>\n",
      "Int64Index: 1993 entries, 0 to 2355\n",
      "Data columns (total 22 columns):\n",
      " #   Column              Non-Null Count  Dtype              \n",
      "---  ------              --------------  -----              \n",
      " 0   tweet_id            1993 non-null   object             \n",
      " 1   timestamp           1993 non-null   datetime64[ns, UTC]\n",
      " 2   source              1993 non-null   object             \n",
      " 3   text                1993 non-null   object             \n",
      " 4   expanded_urls       1993 non-null   object             \n",
      " 5   rating_numerator    1993 non-null   int64              \n",
      " 6   rating_denominator  1993 non-null   int64              \n",
      " 7   name                1993 non-null   object             \n",
      " 8   jpg_url             1993 non-null   object             \n",
      " 9   img_num             1993 non-null   float64            \n",
      " 10  p1                  1993 non-null   object             \n",
      " 11  p1_conf             1993 non-null   float64            \n",
      " 12  p1_dog              1993 non-null   object             \n",
      " 13  p2                  1993 non-null   object             \n",
      " 14  p2_conf             1993 non-null   float64            \n",
      " 15  p2_dog              1993 non-null   object             \n",
      " 16  p3                  1993 non-null   object             \n",
      " 17  p3_conf             1993 non-null   float64            \n",
      " 18  p3_dog              1993 non-null   object             \n",
      " 19  favorites_count     1985 non-null   float64            \n",
      " 20  retweets_count      1985 non-null   float64            \n",
      " 21  dog_stages          326 non-null    object             \n",
      "dtypes: datetime64[ns, UTC](1), float64(6), int64(2), object(13)\n",
      "memory usage: 358.1+ KB\n"
     ]
    }
   ],
   "source": [
    "top_dog.info()"
   ]
  },
  {
   "cell_type": "markdown",
   "metadata": {},
   "source": [
    "### Code - Task 2"
   ]
  },
  {
   "cell_type": "code",
   "execution_count": 96,
   "metadata": {},
   "outputs": [],
   "source": [
    "top_dog = top_dog.dropna(axis=0, subset=['favorites_count', 'retweets_count'])"
   ]
  },
  {
   "cell_type": "markdown",
   "metadata": {},
   "source": [
    "### Test - Task 2"
   ]
  },
  {
   "cell_type": "code",
   "execution_count": 97,
   "metadata": {},
   "outputs": [
    {
     "name": "stdout",
     "output_type": "stream",
     "text": [
      "<class 'pandas.core.frame.DataFrame'>\n",
      "Int64Index: 1985 entries, 0 to 2355\n",
      "Data columns (total 22 columns):\n",
      " #   Column              Non-Null Count  Dtype              \n",
      "---  ------              --------------  -----              \n",
      " 0   tweet_id            1985 non-null   object             \n",
      " 1   timestamp           1985 non-null   datetime64[ns, UTC]\n",
      " 2   source              1985 non-null   object             \n",
      " 3   text                1985 non-null   object             \n",
      " 4   expanded_urls       1985 non-null   object             \n",
      " 5   rating_numerator    1985 non-null   int64              \n",
      " 6   rating_denominator  1985 non-null   int64              \n",
      " 7   name                1985 non-null   object             \n",
      " 8   jpg_url             1985 non-null   object             \n",
      " 9   img_num             1985 non-null   float64            \n",
      " 10  p1                  1985 non-null   object             \n",
      " 11  p1_conf             1985 non-null   float64            \n",
      " 12  p1_dog              1985 non-null   object             \n",
      " 13  p2                  1985 non-null   object             \n",
      " 14  p2_conf             1985 non-null   float64            \n",
      " 15  p2_dog              1985 non-null   object             \n",
      " 16  p3                  1985 non-null   object             \n",
      " 17  p3_conf             1985 non-null   float64            \n",
      " 18  p3_dog              1985 non-null   object             \n",
      " 19  favorites_count     1985 non-null   float64            \n",
      " 20  retweets_count      1985 non-null   float64            \n",
      " 21  dog_stages          324 non-null    object             \n",
      "dtypes: datetime64[ns, UTC](1), float64(6), int64(2), object(13)\n",
      "memory usage: 356.7+ KB\n"
     ]
    }
   ],
   "source": [
    "top_dog.info()"
   ]
  },
  {
   "cell_type": "markdown",
   "metadata": {},
   "source": [
    "### Code - Task 3"
   ]
  },
  {
   "cell_type": "code",
   "execution_count": 98,
   "metadata": {},
   "outputs": [],
   "source": [
    "top_dog = top_dog.drop(['p2', 'p2_conf', 'p2_dog', 'p3', 'p3_conf', 'p3_dog'], axis = 1)"
   ]
  },
  {
   "cell_type": "markdown",
   "metadata": {},
   "source": [
    "### Test - Task 3"
   ]
  },
  {
   "cell_type": "code",
   "execution_count": 99,
   "metadata": {},
   "outputs": [
    {
     "name": "stdout",
     "output_type": "stream",
     "text": [
      "<class 'pandas.core.frame.DataFrame'>\n",
      "Int64Index: 1985 entries, 0 to 2355\n",
      "Data columns (total 16 columns):\n",
      " #   Column              Non-Null Count  Dtype              \n",
      "---  ------              --------------  -----              \n",
      " 0   tweet_id            1985 non-null   object             \n",
      " 1   timestamp           1985 non-null   datetime64[ns, UTC]\n",
      " 2   source              1985 non-null   object             \n",
      " 3   text                1985 non-null   object             \n",
      " 4   expanded_urls       1985 non-null   object             \n",
      " 5   rating_numerator    1985 non-null   int64              \n",
      " 6   rating_denominator  1985 non-null   int64              \n",
      " 7   name                1985 non-null   object             \n",
      " 8   jpg_url             1985 non-null   object             \n",
      " 9   img_num             1985 non-null   float64            \n",
      " 10  p1                  1985 non-null   object             \n",
      " 11  p1_conf             1985 non-null   float64            \n",
      " 12  p1_dog              1985 non-null   object             \n",
      " 13  favorites_count     1985 non-null   float64            \n",
      " 14  retweets_count      1985 non-null   float64            \n",
      " 15  dog_stages          324 non-null    object             \n",
      "dtypes: datetime64[ns, UTC](1), float64(4), int64(2), object(9)\n",
      "memory usage: 263.6+ KB\n"
     ]
    }
   ],
   "source": [
    "top_dog.info()"
   ]
  },
  {
   "cell_type": "code",
   "execution_count": 100,
   "metadata": {},
   "outputs": [
    {
     "data": {
      "text/plain": [
       "1687    https://pbs.twimg.com/media/CXV1Ot_W8AEpkQO.jpg\n",
       "2353    https://pbs.twimg.com/media/CT4521TWwAEvMyu.jpg\n",
       "1425    https://pbs.twimg.com/media/Ca-XjfiUsAAUa8f.jpg\n",
       "Name: jpg_url, dtype: object"
      ]
     },
     "execution_count": 100,
     "metadata": {},
     "output_type": "execute_result"
    }
   ],
   "source": [
    "# I am curious to see what it takes to be top dog!\n",
    "top_dog.jpg_url.sample(3)"
   ]
  },
  {
   "cell_type": "code",
   "execution_count": 101,
   "metadata": {},
   "outputs": [
    {
     "data": {
      "text/html": [
       "<img src=\"https://pbs.twimg.com/media/CT4521TWwAEvMyu.jpg\"/>"
      ],
      "text/plain": [
       "<IPython.core.display.Image object>"
      ]
     },
     "execution_count": 101,
     "metadata": {},
     "output_type": "execute_result"
    }
   ],
   "source": [
    "Image(url = 'https://pbs.twimg.com/media/CT4521TWwAEvMyu.jpg' )"
   ]
  },
  {
   "cell_type": "markdown",
   "metadata": {},
   "source": [
    "## Quality issue 8\n",
    "### Define\n",
    "It is time to further investigate those super high numeric values. As depicted in the photo above, it can be understandable as to why an owner would give his/her best friend a super high rating. It is important to keep in mind if the super high numeric values are authentic and not dropped, this may result in the analysis being skewed. The goal will be to eliminate outliers that may skew the results. \n",
    "### Task\n",
    "Further investigate the super high ratings_numerator values and decide if such rows should be dropped. This process will be nearly identical to that applied when cleaning the ratings_denominator column earlier. Investigate any rating_numerator values less than 10 as well. "
   ]
  },
  {
   "cell_type": "markdown",
   "metadata": {},
   "source": [
    "### Code\n",
    "Note, there will include some assessing of the data as to determine if some of the high ratios are in fact due to multiple dogs."
   ]
  },
  {
   "cell_type": "code",
   "execution_count": 102,
   "metadata": {},
   "outputs": [],
   "source": [
    "# Creating a subset of the dataframe for easier investigation\n",
    "sub_selection2 = top_dog[['tweet_id', 'text', 'rating_numerator', 'rating_denominator']]"
   ]
  },
  {
   "cell_type": "code",
   "execution_count": 103,
   "metadata": {},
   "outputs": [],
   "source": [
    "high_num = sub_selection2[sub_selection2.rating_numerator >= 15]"
   ]
  },
  {
   "cell_type": "code",
   "execution_count": 104,
   "metadata": {},
   "outputs": [
    {
     "data": {
      "text/html": [
       "<div>\n",
       "<style scoped>\n",
       "    .dataframe tbody tr th:only-of-type {\n",
       "        vertical-align: middle;\n",
       "    }\n",
       "\n",
       "    .dataframe tbody tr th {\n",
       "        vertical-align: top;\n",
       "    }\n",
       "\n",
       "    .dataframe thead th {\n",
       "        text-align: right;\n",
       "    }\n",
       "</style>\n",
       "<table border=\"1\" class=\"dataframe\">\n",
       "  <thead>\n",
       "    <tr style=\"text-align: right;\">\n",
       "      <th></th>\n",
       "      <th>tweet_id</th>\n",
       "      <th>text</th>\n",
       "      <th>rating_numerator</th>\n",
       "      <th>rating_denominator</th>\n",
       "    </tr>\n",
       "  </thead>\n",
       "  <tbody>\n",
       "    <tr>\n",
       "      <th>433</th>\n",
       "      <td>820690176645140481</td>\n",
       "      <td>The floofs have been released I repeat the floofs have been released. 84/70 https://t.co/NIYC820tmd</td>\n",
       "      <td>84</td>\n",
       "      <td>70</td>\n",
       "    </tr>\n",
       "    <tr>\n",
       "      <th>695</th>\n",
       "      <td>786709082849828864</td>\n",
       "      <td>This is Logan, the Chow who lived. He solemnly swears he's up to lots of good. H*ckin magical af 9.75/10 https://t.co/yBO5wuqaPS</td>\n",
       "      <td>75</td>\n",
       "      <td>10</td>\n",
       "    </tr>\n",
       "    <tr>\n",
       "      <th>763</th>\n",
       "      <td>778027034220126208</td>\n",
       "      <td>This is Sophie. She's a Jubilant Bush Pupper. Super h*ckin rare. Appears at random just to smile at the locals. 11.27/10 would smile back https://t.co/QFaUiIHxHq</td>\n",
       "      <td>27</td>\n",
       "      <td>10</td>\n",
       "    </tr>\n",
       "    <tr>\n",
       "      <th>902</th>\n",
       "      <td>758467244762497024</td>\n",
       "      <td>Why does this never happen at my front door... 165/150 https://t.co/HmwrdfEfUE</td>\n",
       "      <td>165</td>\n",
       "      <td>150</td>\n",
       "    </tr>\n",
       "    <tr>\n",
       "      <th>979</th>\n",
       "      <td>749981277374128128</td>\n",
       "      <td>This is Atticus. He's quite simply America af. 1776/10 https://t.co/GRXwMxLBkh</td>\n",
       "      <td>1776</td>\n",
       "      <td>10</td>\n",
       "    </tr>\n",
       "    <tr>\n",
       "      <th>1120</th>\n",
       "      <td>731156023742988288</td>\n",
       "      <td>Say hello to this unbelievably well behaved squad of doggos. 204/170 would try to pet all at once https://t.co/yGQI3He3xv</td>\n",
       "      <td>204</td>\n",
       "      <td>170</td>\n",
       "    </tr>\n",
       "    <tr>\n",
       "      <th>1228</th>\n",
       "      <td>713900603437621249</td>\n",
       "      <td>Happy Saturday here's 9 puppers on a bench. 99/90 good work everybody https://t.co/mpvaVxKmc1</td>\n",
       "      <td>99</td>\n",
       "      <td>90</td>\n",
       "    </tr>\n",
       "    <tr>\n",
       "      <th>1254</th>\n",
       "      <td>710658690886586372</td>\n",
       "      <td>Here's a brigade of puppers. All look very prepared for whatever happens next. 80/80 https://t.co/0eb7R1Om12</td>\n",
       "      <td>80</td>\n",
       "      <td>80</td>\n",
       "    </tr>\n",
       "    <tr>\n",
       "      <th>1274</th>\n",
       "      <td>709198395643068416</td>\n",
       "      <td>From left to right:\\nCletus, Jerome, Alejandro, Burp, &amp;amp; Titson\\nNone know where camera is. 45/50 would hug all at once https://t.co/sedre1ivTK</td>\n",
       "      <td>45</td>\n",
       "      <td>50</td>\n",
       "    </tr>\n",
       "    <tr>\n",
       "      <th>1351</th>\n",
       "      <td>704054845121142784</td>\n",
       "      <td>Here is a whole flock of puppers.  60/50 I'll take the lot https://t.co/9dpcw6MdWa</td>\n",
       "      <td>60</td>\n",
       "      <td>50</td>\n",
       "    </tr>\n",
       "    <tr>\n",
       "      <th>1433</th>\n",
       "      <td>697463031882764288</td>\n",
       "      <td>Happy Wednesday here's a bucket of pups. 44/40 would pet all at once https://t.co/HppvrYuamZ</td>\n",
       "      <td>44</td>\n",
       "      <td>40</td>\n",
       "    </tr>\n",
       "    <tr>\n",
       "      <th>1634</th>\n",
       "      <td>684225744407494656</td>\n",
       "      <td>Two sneaky puppers were not initially seen, moving the rating to 143/130. Please forgive us. Thank you https://t.co/kRK51Y5ac3</td>\n",
       "      <td>143</td>\n",
       "      <td>130</td>\n",
       "    </tr>\n",
       "    <tr>\n",
       "      <th>1635</th>\n",
       "      <td>684222868335505415</td>\n",
       "      <td>Someone help the girl is being mugged. Several are distracting her while two steal her shoes. Clever puppers 121/110 https://t.co/1zfnTJLt55</td>\n",
       "      <td>121</td>\n",
       "      <td>110</td>\n",
       "    </tr>\n",
       "    <tr>\n",
       "      <th>1712</th>\n",
       "      <td>680494726643068929</td>\n",
       "      <td>Here we have uncovered an entire battalion of holiday puppers. Average of 11.26/10 https://t.co/eNm2S6p9BD</td>\n",
       "      <td>26</td>\n",
       "      <td>10</td>\n",
       "    </tr>\n",
       "    <tr>\n",
       "      <th>1779</th>\n",
       "      <td>677716515794329600</td>\n",
       "      <td>IT'S PUPPERGEDDON. Total of 144/120 ...I think https://t.co/ZanVtAtvIq</td>\n",
       "      <td>144</td>\n",
       "      <td>120</td>\n",
       "    </tr>\n",
       "    <tr>\n",
       "      <th>1843</th>\n",
       "      <td>675853064436391936</td>\n",
       "      <td>Here we have an entire platoon of puppers. Total score: 88/80 would pet all at once https://t.co/y93p6FLvVw</td>\n",
       "      <td>88</td>\n",
       "      <td>80</td>\n",
       "    </tr>\n",
       "    <tr>\n",
       "      <th>2074</th>\n",
       "      <td>670842764863651840</td>\n",
       "      <td>After so many requests... here you go.\\n\\nGood dogg. 420/10 https://t.co/yfAAo1gdeY</td>\n",
       "      <td>420</td>\n",
       "      <td>10</td>\n",
       "    </tr>\n",
       "  </tbody>\n",
       "</table>\n",
       "</div>"
      ],
      "text/plain": [
       "                tweet_id  \\\n",
       "433   820690176645140481   \n",
       "695   786709082849828864   \n",
       "763   778027034220126208   \n",
       "902   758467244762497024   \n",
       "979   749981277374128128   \n",
       "1120  731156023742988288   \n",
       "1228  713900603437621249   \n",
       "1254  710658690886586372   \n",
       "1274  709198395643068416   \n",
       "1351  704054845121142784   \n",
       "1433  697463031882764288   \n",
       "1634  684225744407494656   \n",
       "1635  684222868335505415   \n",
       "1712  680494726643068929   \n",
       "1779  677716515794329600   \n",
       "1843  675853064436391936   \n",
       "2074  670842764863651840   \n",
       "\n",
       "                                                                                                                                                                   text  \\\n",
       "433                                                                 The floofs have been released I repeat the floofs have been released. 84/70 https://t.co/NIYC820tmd   \n",
       "695                                    This is Logan, the Chow who lived. He solemnly swears he's up to lots of good. H*ckin magical af 9.75/10 https://t.co/yBO5wuqaPS   \n",
       "763   This is Sophie. She's a Jubilant Bush Pupper. Super h*ckin rare. Appears at random just to smile at the locals. 11.27/10 would smile back https://t.co/QFaUiIHxHq   \n",
       "902                                                                                      Why does this never happen at my front door... 165/150 https://t.co/HmwrdfEfUE   \n",
       "979                                                                                      This is Atticus. He's quite simply America af. 1776/10 https://t.co/GRXwMxLBkh   \n",
       "1120                                          Say hello to this unbelievably well behaved squad of doggos. 204/170 would try to pet all at once https://t.co/yGQI3He3xv   \n",
       "1228                                                                      Happy Saturday here's 9 puppers on a bench. 99/90 good work everybody https://t.co/mpvaVxKmc1   \n",
       "1254                                                       Here's a brigade of puppers. All look very prepared for whatever happens next. 80/80 https://t.co/0eb7R1Om12   \n",
       "1274                 From left to right:\\nCletus, Jerome, Alejandro, Burp, &amp; Titson\\nNone know where camera is. 45/50 would hug all at once https://t.co/sedre1ivTK   \n",
       "1351                                                                                 Here is a whole flock of puppers.  60/50 I'll take the lot https://t.co/9dpcw6MdWa   \n",
       "1433                                                                       Happy Wednesday here's a bucket of pups. 44/40 would pet all at once https://t.co/HppvrYuamZ   \n",
       "1634                                     Two sneaky puppers were not initially seen, moving the rating to 143/130. Please forgive us. Thank you https://t.co/kRK51Y5ac3   \n",
       "1635                       Someone help the girl is being mugged. Several are distracting her while two steal her shoes. Clever puppers 121/110 https://t.co/1zfnTJLt55   \n",
       "1712                                                         Here we have uncovered an entire battalion of holiday puppers. Average of 11.26/10 https://t.co/eNm2S6p9BD   \n",
       "1779                                                                                             IT'S PUPPERGEDDON. Total of 144/120 ...I think https://t.co/ZanVtAtvIq   \n",
       "1843                                                        Here we have an entire platoon of puppers. Total score: 88/80 would pet all at once https://t.co/y93p6FLvVw   \n",
       "2074                                                                                After so many requests... here you go.\\n\\nGood dogg. 420/10 https://t.co/yfAAo1gdeY   \n",
       "\n",
       "      rating_numerator  rating_denominator  \n",
       "433                 84                  70  \n",
       "695                 75                  10  \n",
       "763                 27                  10  \n",
       "902                165                 150  \n",
       "979               1776                  10  \n",
       "1120               204                 170  \n",
       "1228                99                  90  \n",
       "1254                80                  80  \n",
       "1274                45                  50  \n",
       "1351                60                  50  \n",
       "1433                44                  40  \n",
       "1634               143                 130  \n",
       "1635               121                 110  \n",
       "1712                26                  10  \n",
       "1779               144                 120  \n",
       "1843                88                  80  \n",
       "2074               420                  10  "
      ]
     },
     "execution_count": 104,
     "metadata": {},
     "output_type": "execute_result"
    }
   ],
   "source": [
    "high_num"
   ]
  },
  {
   "cell_type": "code",
   "execution_count": 105,
   "metadata": {},
   "outputs": [
    {
     "data": {
      "text/plain": [
       "902    https://pbs.twimg.com/ext_tw_video_thumb/758467147756691456/pu/img/YTNzjRFDSPNXukmM.jpg\n",
       "Name: jpg_url, dtype: object"
      ]
     },
     "execution_count": 105,
     "metadata": {},
     "output_type": "execute_result"
    }
   ],
   "source": [
    "# Will query most rows suspected of being for multiple dogs but will only display one to save space\n",
    "# Querying the row that has the index of 902 using the tweet_id column\n",
    "top_dog.query('tweet_id == \"758467244762497024\"')['jpg_url']"
   ]
  },
  {
   "cell_type": "code",
   "execution_count": 106,
   "metadata": {},
   "outputs": [
    {
     "data": {
      "text/html": [
       "<img src=\"https://pbs.twimg.com/ext_tw_video_thumb/758467147756691456/pu/img/YTNzjRFDSPNXukmM.jpg\"/>"
      ],
      "text/plain": [
       "<IPython.core.display.Image object>"
      ]
     },
     "execution_count": 106,
     "metadata": {},
     "output_type": "execute_result"
    }
   ],
   "source": [
    "Image(url = 'https://pbs.twimg.com/ext_tw_video_thumb/758467147756691456/pu/img/YTNzjRFDSPNXukmM.jpg')"
   ]
  },
  {
   "cell_type": "code",
   "execution_count": 107,
   "metadata": {},
   "outputs": [
    {
     "data": {
      "text/plain": [
       "979    https://pbs.twimg.com/media/CmgBZ7kWcAAlzFD.jpg\n",
       "Name: jpg_url, dtype: object"
      ]
     },
     "execution_count": 107,
     "metadata": {},
     "output_type": "execute_result"
    }
   ],
   "source": [
    "# The dog with the 1971/10 rating! \n",
    "top_dog.query('tweet_id == \"749981277374128128\"')['jpg_url']"
   ]
  },
  {
   "cell_type": "code",
   "execution_count": 108,
   "metadata": {},
   "outputs": [
    {
     "data": {
      "text/html": [
       "<img src=\" https://pbs.twimg.com/media/CmgBZ7kWcAAlzFD.jpg\"/>"
      ],
      "text/plain": [
       "<IPython.core.display.Image object>"
      ]
     },
     "execution_count": 108,
     "metadata": {},
     "output_type": "execute_result"
    }
   ],
   "source": [
    "Image(url = ' https://pbs.twimg.com/media/CmgBZ7kWcAAlzFD.jpg')"
   ]
  },
  {
   "cell_type": "code",
   "execution_count": 109,
   "metadata": {},
   "outputs": [],
   "source": [
    "# Rows with rating_numerators as decimal as described in the text will be rounded to the nearest whole integer.\n",
    "# Tweet_id - 786709082849828864: A rating of 9.75/10 is given. Rating will be rounded to 10/10.\n",
    "top_dog.loc[top_dog.tweet_id == '786709082849828864', 'rating_numerator'] = 10\n",
    "top_dog.loc[top_dog.tweet_id == '786709082849828864', 'rating_denominator'] = 10\n",
    "\n",
    "# tweet_id - 778027034220126208: A rating of 11.27/10 was given. Rating will be rounded to 11/10.\n",
    "top_dog.loc[top_dog.tweet_id == '778027034220126208', 'rating_numerator'] = 11\n",
    "top_dog.loc[top_dog.tweet_id == '778027034220126208', 'rating_denominator'] = 10\n",
    "\n",
    "# tweet_id - 680494726643068929: A rating of 11.26/10 was given. Rating will be rounded to 11/10.\n",
    "top_dog.loc[top_dog.tweet_id == '680494726643068929', 'rating_numerator'] = 11\n",
    "top_dog.loc[top_dog.tweet_id == '680494726643068929', 'rating_denominator'] = 10"
   ]
  },
  {
   "cell_type": "code",
   "execution_count": 110,
   "metadata": {},
   "outputs": [],
   "source": [
    "# Creating a list of the tweet_ids to be dropped due to the excessively high numeric value.\n",
    "# Numeric values suggested to be for multiple dogs will not be dropped\n",
    "# The first rating of 1776/10 is clearly an outlier.\n",
    "# The second rating when checking the jpg_url was not of a dog.\n",
    "bad_numerators = ['749981277374128128', '670842764863651840']\n",
    "# Dropping rows if the tweet_id is in the bad_numerators\n",
    "top_dog = top_dog[~top_dog.tweet_id.isin(bad_numerators)]\n"
   ]
  },
  {
   "cell_type": "markdown",
   "metadata": {},
   "source": [
    "### Test"
   ]
  },
  {
   "cell_type": "code",
   "execution_count": 111,
   "metadata": {},
   "outputs": [
    {
     "data": {
      "text/plain": [
       "(1983, 16)"
      ]
     },
     "execution_count": 111,
     "metadata": {},
     "output_type": "execute_result"
    }
   ],
   "source": [
    "# Should be down to 1,983 rows\n",
    "top_dog.shape"
   ]
  },
  {
   "cell_type": "code",
   "execution_count": 112,
   "metadata": {},
   "outputs": [
    {
     "data": {
      "text/plain": [
       "12     448\n",
       "10     420\n",
       "11     399\n",
       "13     258\n",
       "9      150\n",
       "8       95\n",
       "7       51\n",
       "14      36\n",
       "5       33\n",
       "6       32\n",
       "3       19\n",
       "4       15\n",
       "2        9\n",
       "1        4\n",
       "0        2\n",
       "165      1\n",
       "44       1\n",
       "45       1\n",
       "60       1\n",
       "80       1\n",
       "84       1\n",
       "88       1\n",
       "99       1\n",
       "121      1\n",
       "143      1\n",
       "144      1\n",
       "204      1\n",
       "Name: rating_numerator, dtype: int64"
      ]
     },
     "execution_count": 112,
     "metadata": {},
     "output_type": "execute_result"
    }
   ],
   "source": [
    "# Testing to see if the 'selected' high numeric values were successfully removed\n",
    "top_dog.rating_numerator.value_counts()"
   ]
  },
  {
   "cell_type": "markdown",
   "metadata": {},
   "source": [
    "## Quality issue 9\n",
    "### Define\n",
    "Each column of this entire dataset can involve extensive cleaning depending on the objective when doing analysis. Given that the rating_numerator along with the rating_denominator columns are more cleaned. A new column called dog_ratings will take the ratio of numerator and denominator values. This will enable for only having to work with a single integer value instead of two. The rating_numerator and rating_denominator columns will then be dropped.\n",
    "* Task 1: Create a new dog_ratings column that divides the rating_numerator by the rating_denominator. Then take a sample of the dataframe to inspect if the values in the dog_ratings column are the same when dividing the original numerator and denominator values.\n",
    "* Task 2: Drop the rating_numerator and rating_denominator columns"
   ]
  },
  {
   "cell_type": "markdown",
   "metadata": {},
   "source": [
    "### Code - Task 1"
   ]
  },
  {
   "cell_type": "code",
   "execution_count": 113,
   "metadata": {},
   "outputs": [],
   "source": [
    "top_dog['dog_ratings'] = top_dog['rating_numerator'] / top_dog['rating_denominator']"
   ]
  },
  {
   "cell_type": "markdown",
   "metadata": {},
   "source": [
    "### Test -  Task 1"
   ]
  },
  {
   "cell_type": "code",
   "execution_count": 114,
   "metadata": {},
   "outputs": [
    {
     "data": {
      "text/html": [
       "<div>\n",
       "<style scoped>\n",
       "    .dataframe tbody tr th:only-of-type {\n",
       "        vertical-align: middle;\n",
       "    }\n",
       "\n",
       "    .dataframe tbody tr th {\n",
       "        vertical-align: top;\n",
       "    }\n",
       "\n",
       "    .dataframe thead th {\n",
       "        text-align: right;\n",
       "    }\n",
       "</style>\n",
       "<table border=\"1\" class=\"dataframe\">\n",
       "  <thead>\n",
       "    <tr style=\"text-align: right;\">\n",
       "      <th></th>\n",
       "      <th>rating_numerator</th>\n",
       "      <th>rating_denominator</th>\n",
       "      <th>dog_ratings</th>\n",
       "    </tr>\n",
       "  </thead>\n",
       "  <tbody>\n",
       "    <tr>\n",
       "      <th>79</th>\n",
       "      <td>12</td>\n",
       "      <td>10</td>\n",
       "      <td>1.2</td>\n",
       "    </tr>\n",
       "    <tr>\n",
       "      <th>725</th>\n",
       "      <td>10</td>\n",
       "      <td>10</td>\n",
       "      <td>1.0</td>\n",
       "    </tr>\n",
       "    <tr>\n",
       "      <th>1653</th>\n",
       "      <td>8</td>\n",
       "      <td>10</td>\n",
       "      <td>0.8</td>\n",
       "    </tr>\n",
       "    <tr>\n",
       "      <th>26</th>\n",
       "      <td>13</td>\n",
       "      <td>10</td>\n",
       "      <td>1.3</td>\n",
       "    </tr>\n",
       "    <tr>\n",
       "      <th>2175</th>\n",
       "      <td>10</td>\n",
       "      <td>10</td>\n",
       "      <td>1.0</td>\n",
       "    </tr>\n",
       "    <tr>\n",
       "      <th>2048</th>\n",
       "      <td>8</td>\n",
       "      <td>10</td>\n",
       "      <td>0.8</td>\n",
       "    </tr>\n",
       "    <tr>\n",
       "      <th>747</th>\n",
       "      <td>11</td>\n",
       "      <td>10</td>\n",
       "      <td>1.1</td>\n",
       "    </tr>\n",
       "    <tr>\n",
       "      <th>1921</th>\n",
       "      <td>9</td>\n",
       "      <td>10</td>\n",
       "      <td>0.9</td>\n",
       "    </tr>\n",
       "    <tr>\n",
       "      <th>1406</th>\n",
       "      <td>3</td>\n",
       "      <td>10</td>\n",
       "      <td>0.3</td>\n",
       "    </tr>\n",
       "    <tr>\n",
       "      <th>1309</th>\n",
       "      <td>11</td>\n",
       "      <td>10</td>\n",
       "      <td>1.1</td>\n",
       "    </tr>\n",
       "    <tr>\n",
       "      <th>1494</th>\n",
       "      <td>12</td>\n",
       "      <td>10</td>\n",
       "      <td>1.2</td>\n",
       "    </tr>\n",
       "    <tr>\n",
       "      <th>1660</th>\n",
       "      <td>9</td>\n",
       "      <td>10</td>\n",
       "      <td>0.9</td>\n",
       "    </tr>\n",
       "    <tr>\n",
       "      <th>1642</th>\n",
       "      <td>10</td>\n",
       "      <td>10</td>\n",
       "      <td>1.0</td>\n",
       "    </tr>\n",
       "    <tr>\n",
       "      <th>344</th>\n",
       "      <td>12</td>\n",
       "      <td>10</td>\n",
       "      <td>1.2</td>\n",
       "    </tr>\n",
       "    <tr>\n",
       "      <th>1922</th>\n",
       "      <td>10</td>\n",
       "      <td>10</td>\n",
       "      <td>1.0</td>\n",
       "    </tr>\n",
       "  </tbody>\n",
       "</table>\n",
       "</div>"
      ],
      "text/plain": [
       "      rating_numerator  rating_denominator  dog_ratings\n",
       "79                  12                  10          1.2\n",
       "725                 10                  10          1.0\n",
       "1653                 8                  10          0.8\n",
       "26                  13                  10          1.3\n",
       "2175                10                  10          1.0\n",
       "2048                 8                  10          0.8\n",
       "747                 11                  10          1.1\n",
       "1921                 9                  10          0.9\n",
       "1406                 3                  10          0.3\n",
       "1309                11                  10          1.1\n",
       "1494                12                  10          1.2\n",
       "1660                 9                  10          0.9\n",
       "1642                10                  10          1.0\n",
       "344                 12                  10          1.2\n",
       "1922                10                  10          1.0"
      ]
     },
     "execution_count": 114,
     "metadata": {},
     "output_type": "execute_result"
    }
   ],
   "source": [
    "top_dog[['rating_numerator', 'rating_denominator', 'dog_ratings']].sample(15)"
   ]
  },
  {
   "cell_type": "code",
   "execution_count": 115,
   "metadata": {},
   "outputs": [
    {
     "data": {
      "text/plain": [
       "1.2    452\n",
       "1.0    421\n",
       "1.1    405\n",
       "1.3    258\n",
       "0.9    151\n",
       "0.8     95\n",
       "0.7     51\n",
       "1.4     36\n",
       "0.5     33\n",
       "0.6     32\n",
       "0.3     19\n",
       "0.4     15\n",
       "0.2      9\n",
       "0.1      4\n",
       "0.0      2\n",
       "Name: dog_ratings, dtype: int64"
      ]
     },
     "execution_count": 115,
     "metadata": {},
     "output_type": "execute_result"
    }
   ],
   "source": [
    "top_dog.dog_ratings.value_counts()"
   ]
  },
  {
   "cell_type": "code",
   "execution_count": 116,
   "metadata": {},
   "outputs": [
    {
     "name": "stdout",
     "output_type": "stream",
     "text": [
      "<class 'pandas.core.frame.DataFrame'>\n",
      "Int64Index: 1983 entries, 0 to 2355\n",
      "Data columns (total 17 columns):\n",
      " #   Column              Non-Null Count  Dtype              \n",
      "---  ------              --------------  -----              \n",
      " 0   tweet_id            1983 non-null   object             \n",
      " 1   timestamp           1983 non-null   datetime64[ns, UTC]\n",
      " 2   source              1983 non-null   object             \n",
      " 3   text                1983 non-null   object             \n",
      " 4   expanded_urls       1983 non-null   object             \n",
      " 5   rating_numerator    1983 non-null   int64              \n",
      " 6   rating_denominator  1983 non-null   int64              \n",
      " 7   name                1983 non-null   object             \n",
      " 8   jpg_url             1983 non-null   object             \n",
      " 9   img_num             1983 non-null   float64            \n",
      " 10  p1                  1983 non-null   object             \n",
      " 11  p1_conf             1983 non-null   float64            \n",
      " 12  p1_dog              1983 non-null   object             \n",
      " 13  favorites_count     1983 non-null   float64            \n",
      " 14  retweets_count      1983 non-null   float64            \n",
      " 15  dog_stages          324 non-null    object             \n",
      " 16  dog_ratings         1983 non-null   float64            \n",
      "dtypes: datetime64[ns, UTC](1), float64(5), int64(2), object(9)\n",
      "memory usage: 278.9+ KB\n"
     ]
    }
   ],
   "source": [
    "top_dog.info()"
   ]
  },
  {
   "cell_type": "markdown",
   "metadata": {},
   "source": [
    "### Code - Task 2"
   ]
  },
  {
   "cell_type": "code",
   "execution_count": 117,
   "metadata": {},
   "outputs": [],
   "source": [
    "top_dog = top_dog.drop(['rating_numerator', 'rating_denominator'], axis = 1)"
   ]
  },
  {
   "cell_type": "markdown",
   "metadata": {},
   "source": [
    "### Test - Task 2"
   ]
  },
  {
   "cell_type": "code",
   "execution_count": 118,
   "metadata": {},
   "outputs": [
    {
     "name": "stdout",
     "output_type": "stream",
     "text": [
      "<class 'pandas.core.frame.DataFrame'>\n",
      "Int64Index: 1983 entries, 0 to 2355\n",
      "Data columns (total 15 columns):\n",
      " #   Column           Non-Null Count  Dtype              \n",
      "---  ------           --------------  -----              \n",
      " 0   tweet_id         1983 non-null   object             \n",
      " 1   timestamp        1983 non-null   datetime64[ns, UTC]\n",
      " 2   source           1983 non-null   object             \n",
      " 3   text             1983 non-null   object             \n",
      " 4   expanded_urls    1983 non-null   object             \n",
      " 5   name             1983 non-null   object             \n",
      " 6   jpg_url          1983 non-null   object             \n",
      " 7   img_num          1983 non-null   float64            \n",
      " 8   p1               1983 non-null   object             \n",
      " 9   p1_conf          1983 non-null   float64            \n",
      " 10  p1_dog           1983 non-null   object             \n",
      " 11  favorites_count  1983 non-null   float64            \n",
      " 12  retweets_count   1983 non-null   float64            \n",
      " 13  dog_stages       324 non-null    object             \n",
      " 14  dog_ratings      1983 non-null   float64            \n",
      "dtypes: datetime64[ns, UTC](1), float64(5), object(9)\n",
      "memory usage: 247.9+ KB\n"
     ]
    }
   ],
   "source": [
    "top_dog.info()"
   ]
  },
  {
   "cell_type": "markdown",
   "metadata": {},
   "source": [
    "## Quality issue 10\n",
    "### Define\n",
    "Replace the p1 with prediction_1 for the p1, p1_conf, and p1_dog columns as a means for descriptive column names."
   ]
  },
  {
   "cell_type": "markdown",
   "metadata": {},
   "source": [
    "### Code"
   ]
  },
  {
   "cell_type": "code",
   "execution_count": 119,
   "metadata": {},
   "outputs": [],
   "source": [
    "top_dog.rename(columns={'p1': 'prediction_1', 'p1_conf': 'prediction_1_conf', 'p1_dog': 'prediction_1_dog'}, inplace=True)"
   ]
  },
  {
   "cell_type": "markdown",
   "metadata": {},
   "source": [
    "### Test"
   ]
  },
  {
   "cell_type": "code",
   "execution_count": 120,
   "metadata": {},
   "outputs": [
    {
     "name": "stdout",
     "output_type": "stream",
     "text": [
      "<class 'pandas.core.frame.DataFrame'>\n",
      "Int64Index: 1983 entries, 0 to 2355\n",
      "Data columns (total 15 columns):\n",
      " #   Column             Non-Null Count  Dtype              \n",
      "---  ------             --------------  -----              \n",
      " 0   tweet_id           1983 non-null   object             \n",
      " 1   timestamp          1983 non-null   datetime64[ns, UTC]\n",
      " 2   source             1983 non-null   object             \n",
      " 3   text               1983 non-null   object             \n",
      " 4   expanded_urls      1983 non-null   object             \n",
      " 5   name               1983 non-null   object             \n",
      " 6   jpg_url            1983 non-null   object             \n",
      " 7   img_num            1983 non-null   float64            \n",
      " 8   prediction_1       1983 non-null   object             \n",
      " 9   prediction_1_conf  1983 non-null   float64            \n",
      " 10  prediction_1_dog   1983 non-null   object             \n",
      " 11  favorites_count    1983 non-null   float64            \n",
      " 12  retweets_count     1983 non-null   float64            \n",
      " 13  dog_stages         324 non-null    object             \n",
      " 14  dog_ratings        1983 non-null   float64            \n",
      "dtypes: datetime64[ns, UTC](1), float64(5), object(9)\n",
      "memory usage: 247.9+ KB\n"
     ]
    }
   ],
   "source": [
    "top_dog.info()"
   ]
  },
  {
   "cell_type": "markdown",
   "metadata": {},
   "source": [
    "## Quality issue 11\n",
    "### Define\n",
    "Capitalize the first letter in all dog breed names for consistency in the prediction_1 column. This will involve using the .str.title() method. For hyphenated dog breed names, the name before and the name after the supposed hyphen will have the first letter capitalized.  "
   ]
  },
  {
   "cell_type": "markdown",
   "metadata": {},
   "source": [
    "### Code"
   ]
  },
  {
   "cell_type": "code",
   "execution_count": 121,
   "metadata": {},
   "outputs": [
    {
     "data": {
      "text/plain": [
       "False    1593\n",
       "True      390\n",
       "Name: prediction_1, dtype: int64"
      ]
     },
     "execution_count": 121,
     "metadata": {},
     "output_type": "execute_result"
    }
   ],
   "source": [
    "# Checking to see how many values in the prediction_1 column are in title format\n",
    "top_dog.prediction_1.str.istitle().value_counts()"
   ]
  },
  {
   "cell_type": "code",
   "execution_count": 122,
   "metadata": {},
   "outputs": [],
   "source": [
    "top_dog.prediction_1 = top_dog.prediction_1.str.title()"
   ]
  },
  {
   "cell_type": "markdown",
   "metadata": {},
   "source": [
    "### Test"
   ]
  },
  {
   "cell_type": "code",
   "execution_count": 123,
   "metadata": {},
   "outputs": [
    {
     "data": {
      "text/plain": [
       "True    1983\n",
       "Name: prediction_1, dtype: int64"
      ]
     },
     "execution_count": 123,
     "metadata": {},
     "output_type": "execute_result"
    }
   ],
   "source": [
    "# There should be no False values\n",
    "top_dog.prediction_1.str.istitle().value_counts()"
   ]
  },
  {
   "cell_type": "code",
   "execution_count": 124,
   "metadata": {},
   "outputs": [
    {
     "data": {
      "text/plain": [
       "554              Miniature_Pinscher\n",
       "466                Golden_Retriever\n",
       "249             Irish_Water_Spaniel\n",
       "2284                     Rottweiler\n",
       "1094                     Schipperke\n",
       "960              Labrador_Retriever\n",
       "732                     Tennis_Ball\n",
       "1712                         Kuvasz\n",
       "919                          Geyser\n",
       "700              Labrador_Retriever\n",
       "1990       Chesapeake_Bay_Retriever\n",
       "284                  Border_Terrier\n",
       "1885                Giant_Schnauzer\n",
       "1758                       Malamute\n",
       "1770               Golden_Retriever\n",
       "1254    Soft-Coated_Wheaten_Terrier\n",
       "593     West_Highland_White_Terrier\n",
       "2019                    Tennis_Ball\n",
       "1322                 Border_Terrier\n",
       "1614                     Pomeranian\n",
       "Name: prediction_1, dtype: object"
      ]
     },
     "execution_count": 124,
     "metadata": {},
     "output_type": "execute_result"
    }
   ],
   "source": [
    "top_dog.prediction_1.sample(20)"
   ]
  },
  {
   "cell_type": "markdown",
   "metadata": {},
   "source": [
    "## Quality issue 11 continued\n",
    "### Define\n",
    "The underscores in the dog breed names in the prediction_1 column should be replaced with a hyphen. This will involve using the .str.replace() method."
   ]
  },
  {
   "cell_type": "markdown",
   "metadata": {},
   "source": [
    "### Code"
   ]
  },
  {
   "cell_type": "code",
   "execution_count": 125,
   "metadata": {},
   "outputs": [],
   "source": [
    "top_dog.prediction_1 = top_dog.prediction_1.str.replace('_', '-')"
   ]
  },
  {
   "cell_type": "markdown",
   "metadata": {},
   "source": [
    "### Test"
   ]
  },
  {
   "cell_type": "code",
   "execution_count": 126,
   "metadata": {},
   "outputs": [
    {
     "data": {
      "text/plain": [
       "1701    Soft-Coated-Wheaten-Terrier\n",
       "1929                     Toy-Poodle\n",
       "2201                       Ski-Mask\n",
       "2273                     Toy-Poodle\n",
       "795                   Shopping-Cart\n",
       "823                     Boston-Bull\n",
       "1320                Tibetan-Mastiff\n",
       "2205                       Pekinese\n",
       "1508                     Bloodhound\n",
       "752                  Cocker-Spaniel\n",
       "1635    Soft-Coated-Wheaten-Terrier\n",
       "1620                  Border-Collie\n",
       "2136                          Snail\n",
       "1959                          Teddy\n",
       "378                 German-Shepherd\n",
       "Name: prediction_1, dtype: object"
      ]
     },
     "execution_count": 126,
     "metadata": {},
     "output_type": "execute_result"
    }
   ],
   "source": [
    "# When running a few different samples, the underscores should be replaced with hyphens\n",
    "top_dog.prediction_1.sample(15)"
   ]
  },
  {
   "cell_type": "markdown",
   "metadata": {},
   "source": [
    "## Quality issue 12\n",
    "### Define\n",
    "The BeautifulSoup will be imported to help clean up the HTML code from the 'source column. This will only leave the text makes it easier to read the source of the text and perform analysis. "
   ]
  },
  {
   "cell_type": "markdown",
   "metadata": {},
   "source": [
    "### Code"
   ]
  },
  {
   "cell_type": "code",
   "execution_count": 127,
   "metadata": {},
   "outputs": [],
   "source": [
    "from bs4 import BeautifulSoup"
   ]
  },
  {
   "cell_type": "code",
   "execution_count": 128,
   "metadata": {},
   "outputs": [],
   "source": [
    "top_dog['source'] = [BeautifulSoup(text).get_text() for text in top_dog['source']]"
   ]
  },
  {
   "cell_type": "markdown",
   "metadata": {},
   "source": [
    "### Test"
   ]
  },
  {
   "cell_type": "code",
   "execution_count": 129,
   "metadata": {},
   "outputs": [
    {
     "data": {
      "text/plain": [
       "Twitter for iPhone    1946\n",
       "Twitter Web Client      28\n",
       "TweetDeck                9\n",
       "Name: source, dtype: int64"
      ]
     },
     "execution_count": 129,
     "metadata": {},
     "output_type": "execute_result"
    }
   ],
   "source": [
    "top_dog.source.value_counts()"
   ]
  },
  {
   "cell_type": "markdown",
   "metadata": {},
   "source": [
    "## Quality isssue 2 reiterate\n",
    "### Define\n",
    "The goal is to make the timestamp column into a datatype that will be easier to work with and that will enable analysis between another variable. This process will involve converting the datatype back into a string. Since the only time components that may be used in the analysis are the year, month, and day, the rest of the date portion will be stripped using string slicing. The datatype will then be reconverted back to a datetime data type."
   ]
  },
  {
   "cell_type": "markdown",
   "metadata": {},
   "source": [
    "### Code"
   ]
  },
  {
   "cell_type": "code",
   "execution_count": 130,
   "metadata": {},
   "outputs": [],
   "source": [
    "# Converting back to string format\n",
    "top_dog.timestamp = top_dog.timestamp.astype(str)"
   ]
  },
  {
   "cell_type": "code",
   "execution_count": 131,
   "metadata": {},
   "outputs": [
    {
     "name": "stdout",
     "output_type": "stream",
     "text": [
      "<class 'pandas.core.frame.DataFrame'>\n",
      "Int64Index: 1983 entries, 0 to 2355\n",
      "Data columns (total 15 columns):\n",
      " #   Column             Non-Null Count  Dtype  \n",
      "---  ------             --------------  -----  \n",
      " 0   tweet_id           1983 non-null   object \n",
      " 1   timestamp          1983 non-null   object \n",
      " 2   source             1983 non-null   object \n",
      " 3   text               1983 non-null   object \n",
      " 4   expanded_urls      1983 non-null   object \n",
      " 5   name               1983 non-null   object \n",
      " 6   jpg_url            1983 non-null   object \n",
      " 7   img_num            1983 non-null   float64\n",
      " 8   prediction_1       1983 non-null   object \n",
      " 9   prediction_1_conf  1983 non-null   float64\n",
      " 10  prediction_1_dog   1983 non-null   object \n",
      " 11  favorites_count    1983 non-null   float64\n",
      " 12  retweets_count     1983 non-null   float64\n",
      " 13  dog_stages         324 non-null    object \n",
      " 14  dog_ratings        1983 non-null   float64\n",
      "dtypes: float64(5), object(10)\n",
      "memory usage: 247.9+ KB\n"
     ]
    }
   ],
   "source": [
    "top_dog.info()"
   ]
  },
  {
   "cell_type": "code",
   "execution_count": 132,
   "metadata": {},
   "outputs": [],
   "source": [
    "# Using string slicing to select a substring of the timestamp element\n",
    "top_dog['timestamp'] = top_dog['timestamp'].str[:10]"
   ]
  },
  {
   "cell_type": "code",
   "execution_count": 133,
   "metadata": {},
   "outputs": [
    {
     "data": {
      "text/plain": [
       "1401    2016-02-16\n",
       "1724    2015-12-24\n",
       "1593    2016-01-11\n",
       "1597    2016-01-10\n",
       "880     2016-08-02\n",
       "Name: timestamp, dtype: object"
      ]
     },
     "execution_count": 133,
     "metadata": {},
     "output_type": "execute_result"
    }
   ],
   "source": [
    "top_dog.timestamp.sample(5)"
   ]
  },
  {
   "cell_type": "code",
   "execution_count": 134,
   "metadata": {},
   "outputs": [],
   "source": [
    "# Converting the data type from a string back to datetime\n",
    "top_dog['timestamp'] = pd.to_datetime(top_dog['timestamp'])"
   ]
  },
  {
   "cell_type": "markdown",
   "metadata": {},
   "source": [
    "### Test"
   ]
  },
  {
   "cell_type": "code",
   "execution_count": 135,
   "metadata": {},
   "outputs": [
    {
     "data": {
      "text/plain": [
       "1956   2015-12-06\n",
       "781    2016-09-13\n",
       "2146   2015-11-26\n",
       "1183   2016-04-09\n",
       "1812   2015-12-15\n",
       "Name: timestamp, dtype: datetime64[ns]"
      ]
     },
     "execution_count": 135,
     "metadata": {},
     "output_type": "execute_result"
    }
   ],
   "source": [
    "top_dog.timestamp.sample(5)"
   ]
  },
  {
   "cell_type": "code",
   "execution_count": 136,
   "metadata": {},
   "outputs": [
    {
     "name": "stdout",
     "output_type": "stream",
     "text": [
      "<class 'pandas.core.frame.DataFrame'>\n",
      "Int64Index: 1983 entries, 0 to 2355\n",
      "Data columns (total 15 columns):\n",
      " #   Column             Non-Null Count  Dtype         \n",
      "---  ------             --------------  -----         \n",
      " 0   tweet_id           1983 non-null   object        \n",
      " 1   timestamp          1983 non-null   datetime64[ns]\n",
      " 2   source             1983 non-null   object        \n",
      " 3   text               1983 non-null   object        \n",
      " 4   expanded_urls      1983 non-null   object        \n",
      " 5   name               1983 non-null   object        \n",
      " 6   jpg_url            1983 non-null   object        \n",
      " 7   img_num            1983 non-null   float64       \n",
      " 8   prediction_1       1983 non-null   object        \n",
      " 9   prediction_1_conf  1983 non-null   float64       \n",
      " 10  prediction_1_dog   1983 non-null   object        \n",
      " 11  favorites_count    1983 non-null   float64       \n",
      " 12  retweets_count     1983 non-null   float64       \n",
      " 13  dog_stages         324 non-null    object        \n",
      " 14  dog_ratings        1983 non-null   float64       \n",
      "dtypes: datetime64[ns](1), float64(5), object(9)\n",
      "memory usage: 247.9+ KB\n"
     ]
    }
   ],
   "source": [
    "top_dog.info()"
   ]
  },
  {
   "cell_type": "code",
   "execution_count": 137,
   "metadata": {},
   "outputs": [],
   "source": [
    "# Saving cleaned dataframe to a csv file\n",
    "top_dog.to_csv('cleaned_top_dog.csv', index= False)"
   ]
  },
  {
   "cell_type": "code",
   "execution_count": 138,
   "metadata": {},
   "outputs": [],
   "source": [
    "# Opening the cleaned dataframe as df and using the parse_dates parameter to have timestamp column load as datetime data type\n",
    "df = pd.read_csv('cleaned_top_dog.csv', parse_dates = ['timestamp'])"
   ]
  },
  {
   "cell_type": "code",
   "execution_count": 140,
   "metadata": {},
   "outputs": [
    {
     "name": "stdout",
     "output_type": "stream",
     "text": [
      "<class 'pandas.core.frame.DataFrame'>\n",
      "RangeIndex: 1983 entries, 0 to 1982\n",
      "Data columns (total 15 columns):\n",
      " #   Column             Non-Null Count  Dtype         \n",
      "---  ------             --------------  -----         \n",
      " 0   tweet_id           1983 non-null   int64         \n",
      " 1   timestamp          1983 non-null   datetime64[ns]\n",
      " 2   source             1983 non-null   object        \n",
      " 3   text               1983 non-null   object        \n",
      " 4   expanded_urls      1983 non-null   object        \n",
      " 5   name               1983 non-null   object        \n",
      " 6   jpg_url            1983 non-null   object        \n",
      " 7   img_num            1983 non-null   float64       \n",
      " 8   prediction_1       1983 non-null   object        \n",
      " 9   prediction_1_conf  1983 non-null   float64       \n",
      " 10  prediction_1_dog   1983 non-null   bool          \n",
      " 11  favorites_count    1983 non-null   float64       \n",
      " 12  retweets_count     1983 non-null   float64       \n",
      " 13  dog_stages         324 non-null    object        \n",
      " 14  dog_ratings        1983 non-null   float64       \n",
      "dtypes: bool(1), datetime64[ns](1), float64(5), int64(1), object(7)\n",
      "memory usage: 219.0+ KB\n"
     ]
    }
   ],
   "source": [
    "df.info()"
   ]
  },
  {
   "cell_type": "markdown",
   "metadata": {},
   "source": [
    "## Part 4 & 5. Data Exploration and analysis"
   ]
  },
  {
   "cell_type": "code",
   "execution_count": 141,
   "metadata": {},
   "outputs": [
    {
     "data": {
      "text/plain": [
       "pupper     223\n",
       "doggo       71\n",
       "puppo       27\n",
       "floofer      3\n",
       "Name: dog_stages, dtype: int64"
      ]
     },
     "execution_count": 141,
     "metadata": {},
     "output_type": "execute_result"
    }
   ],
   "source": [
    "# Exploring data related to the dog_stages column\n",
    "df.dog_stages.value_counts()"
   ]
  },
  {
   "cell_type": "code",
   "execution_count": 142,
   "metadata": {},
   "outputs": [
    {
     "data": {
      "image/png": "[encoded data removed]",
      "text/plain": [
       "<Figure size 432x288 with 1 Axes>"
      ]
     },
     "metadata": {
      "needs_background": "light"
     },
     "output_type": "display_data"
    }
   ],
   "source": [
    "# Creating a bar chart to visually inspect which dog stage that was documented is the most common\n",
    "chosen_color = sn.color_palette()[4]\n",
    "order1 = df['dog_stages'].value_counts().index\n",
    "sn.countplot(data = df, x = 'dog_stages', color = chosen_color, order = order1);\n",
    "plt.title('Most Popular Dog Stage');"
   ]
  },
  {
   "cell_type": "markdown",
   "metadata": {},
   "source": [
    "* Of those dogs with a dog stage documented, the puppper stage had the highest frequency of occurrences with floofer having the lowest at only three."
   ]
  },
  {
   "cell_type": "code",
   "execution_count": 143,
   "metadata": {},
   "outputs": [
    {
     "data": {
      "text/plain": [
       "True     1468\n",
       "False     515\n",
       "Name: prediction_1_dog, dtype: int64"
      ]
     },
     "execution_count": 143,
     "metadata": {},
     "output_type": "execute_result"
    }
   ],
   "source": [
    "# Finding out what the most common dog breed in the dataset is by selecting only rows where the prediction_1_dog column is true\n",
    "df.prediction_1_dog.value_counts()"
   ]
  },
  {
   "cell_type": "code",
   "execution_count": 144,
   "metadata": {},
   "outputs": [],
   "source": [
    "# Creating another dataframe by only selecting only rows where the value is True in the prediction_1_dog column\n",
    "df_breed = df.query('prediction_1_dog == True')"
   ]
  },
  {
   "cell_type": "code",
   "execution_count": 145,
   "metadata": {},
   "outputs": [
    {
     "data": {
      "text/plain": [
       "Golden-Retriever      138\n",
       "Labrador-Retriever     93\n",
       "Pembroke               88\n",
       "Chihuahua              79\n",
       "Pug                    54\n",
       "                     ... \n",
       "Scotch-Terrier          1\n",
       "Japanese-Spaniel        1\n",
       "Silky-Terrier           1\n",
       "Standard-Schnauzer      1\n",
       "Clumber                 1\n",
       "Name: prediction_1, Length: 111, dtype: int64"
      ]
     },
     "execution_count": 145,
     "metadata": {},
     "output_type": "execute_result"
    }
   ],
   "source": [
    "# Founding out the most common dog breeds\n",
    "df_breed.prediction_1.value_counts()"
   ]
  },
  {
   "cell_type": "markdown",
   "metadata": {},
   "source": [
    "Suppose someone was looking to adopt a dog, and they are having an overly tough time choosing the desired breed. One suggestion could be to look at the top 15 dog breeds in this dataset. In order to do this, a horizontal bar chart with the dog breed would probably yield the greatest insight to fulfill this suggestion."
   ]
  },
  {
   "cell_type": "code",
   "execution_count": 146,
   "metadata": {},
   "outputs": [
    {
     "data": {
      "image/png": "[encoded data removed]",
      "text/plain": [
       "<Figure size 432x288 with 1 Axes>"
      ]
     },
     "metadata": {
      "needs_background": "light"
     },
     "output_type": "display_data"
    }
   ],
   "source": [
    "# Creating the horizontal bar chart\n",
    "suggested_order = df_breed['prediction_1'].value_counts().head(15).index\n",
    "bc = sn.color_palette()[3]\n",
    "sn.countplot(data = df_breed, y = 'prediction_1', color = bc, order = suggested_order);\n",
    "plt.ylabel('Dog Breed')\n",
    "plt.title('Fifteen Most Common Dog Breeds');"
   ]
  },
  {
   "cell_type": "markdown",
   "metadata": {},
   "source": [
    "* It looks like the Retriever breeds are top dog when it comes popularity.\n",
    "* Smaller dog breeds also appear to be a popular breed choice, Chihuahua and Toy-Poodle being in the top 10. \n",
    "* It can be surprising German-Shepherds are not higher up on the list.\n",
    "* Another surprise finding is that Pit Bulls are not within this top 15 list.\n",
    "* Let us look at the 15 least popular dog breeds. "
   ]
  },
  {
   "cell_type": "code",
   "execution_count": 147,
   "metadata": {},
   "outputs": [
    {
     "data": {
      "image/png": "[encoded data removed]",
      "text/plain": [
       "<Figure size 432x288 with 1 Axes>"
      ]
     },
     "metadata": {
      "needs_background": "light"
     },
     "output_type": "display_data"
    }
   ],
   "source": [
    "least_popular = df_breed['prediction_1'].value_counts().tail(15).index\n",
    "sn.countplot(data = df_breed, y = 'prediction_1', color = bc, order = least_popular);\n",
    "plt.ylabel('Dog Breed')\n",
    "plt.title('Fifteen Least Common Dog Breeds');"
   ]
  },
  {
   "cell_type": "markdown",
   "metadata": {},
   "source": [
    "* It should not be suggested that these are breeds to stay away from. More than likely these could be rarer dog breeds that are more difficult to encounter. \n",
    "* It could be noted that some of these breeds are probably unknown to many current and future dog owners. "
   ]
  },
  {
   "cell_type": "markdown",
   "metadata": {},
   "source": [
    "When it comes to naming ones best friend, some may choose a more popular name, whereas others may want to choose a more unique name. A horizonatal bar chart depicting the 30 most popular names will be presented. One could could possibly use this list to help them find a name for their pet or which names to stay away from."
   ]
  },
  {
   "cell_type": "code",
   "execution_count": 148,
   "metadata": {},
   "outputs": [
    {
     "data": {
      "text/plain": [
       "None       643\n",
       "Oliver      10\n",
       "Cooper      10\n",
       "Charlie     10\n",
       "Tucker       9\n",
       "Lucy         9\n",
       "Penny        9\n",
       "Winston      8\n",
       "Sadie        8\n",
       "Lola         7\n",
       "Toby         7\n",
       "Daisy        7\n",
       "Koda         6\n",
       "Bella        6\n",
       "Bo           6\n",
       "Stanley      6\n",
       "Jax          6\n",
       "Oscar        5\n",
       "Chester      5\n",
       "Bailey       5\n",
       "Milo         5\n",
       "Louis        5\n",
       "Dave         5\n",
       "Buddy        5\n",
       "Scout        5\n",
       "Leo          5\n",
       "Rusty        5\n",
       "Bentley      4\n",
       "Archie       4\n",
       "Jack         4\n",
       "Name: name, dtype: int64"
      ]
     },
     "execution_count": 148,
     "metadata": {},
     "output_type": "execute_result"
    }
   ],
   "source": [
    "df.name.value_counts().head(30)"
   ]
  },
  {
   "cell_type": "markdown",
   "metadata": {},
   "source": [
    "It is safe to say that most anyone would probably not name their dog 'None'. This value could have been changed to a Nan value to represent a null value, but it was decided to leave it as 'None'. This is an easy fix. A dataframe consisting of rows that do not have the name 'None' will be constructed. From there, a horizontal bar chart will be plotted."
   ]
  },
  {
   "cell_type": "code",
   "execution_count": 149,
   "metadata": {},
   "outputs": [],
   "source": [
    "# Creating the dataframe with a sub-selection of the data\n",
    "df_name = df.query('name != \"None\"')"
   ]
  },
  {
   "cell_type": "code",
   "execution_count": 150,
   "metadata": {},
   "outputs": [
    {
     "data": {
      "text/plain": [
       "1340"
      ]
     },
     "execution_count": 150,
     "metadata": {},
     "output_type": "execute_result"
    }
   ],
   "source": [
    "# Should have only 1340 rows\n",
    "df_name.shape[0]"
   ]
  },
  {
   "cell_type": "code",
   "execution_count": 151,
   "metadata": {},
   "outputs": [
    {
     "data": {
      "image/png": "[encoded data removed]",
      "text/plain": [
       "<Figure size 360x576 with 1 Axes>"
      ]
     },
     "metadata": {
      "needs_background": "light"
     },
     "output_type": "display_data"
    }
   ],
   "source": [
    "plt.figure(figsize = (5, 8))\n",
    "common_name_order = df_name.name.value_counts().head(30).index\n",
    "sn.countplot(data = df_name, y = 'name', color = bc, order = common_name_order)\n",
    "plt.ylabel('Dog Name')\n",
    "plt.title('Top 30 Most Common Dog Names');"
   ]
  },
  {
   "cell_type": "markdown",
   "metadata": {},
   "source": [
    "* The names Charlie, Oliver, and Cooper round out the top 10, with name belonging to 10 different dogs in this dataset.\n",
    "* This probably is not big enough of a data set to warrant further investigating to see if more popular dog names begin with a certain letter or if there is a preferred length for a dog name."
   ]
  },
  {
   "cell_type": "markdown",
   "metadata": {},
   "source": [
    "Examining the relationship between favorites_count and retweets_count."
   ]
  },
  {
   "cell_type": "code",
   "execution_count": 152,
   "metadata": {},
   "outputs": [
    {
     "data": {
      "text/plain": [
       "Text(0.5, 1.0, 'Shares vs Likes')"
      ]
     },
     "execution_count": 152,
     "metadata": {},
     "output_type": "execute_result"
    },
    {
     "data": {
      "image/png": "[encoded data removed]",
      "text/plain": [
       "<Figure size 432x288 with 1 Axes>"
      ]
     },
     "metadata": {
      "needs_background": "light"
     },
     "output_type": "display_data"
    }
   ],
   "source": [
    "# Creating a scatterplot between the two quantitative variables (favorites_count and retweets_count)\n",
    "plt.scatter(data = df, x='favorites_count', y = 'retweets_count', color = bc, alpha = 1/5);\n",
    "plt.xlabel('Number of likes')\n",
    "plt.ylabel('Number of shares')\n",
    "plt.title('Shares vs Likes')"
   ]
  },
  {
   "cell_type": "code",
   "execution_count": 159,
   "metadata": {},
   "outputs": [
    {
     "data": {
      "image/png": "[encoded data removed]",
      "text/plain": [
       "<Figure size 720x720 with 2 Axes>"
      ]
     },
     "metadata": {
      "needs_background": "light"
     },
     "output_type": "display_data"
    }
   ],
   "source": [
    "plt.figure(figsize =(10, 10))\n",
    "sn.heatmap(df[['favorites_count', 'retweets_count', 'dog_ratings', 'jpg_url']].corr(), annot = True, fmt = '.1g', cmap = 'Greens')\n",
    "plt.title('Correlation Heat Map');"
   ]
  },
  {
   "cell_type": "markdown",
   "metadata": {},
   "source": [
    "* The 0.9 indicates the strongest positive correlation (darker shade of green indicates a stronger correlation) is between the number of likes and number of shares a dog gets.\n",
    "This is also evident in the scatterplot displayed above the heat map.\n",
    "* There is a moderate positive correlation between a dog's ratings and favorites_count (number of likes) at 0.4.\n",
    "* A weak positive correlation between a dogs ratings and retweets_count (number of times shared) at 0.3."
   ]
  },
  {
   "cell_type": "code",
   "execution_count": 160,
   "metadata": {},
   "outputs": [
    {
     "data": {
      "text/plain": [
       "count    1983.000000\n",
       "mean        1.054917\n",
       "std         0.217904\n",
       "min         0.000000\n",
       "25%         1.000000\n",
       "50%         1.100000\n",
       "75%         1.200000\n",
       "max         1.400000\n",
       "Name: dog_ratings, dtype: float64"
      ]
     },
     "execution_count": 160,
     "metadata": {},
     "output_type": "execute_result"
    }
   ],
   "source": [
    "df.dog_ratings.describe()"
   ]
  },
  {
   "cell_type": "code",
   "execution_count": 161,
   "metadata": {},
   "outputs": [
    {
     "data": {
      "text/plain": [
       "1.2    452\n",
       "1.0    421\n",
       "1.1    405\n",
       "1.3    258\n",
       "0.9    151\n",
       "0.8     95\n",
       "0.7     51\n",
       "1.4     36\n",
       "0.5     33\n",
       "0.6     32\n",
       "0.3     19\n",
       "0.4     15\n",
       "0.2      9\n",
       "0.1      4\n",
       "0.0      2\n",
       "Name: dog_ratings, dtype: int64"
      ]
     },
     "execution_count": 161,
     "metadata": {},
     "output_type": "execute_result"
    }
   ],
   "source": [
    "df.dog_ratings.value_counts()"
   ]
  },
  {
   "cell_type": "code",
   "execution_count": 162,
   "metadata": {},
   "outputs": [
    {
     "data": {
      "image/png": "[encoded data removed]",
      "text/plain": [
       "<Figure size 504x360 with 1 Axes>"
      ]
     },
     "metadata": {
      "needs_background": "light"
     },
     "output_type": "display_data"
    }
   ],
   "source": [
    "# Creating a histogram depicting the distribution of dog ratings\n",
    "plt.figure(figsize=(7, 5))\n",
    "plt.hist(df['dog_ratings'], bins = 15, color = 'black')\n",
    "plt.ylabel('Number of dogs', fontsize=15)\n",
    "plt.xlabel('Dog rating', fontsize = 15)\n",
    "plt.title('Frequency of Dog Ratings', fontsize=18);\n"
   ]
  },
  {
   "cell_type": "markdown",
   "metadata": {},
   "source": [
    "Most ratings are clustered on the right side resulting in a negatively skewed distribution. Fifty percent of the ratings fall within the interquartile range which are ratings from 1.0 to 1.2. The median is at 1.1, mean at 1.055 and the mode at 1.2. A typical pattern in a negatively skewed (left skewed) distribution is the mode is greater than the median, and the median greater than the mean."
   ]
  },
  {
   "cell_type": "code",
   "execution_count": 166,
   "metadata": {},
   "outputs": [],
   "source": [
    "# Creating a list of the 15 top dog breeds using the dataframe created where only the dog prediction was true\n",
    "# This list will be used to gather some statistics and create some plots down below\n",
    "top_15 = list(df_breed['prediction_1'].value_counts().head(15).index)"
   ]
  },
  {
   "cell_type": "code",
   "execution_count": 164,
   "metadata": {},
   "outputs": [
    {
     "data": {
      "text/plain": [
       "['Golden-Retriever',\n",
       " 'Labrador-Retriever',\n",
       " 'Pembroke',\n",
       " 'Chihuahua',\n",
       " 'Pug',\n",
       " 'Chow',\n",
       " 'Samoyed',\n",
       " 'Pomeranian',\n",
       " 'Toy-Poodle',\n",
       " 'Malamute',\n",
       " 'Cocker-Spaniel',\n",
       " 'French-Bulldog',\n",
       " 'Chesapeake-Bay-Retriever',\n",
       " 'Miniature-Pinscher',\n",
       " 'German-Shepherd']"
      ]
     },
     "execution_count": 164,
     "metadata": {},
     "output_type": "execute_result"
    }
   ],
   "source": [
    "top_15"
   ]
  },
  {
   "cell_type": "code",
   "execution_count": 167,
   "metadata": {},
   "outputs": [
    {
     "data": {
      "text/plain": [
       "prediction_1\n",
       "Golden-Retriever            0.5\n",
       "Labrador-Retriever          0.7\n",
       "Pembroke                    0.4\n",
       "Chihuahua                   0.3\n",
       "Pug                         0.3\n",
       "Chow                        1.0\n",
       "Samoyed                     0.7\n",
       "Pomeranian                  1.0\n",
       "Toy-Poodle                  0.9\n",
       "Malamute                    0.8\n",
       "Cocker-Spaniel              0.9\n",
       "French-Bulldog              0.8\n",
       "Chesapeake-Bay-Retriever    0.8\n",
       "Miniature-Pinscher          0.5\n",
       "German-Shepherd             0.8\n",
       "Name: dog_ratings, dtype: float64"
      ]
     },
     "execution_count": 167,
     "metadata": {},
     "output_type": "execute_result"
    }
   ],
   "source": [
    "df_breed.groupby('prediction_1')['dog_ratings'].min()[top_15]"
   ]
  },
  {
   "cell_type": "code",
   "execution_count": 168,
   "metadata": {},
   "outputs": [
    {
     "data": {
      "text/plain": [
       "prediction_1\n",
       "Golden-Retriever            1.4\n",
       "Labrador-Retriever          1.3\n",
       "Pembroke                    1.4\n",
       "Chihuahua                   1.4\n",
       "Pug                         1.3\n",
       "Chow                        1.3\n",
       "Samoyed                     1.4\n",
       "Pomeranian                  1.4\n",
       "Toy-Poodle                  1.3\n",
       "Malamute                    1.3\n",
       "Cocker-Spaniel              1.3\n",
       "French-Bulldog              1.4\n",
       "Chesapeake-Bay-Retriever    1.3\n",
       "Miniature-Pinscher          1.2\n",
       "German-Shepherd             1.3\n",
       "Name: dog_ratings, dtype: float64"
      ]
     },
     "execution_count": 168,
     "metadata": {},
     "output_type": "execute_result"
    }
   ],
   "source": [
    "df_breed.groupby('prediction_1')['dog_ratings'].max()[top_15]"
   ]
  },
  {
   "cell_type": "code",
   "execution_count": 169,
   "metadata": {},
   "outputs": [
    {
     "data": {
      "text/plain": [
       "prediction_1\n",
       "Golden-Retriever            1.20\n",
       "Labrador-Retriever          1.10\n",
       "Pembroke                    1.20\n",
       "Chihuahua                   1.10\n",
       "Pug                         1.00\n",
       "Chow                        1.20\n",
       "Samoyed                     1.20\n",
       "Pomeranian                  1.10\n",
       "Toy-Poodle                  1.10\n",
       "Malamute                    1.10\n",
       "Cocker-Spaniel              1.20\n",
       "French-Bulldog              1.20\n",
       "Chesapeake-Bay-Retriever    1.00\n",
       "Miniature-Pinscher          1.10\n",
       "German-Shepherd             1.15\n",
       "Name: dog_ratings, dtype: float64"
      ]
     },
     "execution_count": 169,
     "metadata": {},
     "output_type": "execute_result"
    }
   ],
   "source": [
    "df_breed.groupby('prediction_1')['dog_ratings'].median()[top_15]"
   ]
  },
  {
   "cell_type": "code",
   "execution_count": 165,
   "metadata": {},
   "outputs": [
    {
     "data": {
      "image/png": "[encoded data removed]",
      "text/plain": [
       "<Figure size 432x720 with 1 Axes>"
      ]
     },
     "metadata": {
      "needs_background": "light"
     },
     "output_type": "display_data"
    }
   ],
   "source": [
    "# Creating violinplots displaying ratings by dog breed\n",
    "plt.figure(figsize = (6, 10))\n",
    "sn.violinplot(data =df, y='prediction_1', x = 'dog_ratings', order = top_15, color = 'pink');\n",
    "plt.ylabel('Dog Breed')\n",
    "plt.xlabel('Dog Rating')\n",
    "plt.title('Dog Ratings Grouped by Dog Breed', fontsize = 20);"
   ]
  },
  {
   "cell_type": "code",
   "execution_count": 170,
   "metadata": {},
   "outputs": [
    {
     "data": {
      "image/png": "[encoded data removed]",
      "text/plain": [
       "<Figure size 720x720 with 1 Axes>"
      ]
     },
     "metadata": {
      "needs_background": "light"
     },
     "output_type": "display_data"
    }
   ],
   "source": [
    "# Creating boxplots in place of violinplots \n",
    "# Notched boxplots to more easily see where the median dog rating for each dog breed lies\n",
    "plt.figure(figsize = (10, 10))\n",
    "sn.boxplot(data =df, y='prediction_1', x = 'dog_ratings', order = top_15, notch = True, \\\n",
    "          medianprops = dict(linestyle='-', linewidth=2, color='red')) \n",
    "plt.ylabel('Dog Breed')\n",
    "plt.xlabel('Dog Rating')\n",
    "plt.title('Dog Ratings Grouped by Dog Breed', fontsize = 20)\n",
    "plt.xticks(np.arange(0, 1.5, 0.1));"
   ]
  },
  {
   "cell_type": "markdown",
   "metadata": {},
   "source": [
    "* When examining the ratings for the top 15 dog breeds, 2/3 have an IQR from 1.0 to 1.2.  \n",
    "* The red lines within the boxplots demonstrate that some dog breeds have dog rating distributions that are positively or negatively skewed. An example is the negatively skewed distribution of dog ratings for Golden-Retrievers.\n",
    "* The top five dog breeds do have outliers towards lower ratings.\n",
    "* Two thirds of dog breeds have a minimum of 0.9 or less\n",
    "* All dog breeds except for the Miniature-Pinscher have a maximum of 1.3 or greater\n",
    "* The chart above shows the top 15 dog breeds generally appear to have favorable  dog ratings with some outliers leaning towards less favorable  ratings. "
   ]
  },
  {
   "cell_type": "code",
   "execution_count": 186,
   "metadata": {},
   "outputs": [],
   "source": [
    "# Creating a list of the 15 least common dog breeds to be used in the boxplot below\n",
    "bottom_15 = list(df_breed['prediction_1'].value_counts().tail(15).index)"
   ]
  },
  {
   "cell_type": "code",
   "execution_count": 188,
   "metadata": {},
   "outputs": [
    {
     "data": {
      "text/plain": [
       "['Greater-Swiss-Mountain-Dog',\n",
       " 'Brabancon-Griffon',\n",
       " 'Toy-Terrier',\n",
       " 'Australian-Terrier',\n",
       " 'Wire-Haired-Fox-Terrier',\n",
       " 'Sussex-Spaniel',\n",
       " 'Black-And-Tan-Coonhound',\n",
       " 'Appenzeller',\n",
       " 'Entlebucher',\n",
       " 'Groenendael',\n",
       " 'Scotch-Terrier',\n",
       " 'Japanese-Spaniel',\n",
       " 'Silky-Terrier',\n",
       " 'Standard-Schnauzer',\n",
       " 'Clumber']"
      ]
     },
     "execution_count": 188,
     "metadata": {},
     "output_type": "execute_result"
    }
   ],
   "source": [
    "bottom_15"
   ]
  },
  {
   "cell_type": "code",
   "execution_count": 187,
   "metadata": {},
   "outputs": [
    {
     "data": {
      "image/png": "[encoded data removed]",
      "text/plain": [
       "<Figure size 720x720 with 1 Axes>"
      ]
     },
     "metadata": {
      "needs_background": "light"
     },
     "output_type": "display_data"
    }
   ],
   "source": [
    "plt.figure(figsize = (10, 10))\n",
    "sn.boxplot(data =df, y='prediction_1', x = 'dog_ratings', order = bottom_15,    \\\n",
    "          medianprops = dict(linestyle='-', linewidth=2, color='red')) \n",
    "plt.ylabel('Dog Breed')\n",
    "plt.xlabel('Dog Rating')\n",
    "plt.title('Dog Ratings Grouped by Dog Breed', fontsize = 20)\n",
    "plt.xticks(np.arange(0, 1.5, 0.1));"
   ]
  },
  {
   "cell_type": "markdown",
   "metadata": {},
   "source": [
    "When looking at the dog rating distributions for the 15 least common dog breeds, we do not see similar patterns in comparison to the top 15 most common dog breeds. This most likely has to do with the fact if there are few counts of a dog breed, there will be fewer dog ratings to observe and thus may not really infer any useful statistics. "
   ]
  },
  {
   "cell_type": "code",
   "execution_count": 189,
   "metadata": {},
   "outputs": [
    {
     "data": {
      "text/plain": [
       "Twitter for iPhone    1946\n",
       "Twitter Web Client      28\n",
       "TweetDeck                9\n",
       "Name: source, dtype: int64"
      ]
     },
     "execution_count": 189,
     "metadata": {},
     "output_type": "execute_result"
    }
   ],
   "source": [
    "df.source.value_counts()"
   ]
  },
  {
   "cell_type": "code",
   "execution_count": 190,
   "metadata": {},
   "outputs": [
    {
     "data": {
      "image/png": "[encoded data removed]",
      "text/plain": [
       "<Figure size 504x504 with 1 Axes>"
      ]
     },
     "metadata": {},
     "output_type": "display_data"
    }
   ],
   "source": [
    "# Creating a pie chart to visualize the app or source was used to tweet.\n",
    "plt.figure(figsize = (7, 7))\n",
    "sorted_counts = df['source'].value_counts()\n",
    "plt.pie(sorted_counts,startangle = 90, counterclock = False)\n",
    "explode = (0, 0, 1, 2)\n",
    "plt.axis('square')\n",
    "plt.legend(sorted_counts.index)\n",
    "plt.title('The Most Common App Used');"
   ]
  },
  {
   "cell_type": "markdown",
   "metadata": {},
   "source": [
    "Twitter for iPhone is clearly the most common app used when compared to Tweeter Web Client and TweetDeck."
   ]
  },
  {
   "cell_type": "markdown",
   "metadata": {},
   "source": [
    "### Resources\n",
    "* https://stackoverflow.com/questions/51898826/converting-object-column-in-pandas-dataframe-to-datetime\n",
    "* https://stackoverflow.com/questions/29902714/print-very-long-string-completely-in-pandas-dataframe\n",
    "* https://kanoki.org/2019/11/12/how-to-use-regex-in-pandas/\n",
    "* https://stackoverflow.com/questions/24775648/element-wise-logical-or-in-pandas\n",
    "* https://stackoverflow.com/questions/32072076/find-the-unique-values-in-a-column-and-then-sort-them\n",
    "* https://thispointer.com/pandas-apply-a-function-to-single-or-selected-columns-or-rows-in-dataframe/\n",
    "* https://pandas.pydata.org/pandas-docs/stable/user_guide/options.html\n",
    "* https://stackoverflow.com/questions/43269548/pandas-how-to-remove-rows-from-a-dataframe-based-on-a-list\n",
    "* https://stackoverflow.com/questions/49291740/delete-rows-if-there-are-null-values-in-a-specific-column-in-pandas-dataframe\n",
    "* https://stackoverflow.com/questions/11854847/how-can-i-display-an-image-from-a-file-in-jupyter-notebook\n",
    "* https://pandas.pydata.org/docs/getting_started/intro_tutorials/05_add_columns.html\n",
    "* https://stackoverflow.com/questions/11346283/renaming-columns-in-pandas\n",
    "* https://pandas.pydata.org/pandas-docs/stable/reference/api/pandas.Series.str.isupper.html\n",
    "* https://stackoverflow.com/questions/44703945/pandas-trouble-stripping-html-tags-from-dataframe-column\n",
    "* https://stackoverflow.com/questions/49733918/how-to-keep-the-same-datatype-after-saving-data-to-csv-file\n",
    "* https://heartbeat.fritz.ai/seaborn-heatmaps-13-ways-to-customize-correlation-matrix-visualizations-f1c49c816f07\n",
    "* https://github.com/mGalarnyk/Python_Tutorials/blob/master/Statistics/boxplot/Box_plot_interpretation.ipynb"
   ]
  },
  {
   "cell_type": "markdown",
   "metadata": {},
   "source": [
    "### Intermission for this notebook. "
   ]
  },
  {
   "cell_type": "code",
   "execution_count": null,
   "metadata": {},
   "outputs": [],
   "source": []
  }
 ],
 "metadata": {
  "kernelspec": {
   "display_name": "Python 3",
   "language": "python",
   "name": "python3"
  },
  "language_info": {
   "codemirror_mode": {
    "name": "ipython",
    "version": 3
   },
   "file_extension": ".py",
   "mimetype": "text/x-python",
   "name": "python",
   "nbconvert_exporter": "python",
   "pygments_lexer": "ipython3",
   "version": "3.6.3"
  }
 },
 "nbformat": 4,
 "nbformat_minor": 2
}
